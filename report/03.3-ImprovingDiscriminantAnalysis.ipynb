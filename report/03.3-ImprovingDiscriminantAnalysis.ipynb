{
 "cells": [
  {
   "cell_type": "markdown",
   "id": "935c3a94-0ec7-4e71-aadd-1a3dc7a10135",
   "metadata": {},
   "source": [
    "# Improving Discriminant Analysis"
   ]
  },
  {
   "cell_type": "markdown",
   "id": "3770f181-3f9e-4e2b-9b15-160dcdd80a9a",
   "metadata": {},
   "source": [
    "Now, we investigate ways to improve our discriminant analysis models, including cross-validation and Regularised Discriminant Analyis, the latter of which was discussed previously.\n",
    "First, we import and pre-process the data into this noteobook. (this code is repeated from before)"
   ]
  },
  {
   "cell_type": "code",
   "execution_count": 1,
   "id": "5ac2a5d7-82a3-41ae-b4ce-64eed430c8ed",
   "metadata": {},
   "outputs": [],
   "source": [
    "# pip install -r requirements.txt # This can be used to install the necessary modules if needed."
   ]
  },
  {
   "cell_type": "markdown",
   "id": "2c146633-ef6f-40e0-b6f4-7fd2548ae00b",
   "metadata": {},
   "source": [
    "## Importing Libraries\n",
    "We need NumPy, Pandas, Seaborn, Matplotlib and various functions from different sub-libraries of the scikit-learn library.\n",
    "\n",
    "Discriminant analysis can only handle numeric inputs, so we must one-hot encode the categorical features in our dataset, using OneHotEncoder from scikit-learn.\n",
    "\n",
    "Also, since LDA and QDA assume that features are normally distributed within each class, we standardise the data using StandardScaler from scikit-learn.\n",
    "\n",
    "We also import the metric functions accuracy_score, confusion_matrix and classification_report which contains all of the relevant metrics (precision, recall, f1-score, support, accuracy) from scikit-learn so that we can evaluate the performance of our classification models. Although classifiiction_score contains the accuracy, we import the accuracy_score function for convenience. Also, we import GridSearchCV from scikit-learn to use cross-validation to tune hyperparameters.\n",
    "\n",
    "Finally, we note that we need to import roc_curve and auc from scikit-learn so that we may compare the performance of our models using receiver-operator curves."
   ]
  },
  {
   "cell_type": "code",
   "execution_count": 2,
   "id": "9912bb29-e88c-4362-bc75-b4db19797a0a",
   "metadata": {},
   "outputs": [],
   "source": [
    "# Importing necessary libraries\n",
    "import numpy as np\n",
    "import pandas as pd\n",
    "from sklearn.preprocessing import OneHotEncoder, StandardScaler\n",
    "from sklearn.discriminant_analysis import LinearDiscriminantAnalysis, QuadraticDiscriminantAnalysis\n",
    "from sklearn.metrics import accuracy_score, confusion_matrix, precision_score, recall_score, f1_score, classification_report, roc_curve, auc\n",
    "from sklearn.model_selection import GridSearchCV\n",
    "import seaborn as sns\n",
    "import matplotlib.pyplot as plt"
   ]
  },
  {
   "cell_type": "markdown",
   "id": "b2da554e-340f-4b17-9be1-6a2c9db85c19",
   "metadata": {},
   "source": [
    "## Loading Training and Test Data"
   ]
  },
  {
   "cell_type": "code",
   "execution_count": 3,
   "id": "178427c0-6939-4970-a2c0-d8be06b8293d",
   "metadata": {},
   "outputs": [
    {
     "data": {
      "text/plain": [
       "(   age         workclass  fnlwgt  education  education-num  \\\n",
       " 0   39         State-gov   77516  Bachelors             13   \n",
       " 1   50  Self-emp-not-inc   83311  Bachelors             13   \n",
       " 2   38           Private  215646    HS-grad              9   \n",
       " 3   53           Private  234721       11th              7   \n",
       " 4   28           Private  338409  Bachelors             13   \n",
       " \n",
       "        marital-status         occupation   relationship   race     sex  \\\n",
       " 0       Never-married       Adm-clerical  Not-in-family  White    Male   \n",
       " 1  Married-civ-spouse    Exec-managerial        Husband  White    Male   \n",
       " 2            Divorced  Handlers-cleaners  Not-in-family  White    Male   \n",
       " 3  Married-civ-spouse  Handlers-cleaners        Husband  Black    Male   \n",
       " 4  Married-civ-spouse     Prof-specialty           Wife  Black  Female   \n",
       " \n",
       "    capital-gain  capital-loss  hours-per-week native-country  \n",
       " 0          2174             0              40  United-States  \n",
       " 1             0             0              13  United-States  \n",
       " 2             0             0              40  United-States  \n",
       " 3             0             0              40  United-States  \n",
       " 4             0             0              40           Cuba  ,\n",
       "   income\n",
       " 0  <=50K\n",
       " 1  <=50K\n",
       " 2  <=50K\n",
       " 3  <=50K\n",
       " 4  <=50K,\n",
       "        age workclass  fnlwgt     education  education-num      marital-status  \\\n",
       " 20156   18   Private  271935       HS-grad              9       Never-married   \n",
       " 28772   67   Private  160456          11th              7             Widowed   \n",
       " 1732    26   Private  314177       HS-grad              9       Never-married   \n",
       " 38871   31   Private  176711       HS-grad              9       Never-married   \n",
       " 27566   56   Private  134286  Some-college             10  Married-civ-spouse   \n",
       " \n",
       "               occupation   relationship   race     sex  capital-gain  \\\n",
       " 20156  Machine-op-inspct      Own-child  White  Female             0   \n",
       " 28772      Other-service  Not-in-family  White  Female             0   \n",
       " 1732               Sales  Not-in-family  Black    Male             0   \n",
       " 38871       Craft-repair  Not-in-family  White    Male             0   \n",
       " 27566    Exec-managerial        Husband  White    Male             0   \n",
       " \n",
       "        capital-loss  hours-per-week native-country  \n",
       " 20156             0              40  United-States  \n",
       " 28772             0              40  United-States  \n",
       " 1732              0              40  United-States  \n",
       " 38871             0              40  United-States  \n",
       " 27566             0              45  United-States  ,\n",
       "       income\n",
       " 20156  <=50K\n",
       " 28772  <=50K\n",
       " 1732   <=50K\n",
       " 38871  <=50K\n",
       " 27566  <=50K)"
      ]
     },
     "execution_count": 3,
     "metadata": {},
     "output_type": "execute_result"
    }
   ],
   "source": [
    "# Load the saved datasets from the CSV files\n",
    "X_train = pd.read_csv(\"../data/X_train.csv\", index_col=0)  # Use the first column as index\n",
    "y_train = pd.read_csv(\"../data/y_train.csv\", index_col=0)  # Use the first column as index\n",
    "X_test = pd.read_csv(\"../data/X_test.csv\", index_col=0)    # Use the first column as index\n",
    "y_test = pd.read_csv(\"../data/y_test.csv\", index_col=0)    # Use the first column as index\n",
    "\n",
    "# Display the first few rows of the loaded datasets\n",
    "(X_train.head(), y_train.head(), X_test.head(), y_test.head())"
   ]
  },
  {
   "cell_type": "markdown",
   "id": "561e980f-010f-4de9-a31d-f8a37c7d5efb",
   "metadata": {},
   "source": [
    "## Pre-processing Data\n",
    "Now, we one-hot encode the categorical columns so that all of the columns are numeric for our models. Next, we convert our data to a dataframe since this is easier to work with. We finish by standardising the data and ensuring the data is in the correct form for our modelling."
   ]
  },
  {
   "cell_type": "code",
   "execution_count": 4,
   "id": "92ccb374-33aa-4f09-8478-b8f5305d1a56",
   "metadata": {},
   "outputs": [],
   "source": [
    "# Separate the numeric and categorical columns\n",
    "categorical_columns = ['workclass', 'education', 'marital-status', 'occupation', 'relationship', 'race', 'sex', 'native-country']\n",
    "numeric_columns = ['age', 'fnlwgt', 'education-num', 'capital-gain', 'capital-loss', 'hours-per-week']\n",
    "\n",
    "# One-hot encode the categorical variables\n",
    "encoder = OneHotEncoder(sparse_output=False, drop='first')\n",
    "\n",
    "X_train_encoded = encoder.fit_transform(X_train[categorical_columns])\n",
    "X_test_encoded = encoder.transform(X_test[categorical_columns])\n",
    "\n",
    "# Convert the encoded categorical variables into DataFrames\n",
    "X_train_encoded = pd.DataFrame(X_train_encoded, columns=encoder.get_feature_names_out(categorical_columns))\n",
    "X_test_encoded = pd.DataFrame(X_test_encoded, columns=encoder.get_feature_names_out(categorical_columns))\n",
    "\n",
    "# Concatenate the numeric columns back with the one-hot encoded categorical columns\n",
    "X_train_full = pd.concat([X_train[numeric_columns].reset_index(drop=True), X_train_encoded.reset_index(drop=True)], axis=1)\n",
    "X_test_full = pd.concat([X_test[numeric_columns].reset_index(drop=True), X_test_encoded.reset_index(drop=True)], axis=1)\n",
    "\n",
    "# Standardize the numerical features\n",
    "scaler = StandardScaler()\n",
    "X_train_scaled = scaler.fit_transform(X_train_full)\n",
    "X_test_scaled = scaler.transform(X_test_full)\n",
    "\n",
    "# Ensure the target variables are flattened arrays\n",
    "y_train_array = y_train['income'].values.ravel()\n",
    "y_test_array = y_test['income'].values.ravel()"
   ]
  },
  {
   "cell_type": "markdown",
   "id": "1749dafc-887c-46d8-aec7-b85dedae1e64",
   "metadata": {},
   "source": [
    "## Regularised Discriminant Analysis\n",
    "We now implement RDA, by fitting the model, then testing our model on the test data. We evaluate the performance of our model using accuracy, the confusion matrix, precision, recall and F1-score.\n",
    "\n",
    "We do so by creating a RegularisedDiscriminantAnalysis class since there is no regularised discriminant analysis class in scikit-learn. We will use this class in the same way as our other models but will omit extra functions which we will not use in our modelling.\n",
    "\n",
    "We use the scikit-learn GitHub file: 'https://github.com/scikit-learn/scikit-learn/blob/main/sklearn/discriminant_analysis.py' and the GitHub file: 'https://github.com/jihoonerd/restricted-discriminant-analysis/blob/main/rda/rda_model.py', using the LinearDiscriminantAnalysis, QuadraticDiscriminantAnalysis and RDA class code to help us define our RegularisedDiscriminantAnalysis class.\n",
    "\n",
    "We will use the RDA() class defined using the BaseEstimator as in the 'rda_model.py' file.\n",
    "\n",
    "The code from the 'rda_model.py' file allows us to initialise variables, fit and predict with our model. We need to set $\\alpha=0$ and the variance variable equal to 0 since we will not use the nearest mean classifier as we have not previously discussed this. The $\\beta$ parameter controls the balance between LDA and QDA for our regularised discriminant analysis. We will use $\\beta=0.5$ to have equal balance of the LDA and QDA but note that this could be optimised."
   ]
  },
  {
   "cell_type": "code",
   "execution_count": 5,
   "id": "9e2d82f9-38f5-4cb2-b7d4-6770384aae34",
   "metadata": {},
   "outputs": [],
   "source": [
    "# This code has been taken from GitHub (as described above) and edited for specific use in this document\n",
    "from sklearn.base import BaseEstimator\n",
    "\n",
    "class RDA(BaseEstimator):\n",
    "    \"\"\"\n",
    "    Restricted Discriminant Analysis (RDA) Estimator class.\n",
    "    This inherits `BaseEstimator` class from `scikit-learn` to seamlessly integrate with other preprocessing module of it.\n",
    "    RDA can model as LDA, QDA, nearest mean classifier, or mixture of them depending on hyperparameters, alpha, beta, and variance.\n",
    "    \"\"\"\n",
    "    def __init__(self, alpha=0.0, beta=0.0, variance=0):\n",
    "        \"\"\"\n",
    "        alpha, beta, and varaince decide the characteristics of RDA.\n",
    "        Followings are remarks of RDA upon settings of hyperparameters:\n",
    "        alpha = beta = 0:  QDA\n",
    "        alpha=0, beta=1: LDA\n",
    "        alpha=1, beta=0: nearest mean classifier\n",
    "        \"\"\"\n",
    "\n",
    "        self.fitted = False\n",
    "        self.alpha = alpha\n",
    "        self.beta = beta\n",
    "        self.variance = variance\n",
    "        self.class_labels = []\n",
    "        self.priors = {}\n",
    "        self.means = {}\n",
    "        self.rda_cov = {}\n",
    "        \n",
    "    def fit(self, X, y):\n",
    "        self.class_labels = np.unique(y)\n",
    "        S_i = {}\n",
    "        pooled_covariance = 0\n",
    "\n",
    "        for i in self.class_labels:\n",
    "            indices = np.where(y == i)[0]\n",
    "            samples = X[indices, :]\n",
    "            self.priors[i] = float(len(indices)) / len(y) # class ratio (prior)\n",
    "            self.means[i] = np.mean(samples, axis=0) # mean vector of each features (N,NUM_FEATURES)\n",
    "            S_i[i] = np.cov(samples, rowvar=0)\n",
    "            pooled_covariance += S_i[i] * self.priors[i] # equation (3) above.\n",
    "\n",
    "        # Calculate RDA regularized covariance matricies for each class\n",
    "        for i in self.class_labels:\n",
    "            self.rda_cov[i] = self.alpha * self.variance * np.eye(X.shape[1]) + self.beta * pooled_covariance + (1 - self.alpha - self.beta) * S_i[i]\n",
    "        self.fitted = True\n",
    "\n",
    "    def predict(self, X):\n",
    "\n",
    "        if not self.fitted:\n",
    "            raise NameError('Fit model first')\n",
    "\n",
    "        predictions = []\n",
    "\n",
    "        for i in range(len(X)):\n",
    "            x = X[i]\n",
    "            discriminant_score = {}\n",
    "            for i in self.class_labels:\n",
    "                part1 = -0.5 * np.linalg.det(self.rda_cov[i])\n",
    "                part2 = -0.5 * (x - self.means[i]).T @ np.linalg.pinv(self.rda_cov[i]) @ (x - self.means[i])\n",
    "                part3 = np.log(self.priors[i])\n",
    "                discriminant_score[i] = part1 + part2 + part3 # 5.19 in textbook\n",
    "            prediction = max(discriminant_score, key=discriminant_score.get)\n",
    "            predictions.append(prediction)\n",
    "        return predictions"
   ]
  },
  {
   "cell_type": "code",
   "execution_count": 6,
   "id": "fcc65aad-166f-45f0-a2e0-db1b888ad250",
   "metadata": {
    "scrolled": true
   },
   "outputs": [
    {
     "name": "stdout",
     "output_type": "stream",
     "text": [
      "Accuracy: 0.80\n",
      "Confusion Matrix:\n",
      "[[5640 1222]\n",
      " [ 606 1600]]\n",
      "              precision    recall  f1-score   support\n",
      "\n",
      "       <=50K       0.90      0.82      0.86      6862\n",
      "        >50K       0.57      0.73      0.64      2206\n",
      "\n",
      "    accuracy                           0.80      9068\n",
      "   macro avg       0.73      0.77      0.75      9068\n",
      "weighted avg       0.82      0.80      0.81      9068\n",
      "\n"
     ]
    }
   ],
   "source": [
    "# Fit the Regularised Discriminant Analysis (RDA) model (may take longer than previous models)\n",
    "# We are using the above RDA class to do this with beta=0.5\n",
    "rda = RDA(beta=0.5)\n",
    "rda.fit(X_train_scaled, y_train_array)\n",
    "\n",
    "# Predict on the test set\n",
    "y_pred_rda = rda.predict(X_test_scaled)\n",
    "\n",
    "# Evaluate the model's performance\n",
    "rda_accuracy = accuracy_score(y_test_array, y_pred_rda)\n",
    "rda_conf_matrix = confusion_matrix(y_test_array, y_pred_rda)\n",
    "\n",
    "# Print the evaluation results\n",
    "print(f'Accuracy: {rda_accuracy:.2f}')\n",
    "print('Confusion Matrix:')\n",
    "print(rda_conf_matrix)\n",
    "\n",
    "# Generate the classification report as a dictionary for later use\n",
    "rda_report = classification_report(y_test_array, y_pred_rda, target_names=['<=50K', '>50K'], output_dict=True)\n",
    "\n",
    "# Print classification report in a readable table\n",
    "rda_report_table = classification_report(y_test_array, y_pred_rda, target_names=['<=50K', '>50K'], output_dict=False)\n",
    "print(rda_report_table)"
   ]
  },
  {
   "cell_type": "markdown",
   "id": "9a2aacf2-156a-4de9-8a57-bd73d1191376",
   "metadata": {},
   "source": [
    "The accuracy of 80% is much better than the QDA model but slightly worse than the LDA model from before, suggesting an improvement which could be increased by optimising the choice of the $\\beta$ value.\n",
    "\n",
    "We will provide visualisations of this classification report and the confusion matrix below."
   ]
  },
  {
   "cell_type": "markdown",
   "id": "ce54b34d-8d3c-48c8-a9de-fd25a70182b5",
   "metadata": {},
   "source": [
    "## Visualisations and Metrics for RDA"
   ]
  },
  {
   "cell_type": "code",
   "execution_count": 7,
   "id": "fffa54e8-bd44-4d13-a974-237f004a7c7c",
   "metadata": {},
   "outputs": [
    {
     "data": {
      "image/png": "[encoded data removed]",
      "text/plain": [
       "<Figure size 800x600 with 2 Axes>"
      ]
     },
     "metadata": {},
     "output_type": "display_data"
    }
   ],
   "source": [
    "# Plotting the confusion matrix   \n",
    "# Add figure\n",
    "plt.figure(figsize=(8,6))\n",
    "\n",
    "# RDA confusion matrix\n",
    "sns.heatmap(rda_conf_matrix, annot=True, fmt='d', cmap='Blues', \n",
    "               xticklabels=['Pred <=50K', 'Pred >50K'], \n",
    "               yticklabels=['Actual <=50K', 'Actual >50K'])\n",
    "plt.title('RDA Confusion Matrix')\n",
    "plt.xlabel('Predicted Labels')\n",
    "plt.ylabel('True Labels')\n",
    "\n",
    "plt.show()"
   ]
  },
  {
   "cell_type": "code",
   "execution_count": 8,
   "id": "7642dbe6-d1e8-4973-8ec5-2dba7bbcda30",
   "metadata": {},
   "outputs": [
    {
     "data": {
      "image/png": "[encoded data removed]",
      "text/plain": [
       "<Figure size 1200x400 with 2 Axes>"
      ]
     },
     "metadata": {},
     "output_type": "display_data"
    }
   ],
   "source": [
    "# Create DataFrames for the >50K and <=50K classification reports\n",
    "comparison_df_high = pd.DataFrame({\n",
    "    'RDA': [rda_report['>50K']['precision'], rda_report['>50K']['recall'], rda_report['>50K']['f1-score']]\n",
    "}, index=['Precision', 'Recall', 'F1-Score'])\n",
    "\n",
    "comparison_df_low = pd.DataFrame({\n",
    "    'RDA': [rda_report['<=50K']['precision'], rda_report['<=50K']['recall'], rda_report['<=50K']['f1-score']]\n",
    "}, index=['Precision', 'Recall', 'F1-Score'])\n",
    "\n",
    "# Add figure\n",
    "plt.figure(figsize=(12, 4))\n",
    "\n",
    "# Plot for >50K class\n",
    "plt.subplot(1, 2, 1)\n",
    "comparison_df_high.plot(kind='bar', ax=plt.gca())\n",
    "plt.title('Comparison of Classification Metrics for >50K Class')\n",
    "plt.ylabel('Score')\n",
    "plt.ylim(0, 1)\n",
    "plt.xticks(rotation=0)\n",
    "plt.legend(title='Models')\n",
    "\n",
    "# Plot for <=50K class\n",
    "plt.subplot(1, 2, 2)\n",
    "comparison_df_low.plot(kind='bar', ax=plt.gca())\n",
    "plt.title('Comparison of Classification Metrics for <=50K Class')\n",
    "plt.ylabel('Score')\n",
    "plt.ylim(0, 1)\n",
    "plt.xticks(rotation=0)\n",
    "plt.legend(title='Models')\n",
    "\n",
    "# Show plots\n",
    "plt.tight_layout()\n",
    "plt.show()"
   ]
  },
  {
   "cell_type": "markdown",
   "id": "f2e6f2ce-999e-4c0f-9da1-2ddd1d9b95a3",
   "metadata": {},
   "source": [
    "The Regularised Discriminant Analysis model has an accuracy of 80% - correctly classified 80% of datapoints - which is very good. We take the 'positive' class to be '>50K' and the 'negative' class to be '<=50K'.\n",
    "\n",
    "We see that there were 5640 true negatives and 1600 true positives, compared to 1222 false negatives and 606 false positives. \n",
    "The high number of true negatives compared to true positives indicates that the model performs better in predicting the lower income '<=50K' class. There is also a farily high number of false negatives which suggests that the model's ability to identify higher income '>50K' people.\n",
    "\n",
    "The precisions shows that the model correctly classifies someone's income as '<=50K' with 90% probability and as '>50K' with 57% probability. This difference in probability shows that the model is much less reliable when it predicts someone to have higher income.\n",
    "\n",
    "A recall of 82% for the '<=50K' class implies that the model is very good at classifiying '<=50K' incomes. The lower recall of 73% for the higher income class shows that the model still fails to identify a large number of high income people.\n",
    "\n",
    "The F1-score gives the tradeoff between precision and recall. The '<=50K' class has a high score of 86% showing a strong balance between the precision and recall, whereas  the '>50K' class score of 64% shows that the model needs to be improved so that it has as much success in classifying the higher income people as with the lower income people.\n",
    "\n",
    "Overall, the results show that the model had good accuracy, however, there is still a clear imbalance with the metrics due to the lower predictive ability of the model classifying the higher income class."
   ]
  },
  {
   "cell_type": "markdown",
   "id": "85d5047c-de47-4764-838f-a168799d12a9",
   "metadata": {},
   "source": [
    "## Tuning Hyperparameters in RDA\n",
    "We experimented with cross-validation to tune the $\\beta$ hyperparamater for the RDA model but this had a significantly long runtime so we omit this from the project."
   ]
  },
  {
   "cell_type": "markdown",
   "id": "03f0c5aa-c30d-4559-b7c6-33490b9616b1",
   "metadata": {},
   "source": [
    "## RDA Conclusion\n",
    "The implementation of Regularised Discriminant Analysis seems to be a suitable choice to classify our income data. The accuracy of 80% is much better than the QDA model but slightly worse than the LDA model from before, but since we chose the $\\beta$ value without any optimisation techniques, it is likely that there is room for further improvement if we did so.\n",
    "\n",
    "It seems that using regularisation in our discriminant analysis methods may be used to improve our model performance, we will investigate this further."
   ]
  },
  {
   "cell_type": "markdown",
   "id": "4e191ea9-d8d9-481f-9070-c6c3a4f2e677",
   "metadata": {},
   "source": [
    "## Implementing Regularisation in LDA and QDA\n",
    "Since our RDA implementation had a much higher accuracy than the QDA. We will investigate approaches to LDA and QDA which use regularisation to see if this will improve our results. We will use cross-validation to tune hyperparameters.\n",
    "\n",
    "First, we will use the LinearDiscriminantAnalysis class from scikit-learn using the 'shrinkage' parameter. This control the regularisation of the covariance matrices for each class, making them more stable. Using 'shrinkage' = 0 applies no regularisation and 'shrinkage' = 1 applies regularisation towards a diagonal form, making LDA robust to collinearity between covariates. Also, we must use the 'solver' parameter, using the 'lsqr' (linear least squares) solver which allows us to use 'shrinkage' by controlling the adjustments to the covariance matrices.\n",
    "\n",
    "Next, we will use the QuadraticDiscriminantAnalysis class from scikit-learn, leveraging the parameter 'reg_param', which allows us to use regularisation in our QDA amd control overfitting by shrinking the covariance matrices of each class. As this parameter goes to 0, no regularisation is applied and as it goes towards 1, the covariance matrices approach the identity matrix and reduce the sensitivity of QDA to random noise."
   ]
  },
  {
   "cell_type": "markdown",
   "id": "9f397be1-27a7-4afa-a936-c23535496ff4",
   "metadata": {},
   "source": [
    "## Regularisation in LDA"
   ]
  },
  {
   "cell_type": "code",
   "execution_count": 9,
   "id": "16a6412d-2243-4d0f-9fcc-20914d1b3e52",
   "metadata": {},
   "outputs": [
    {
     "name": "stdout",
     "output_type": "stream",
     "text": [
      "Accuracy: 0.84\n",
      "Confusion Matrix:\n",
      "[[6227  635]\n",
      " [ 854 1352]]\n",
      "              precision    recall  f1-score   support\n",
      "\n",
      "       <=50K       0.88      0.91      0.89      6862\n",
      "        >50K       0.68      0.61      0.64      2206\n",
      "\n",
      "    accuracy                           0.84      9068\n",
      "   macro avg       0.78      0.76      0.77      9068\n",
      "weighted avg       0.83      0.84      0.83      9068\n",
      "\n"
     ]
    }
   ],
   "source": [
    "# Fit the Linear Discriminant Analysis (LDA) model\n",
    "lda = LinearDiscriminantAnalysis(solver='lsqr', shrinkage=0.5)\n",
    "lda.fit(X_train_scaled, y_train_array)\n",
    "\n",
    "# Predict on the test set\n",
    "y_pred_lda = lda.predict(X_test_scaled)\n",
    "\n",
    "# Evaluate the model's performance\n",
    "lda_accuracy = accuracy_score(y_test_array, y_pred_lda)\n",
    "lda_conf_matrix = confusion_matrix(y_test_array, y_pred_lda)\n",
    "\n",
    "# Print the evaluation results\n",
    "print(f'Accuracy: {lda_accuracy:.2f}')\n",
    "print('Confusion Matrix:')\n",
    "print(lda_conf_matrix)\n",
    "\n",
    "# Generate the classification report as a dictionary for later use\n",
    "lda_report = classification_report(y_test_array, y_pred_lda, target_names=['<=50K', '>50K'], output_dict=True)\n",
    "\n",
    "# Print classification report in a readable table\n",
    "lda_report_table = classification_report(y_test_array, y_pred_lda, target_names=['<=50K', '>50K'], output_dict=False)\n",
    "print(lda_report_table)"
   ]
  },
  {
   "cell_type": "markdown",
   "id": "8696325a-5f59-4f61-a0c6-7ce874d5b953",
   "metadata": {},
   "source": [
    "We can see that the shrinkage parameter gave a model with 84% accuracy, the same as the model without the regularisation. We will try to optimise 'shrinkage' to see if we can improve the accuracy."
   ]
  },
  {
   "cell_type": "markdown",
   "id": "5b64cb80-690e-4d7f-992c-48d3273ebf00",
   "metadata": {},
   "source": [
    "## Tuning Hyperparameters in LDA"
   ]
  },
  {
   "cell_type": "code",
   "execution_count": 10,
   "id": "0efdec14-4059-42ae-b676-6370f82415f2",
   "metadata": {},
   "outputs": [
    {
     "name": "stdout",
     "output_type": "stream",
     "text": [
      "Best Shrinkage Parameter: 0.00\n",
      "Accuracy: 0.84\n",
      "Confusion Matrix:\n",
      "[[6357  505]\n",
      " [ 947 1259]]\n",
      "              precision    recall  f1-score   support\n",
      "\n",
      "       <=50K       0.87      0.93      0.90      6862\n",
      "        >50K       0.71      0.57      0.63      2206\n",
      "\n",
      "    accuracy                           0.84      9068\n",
      "   macro avg       0.79      0.75      0.77      9068\n",
      "weighted avg       0.83      0.84      0.83      9068\n",
      "\n"
     ]
    }
   ],
   "source": [
    "# Define the range of shrinkage parameters to try\n",
    "shrinkage_grid = {'shrinkage': np.arange(0.0, 1.1, 0.1)}\n",
    "\n",
    "# Create a LDA model instance\n",
    "lda = LinearDiscriminantAnalysis(solver='lsqr')\n",
    "\n",
    "# Set up GridSearchCV with cross-validation\n",
    "grid_search = GridSearchCV(lda, shrinkage_grid, cv=5, scoring='accuracy')\n",
    "\n",
    "# Fit the model using GridSearchCV\n",
    "grid_search.fit(X_train_scaled, y_train_array)\n",
    "\n",
    "# Get the best estimator and its parameters\n",
    "best_lda = grid_search.best_estimator_\n",
    "best_shrinkage = grid_search.best_params_['shrinkage']\n",
    "\n",
    "# Predict on the test set using the best estimator\n",
    "y_pred_lda = best_lda.predict(X_test_scaled)\n",
    "\n",
    "# Evaluate the model's performance\n",
    "lda_accuracy = accuracy_score(y_test_array, y_pred_lda)\n",
    "lda_conf_matrix = confusion_matrix(y_test_array, y_pred_lda)\n",
    "\n",
    "# Print the evaluation results\n",
    "print(f'Best Shrinkage Parameter: {best_shrinkage:.2f}')\n",
    "print(f'Accuracy: {lda_accuracy:.2f}')\n",
    "print('Confusion Matrix:')\n",
    "print(lda_conf_matrix)\n",
    "\n",
    "# Generate the classification report\n",
    "lda_report = classification_report(y_test_array, y_pred_lda, target_names=['<=50K', '>50K'], output_dict=True)\n",
    "\n",
    "# Print classification report in a readable table\n",
    "lda_report_table = classification_report(y_test_array, y_pred_lda, target_names=['<=50K', '>50K'], output_dict=False)\n",
    "print(lda_report_table)"
   ]
  },
  {
   "cell_type": "markdown",
   "id": "d38ddbcd-4e6b-435e-b8ee-07d7e4548edf",
   "metadata": {},
   "source": [
    "Cross-validation has shown that the optimal 'shrinkage' value is 0, hence, the regularisation did not improve the accuracy of our LDA model."
   ]
  },
  {
   "cell_type": "markdown",
   "id": "c5033f33-af49-4042-957f-dceae4ba2321",
   "metadata": {},
   "source": [
    "## Regularisation in QDA"
   ]
  },
  {
   "cell_type": "code",
   "execution_count": 11,
   "id": "d0db5e17-f0d8-4641-83aa-8c348de98d80",
   "metadata": {},
   "outputs": [
    {
     "name": "stderr",
     "output_type": "stream",
     "text": [
      "C:\\Users\\milse\\AppData\\Local\\Programs\\Python\\Python311\\Lib\\site-packages\\sklearn\\discriminant_analysis.py:947: UserWarning: Variables are collinear\n",
      "  warnings.warn(\"Variables are collinear\")\n"
     ]
    },
    {
     "name": "stdout",
     "output_type": "stream",
     "text": [
      "Accuracy: 0.67\n",
      "Confusion Matrix:\n",
      "[[4028 2834]\n",
      " [ 185 2021]]\n",
      "              precision    recall  f1-score   support\n",
      "\n",
      "       <=50K       0.96      0.59      0.73      6862\n",
      "        >50K       0.42      0.92      0.57      2206\n",
      "\n",
      "    accuracy                           0.67      9068\n",
      "   macro avg       0.69      0.75      0.65      9068\n",
      "weighted avg       0.82      0.67      0.69      9068\n",
      "\n"
     ]
    }
   ],
   "source": [
    "# Fit the Linear Discriminant Analysis (LDA) model\n",
    "qda = QuadraticDiscriminantAnalysis(reg_param=0.5)\n",
    "qda.fit(X_train_scaled, y_train_array)\n",
    "\n",
    "# Predict on the test set\n",
    "y_pred_qda = qda.predict(X_test_scaled)\n",
    "\n",
    "# Evaluate the model's performance\n",
    "qda_accuracy = accuracy_score(y_test_array, y_pred_qda)\n",
    "qda_conf_matrix = confusion_matrix(y_test_array, y_pred_qda)\n",
    "\n",
    "# Print the evaluation results\n",
    "print(f'Accuracy: {qda_accuracy:.2f}')\n",
    "print('Confusion Matrix:')\n",
    "print(qda_conf_matrix)\n",
    "\n",
    "# Generate the classification report as a dictionary for later use\n",
    "qda_report = classification_report(y_test_array, y_pred_qda, target_names=['<=50K', '>50K'], output_dict=True)\n",
    "\n",
    "# Print classification report in a readable table\n",
    "qda_report_table = classification_report(y_test_array, y_pred_qda, target_names=['<=50K', '>50K'], output_dict=False)\n",
    "print(qda_report_table)"
   ]
  },
  {
   "cell_type": "markdown",
   "id": "aa686a89-bfa1-44f8-9b2b-93272e50d289",
   "metadata": {},
   "source": [
    "We can see that the accuracy is now 67% which is higher than previously, hence, we conclude that this regularisation can be used to possibly improve the model. We will now optimise the 'reg_param' hyperparameter using cross-validation."
   ]
  },
  {
   "cell_type": "markdown",
   "id": "acbbe2bb-9a06-4f26-8b56-86c4b07746f0",
   "metadata": {},
   "source": [
    "## Tuning Hyperparameters in QDA"
   ]
  },
  {
   "cell_type": "code",
   "execution_count": 12,
   "id": "578c51d8-76c1-44f0-9e03-2a2d992f3d57",
   "metadata": {},
   "outputs": [
    {
     "name": "stderr",
     "output_type": "stream",
     "text": [
      "C:\\Users\\milse\\AppData\\Local\\Programs\\Python\\Python311\\Lib\\site-packages\\sklearn\\discriminant_analysis.py:947: UserWarning: Variables are collinear\n",
      "  warnings.warn(\"Variables are collinear\")\n",
      "C:\\Users\\milse\\AppData\\Local\\Programs\\Python\\Python311\\Lib\\site-packages\\sklearn\\discriminant_analysis.py:947: UserWarning: Variables are collinear\n",
      "  warnings.warn(\"Variables are collinear\")\n",
      "C:\\Users\\milse\\AppData\\Local\\Programs\\Python\\Python311\\Lib\\site-packages\\sklearn\\discriminant_analysis.py:947: UserWarning: Variables are collinear\n",
      "  warnings.warn(\"Variables are collinear\")\n",
      "C:\\Users\\milse\\AppData\\Local\\Programs\\Python\\Python311\\Lib\\site-packages\\sklearn\\discriminant_analysis.py:947: UserWarning: Variables are collinear\n",
      "  warnings.warn(\"Variables are collinear\")\n",
      "C:\\Users\\milse\\AppData\\Local\\Programs\\Python\\Python311\\Lib\\site-packages\\sklearn\\discriminant_analysis.py:947: UserWarning: Variables are collinear\n",
      "  warnings.warn(\"Variables are collinear\")\n",
      "C:\\Users\\milse\\AppData\\Local\\Programs\\Python\\Python311\\Lib\\site-packages\\sklearn\\discriminant_analysis.py:947: UserWarning: Variables are collinear\n",
      "  warnings.warn(\"Variables are collinear\")\n",
      "C:\\Users\\milse\\AppData\\Local\\Programs\\Python\\Python311\\Lib\\site-packages\\sklearn\\discriminant_analysis.py:947: UserWarning: Variables are collinear\n",
      "  warnings.warn(\"Variables are collinear\")\n",
      "C:\\Users\\milse\\AppData\\Local\\Programs\\Python\\Python311\\Lib\\site-packages\\sklearn\\discriminant_analysis.py:947: UserWarning: Variables are collinear\n",
      "  warnings.warn(\"Variables are collinear\")\n",
      "C:\\Users\\milse\\AppData\\Local\\Programs\\Python\\Python311\\Lib\\site-packages\\sklearn\\discriminant_analysis.py:947: UserWarning: Variables are collinear\n",
      "  warnings.warn(\"Variables are collinear\")\n",
      "C:\\Users\\milse\\AppData\\Local\\Programs\\Python\\Python311\\Lib\\site-packages\\sklearn\\discriminant_analysis.py:947: UserWarning: Variables are collinear\n",
      "  warnings.warn(\"Variables are collinear\")\n",
      "C:\\Users\\milse\\AppData\\Local\\Programs\\Python\\Python311\\Lib\\site-packages\\sklearn\\discriminant_analysis.py:947: UserWarning: Variables are collinear\n",
      "  warnings.warn(\"Variables are collinear\")\n",
      "C:\\Users\\milse\\AppData\\Local\\Programs\\Python\\Python311\\Lib\\site-packages\\sklearn\\discriminant_analysis.py:947: UserWarning: Variables are collinear\n",
      "  warnings.warn(\"Variables are collinear\")\n",
      "C:\\Users\\milse\\AppData\\Local\\Programs\\Python\\Python311\\Lib\\site-packages\\sklearn\\discriminant_analysis.py:947: UserWarning: Variables are collinear\n",
      "  warnings.warn(\"Variables are collinear\")\n",
      "C:\\Users\\milse\\AppData\\Local\\Programs\\Python\\Python311\\Lib\\site-packages\\sklearn\\discriminant_analysis.py:947: UserWarning: Variables are collinear\n",
      "  warnings.warn(\"Variables are collinear\")\n",
      "C:\\Users\\milse\\AppData\\Local\\Programs\\Python\\Python311\\Lib\\site-packages\\sklearn\\discriminant_analysis.py:947: UserWarning: Variables are collinear\n",
      "  warnings.warn(\"Variables are collinear\")\n",
      "C:\\Users\\milse\\AppData\\Local\\Programs\\Python\\Python311\\Lib\\site-packages\\sklearn\\discriminant_analysis.py:947: UserWarning: Variables are collinear\n",
      "  warnings.warn(\"Variables are collinear\")\n",
      "C:\\Users\\milse\\AppData\\Local\\Programs\\Python\\Python311\\Lib\\site-packages\\sklearn\\discriminant_analysis.py:947: UserWarning: Variables are collinear\n",
      "  warnings.warn(\"Variables are collinear\")\n",
      "C:\\Users\\milse\\AppData\\Local\\Programs\\Python\\Python311\\Lib\\site-packages\\sklearn\\discriminant_analysis.py:947: UserWarning: Variables are collinear\n",
      "  warnings.warn(\"Variables are collinear\")\n",
      "C:\\Users\\milse\\AppData\\Local\\Programs\\Python\\Python311\\Lib\\site-packages\\sklearn\\discriminant_analysis.py:947: UserWarning: Variables are collinear\n",
      "  warnings.warn(\"Variables are collinear\")\n",
      "C:\\Users\\milse\\AppData\\Local\\Programs\\Python\\Python311\\Lib\\site-packages\\sklearn\\discriminant_analysis.py:947: UserWarning: Variables are collinear\n",
      "  warnings.warn(\"Variables are collinear\")\n",
      "C:\\Users\\milse\\AppData\\Local\\Programs\\Python\\Python311\\Lib\\site-packages\\sklearn\\discriminant_analysis.py:947: UserWarning: Variables are collinear\n",
      "  warnings.warn(\"Variables are collinear\")\n",
      "C:\\Users\\milse\\AppData\\Local\\Programs\\Python\\Python311\\Lib\\site-packages\\sklearn\\discriminant_analysis.py:947: UserWarning: Variables are collinear\n",
      "  warnings.warn(\"Variables are collinear\")\n",
      "C:\\Users\\milse\\AppData\\Local\\Programs\\Python\\Python311\\Lib\\site-packages\\sklearn\\discriminant_analysis.py:947: UserWarning: Variables are collinear\n",
      "  warnings.warn(\"Variables are collinear\")\n",
      "C:\\Users\\milse\\AppData\\Local\\Programs\\Python\\Python311\\Lib\\site-packages\\sklearn\\discriminant_analysis.py:947: UserWarning: Variables are collinear\n",
      "  warnings.warn(\"Variables are collinear\")\n",
      "C:\\Users\\milse\\AppData\\Local\\Programs\\Python\\Python311\\Lib\\site-packages\\sklearn\\discriminant_analysis.py:947: UserWarning: Variables are collinear\n",
      "  warnings.warn(\"Variables are collinear\")\n",
      "C:\\Users\\milse\\AppData\\Local\\Programs\\Python\\Python311\\Lib\\site-packages\\sklearn\\discriminant_analysis.py:947: UserWarning: Variables are collinear\n",
      "  warnings.warn(\"Variables are collinear\")\n",
      "C:\\Users\\milse\\AppData\\Local\\Programs\\Python\\Python311\\Lib\\site-packages\\sklearn\\discriminant_analysis.py:947: UserWarning: Variables are collinear\n",
      "  warnings.warn(\"Variables are collinear\")\n",
      "C:\\Users\\milse\\AppData\\Local\\Programs\\Python\\Python311\\Lib\\site-packages\\sklearn\\discriminant_analysis.py:947: UserWarning: Variables are collinear\n",
      "  warnings.warn(\"Variables are collinear\")\n",
      "C:\\Users\\milse\\AppData\\Local\\Programs\\Python\\Python311\\Lib\\site-packages\\sklearn\\discriminant_analysis.py:947: UserWarning: Variables are collinear\n",
      "  warnings.warn(\"Variables are collinear\")\n",
      "C:\\Users\\milse\\AppData\\Local\\Programs\\Python\\Python311\\Lib\\site-packages\\sklearn\\discriminant_analysis.py:947: UserWarning: Variables are collinear\n",
      "  warnings.warn(\"Variables are collinear\")\n",
      "C:\\Users\\milse\\AppData\\Local\\Programs\\Python\\Python311\\Lib\\site-packages\\sklearn\\discriminant_analysis.py:947: UserWarning: Variables are collinear\n",
      "  warnings.warn(\"Variables are collinear\")\n",
      "C:\\Users\\milse\\AppData\\Local\\Programs\\Python\\Python311\\Lib\\site-packages\\sklearn\\discriminant_analysis.py:947: UserWarning: Variables are collinear\n",
      "  warnings.warn(\"Variables are collinear\")\n",
      "C:\\Users\\milse\\AppData\\Local\\Programs\\Python\\Python311\\Lib\\site-packages\\sklearn\\discriminant_analysis.py:947: UserWarning: Variables are collinear\n",
      "  warnings.warn(\"Variables are collinear\")\n",
      "C:\\Users\\milse\\AppData\\Local\\Programs\\Python\\Python311\\Lib\\site-packages\\sklearn\\discriminant_analysis.py:947: UserWarning: Variables are collinear\n",
      "  warnings.warn(\"Variables are collinear\")\n",
      "C:\\Users\\milse\\AppData\\Local\\Programs\\Python\\Python311\\Lib\\site-packages\\sklearn\\discriminant_analysis.py:947: UserWarning: Variables are collinear\n",
      "  warnings.warn(\"Variables are collinear\")\n",
      "C:\\Users\\milse\\AppData\\Local\\Programs\\Python\\Python311\\Lib\\site-packages\\sklearn\\discriminant_analysis.py:947: UserWarning: Variables are collinear\n",
      "  warnings.warn(\"Variables are collinear\")\n",
      "C:\\Users\\milse\\AppData\\Local\\Programs\\Python\\Python311\\Lib\\site-packages\\sklearn\\discriminant_analysis.py:947: UserWarning: Variables are collinear\n",
      "  warnings.warn(\"Variables are collinear\")\n",
      "C:\\Users\\milse\\AppData\\Local\\Programs\\Python\\Python311\\Lib\\site-packages\\sklearn\\discriminant_analysis.py:947: UserWarning: Variables are collinear\n",
      "  warnings.warn(\"Variables are collinear\")\n",
      "C:\\Users\\milse\\AppData\\Local\\Programs\\Python\\Python311\\Lib\\site-packages\\sklearn\\discriminant_analysis.py:947: UserWarning: Variables are collinear\n",
      "  warnings.warn(\"Variables are collinear\")\n",
      "C:\\Users\\milse\\AppData\\Local\\Programs\\Python\\Python311\\Lib\\site-packages\\sklearn\\discriminant_analysis.py:947: UserWarning: Variables are collinear\n",
      "  warnings.warn(\"Variables are collinear\")\n",
      "C:\\Users\\milse\\AppData\\Local\\Programs\\Python\\Python311\\Lib\\site-packages\\sklearn\\discriminant_analysis.py:947: UserWarning: Variables are collinear\n",
      "  warnings.warn(\"Variables are collinear\")\n",
      "C:\\Users\\milse\\AppData\\Local\\Programs\\Python\\Python311\\Lib\\site-packages\\sklearn\\discriminant_analysis.py:947: UserWarning: Variables are collinear\n",
      "  warnings.warn(\"Variables are collinear\")\n",
      "C:\\Users\\milse\\AppData\\Local\\Programs\\Python\\Python311\\Lib\\site-packages\\sklearn\\discriminant_analysis.py:947: UserWarning: Variables are collinear\n",
      "  warnings.warn(\"Variables are collinear\")\n",
      "C:\\Users\\milse\\AppData\\Local\\Programs\\Python\\Python311\\Lib\\site-packages\\sklearn\\discriminant_analysis.py:947: UserWarning: Variables are collinear\n",
      "  warnings.warn(\"Variables are collinear\")\n",
      "C:\\Users\\milse\\AppData\\Local\\Programs\\Python\\Python311\\Lib\\site-packages\\sklearn\\discriminant_analysis.py:947: UserWarning: Variables are collinear\n",
      "  warnings.warn(\"Variables are collinear\")\n",
      "C:\\Users\\milse\\AppData\\Local\\Programs\\Python\\Python311\\Lib\\site-packages\\sklearn\\discriminant_analysis.py:947: UserWarning: Variables are collinear\n",
      "  warnings.warn(\"Variables are collinear\")\n",
      "C:\\Users\\milse\\AppData\\Local\\Programs\\Python\\Python311\\Lib\\site-packages\\sklearn\\discriminant_analysis.py:947: UserWarning: Variables are collinear\n",
      "  warnings.warn(\"Variables are collinear\")\n",
      "C:\\Users\\milse\\AppData\\Local\\Programs\\Python\\Python311\\Lib\\site-packages\\sklearn\\discriminant_analysis.py:947: UserWarning: Variables are collinear\n",
      "  warnings.warn(\"Variables are collinear\")\n",
      "C:\\Users\\milse\\AppData\\Local\\Programs\\Python\\Python311\\Lib\\site-packages\\sklearn\\discriminant_analysis.py:947: UserWarning: Variables are collinear\n",
      "  warnings.warn(\"Variables are collinear\")\n",
      "C:\\Users\\milse\\AppData\\Local\\Programs\\Python\\Python311\\Lib\\site-packages\\sklearn\\discriminant_analysis.py:947: UserWarning: Variables are collinear\n",
      "  warnings.warn(\"Variables are collinear\")\n",
      "C:\\Users\\milse\\AppData\\Local\\Programs\\Python\\Python311\\Lib\\site-packages\\sklearn\\discriminant_analysis.py:947: UserWarning: Variables are collinear\n",
      "  warnings.warn(\"Variables are collinear\")\n",
      "C:\\Users\\milse\\AppData\\Local\\Programs\\Python\\Python311\\Lib\\site-packages\\sklearn\\discriminant_analysis.py:947: UserWarning: Variables are collinear\n",
      "  warnings.warn(\"Variables are collinear\")\n",
      "C:\\Users\\milse\\AppData\\Local\\Programs\\Python\\Python311\\Lib\\site-packages\\sklearn\\discriminant_analysis.py:947: UserWarning: Variables are collinear\n",
      "  warnings.warn(\"Variables are collinear\")\n",
      "C:\\Users\\milse\\AppData\\Local\\Programs\\Python\\Python311\\Lib\\site-packages\\sklearn\\discriminant_analysis.py:947: UserWarning: Variables are collinear\n",
      "  warnings.warn(\"Variables are collinear\")\n",
      "C:\\Users\\milse\\AppData\\Local\\Programs\\Python\\Python311\\Lib\\site-packages\\sklearn\\discriminant_analysis.py:947: UserWarning: Variables are collinear\n",
      "  warnings.warn(\"Variables are collinear\")\n",
      "C:\\Users\\milse\\AppData\\Local\\Programs\\Python\\Python311\\Lib\\site-packages\\sklearn\\discriminant_analysis.py:947: UserWarning: Variables are collinear\n",
      "  warnings.warn(\"Variables are collinear\")\n"
     ]
    },
    {
     "name": "stdout",
     "output_type": "stream",
     "text": [
      "Best Regularization Parameter: 1.00\n",
      "Accuracy: 0.82\n",
      "Confusion Matrix:\n",
      "[[5913  949]\n",
      " [ 658 1548]]\n",
      "              precision    recall  f1-score   support\n",
      "\n",
      "       <=50K       0.90      0.86      0.88      6862\n",
      "        >50K       0.62      0.70      0.66      2206\n",
      "\n",
      "    accuracy                           0.82      9068\n",
      "   macro avg       0.76      0.78      0.77      9068\n",
      "weighted avg       0.83      0.82      0.83      9068\n",
      "\n"
     ]
    }
   ],
   "source": [
    "# Define the range of regularization parameters to try\n",
    "reg_param_grid = {'reg_param': np.arange(0.0, 1.1, 0.1)}\n",
    "\n",
    "# Fit the Quadratic Discriminant Analysis (QDA) model\n",
    "qda = QuadraticDiscriminantAnalysis()\n",
    "\n",
    "# Set up GridSearchCV with cross-validation\n",
    "grid_search = GridSearchCV(qda, reg_param_grid, cv=5, scoring='accuracy')\n",
    "\n",
    "# Fit the model using GridSearchCV\n",
    "grid_search.fit(X_train_scaled, y_train_array)\n",
    "\n",
    "# Get the best estimator and its parameters\n",
    "best_qda = grid_search.best_estimator_\n",
    "best_reg_param = grid_search.best_params_['reg_param']\n",
    "\n",
    "# Predict on the test set using the best estimator\n",
    "y_pred_qda = best_qda.predict(X_test_scaled)\n",
    "\n",
    "# Evaluate the model's performance\n",
    "qda_accuracy = accuracy_score(y_test_array, y_pred_qda)\n",
    "qda_conf_matrix = confusion_matrix(y_test_array, y_pred_qda)\n",
    "\n",
    "# Print the evaluation results\n",
    "print(f'Best Regularization Parameter: {best_reg_param:.2f}')\n",
    "print(f'Accuracy: {qda_accuracy:.2f}')\n",
    "print('Confusion Matrix:')\n",
    "print(qda_conf_matrix)\n",
    "\n",
    "# Generate the classification report\n",
    "qda_report = classification_report(y_test_array, y_pred_qda, target_names=['<=50K', '>50K'], output_dict=True)\n",
    "\n",
    "# Print classification report in a readable table\n",
    "qda_report_table = classification_report(y_test_array, y_pred_qda, target_names=['<=50K', '>50K'], output_dict=False)\n",
    "print(qda_report_table)"
   ]
  },
  {
   "cell_type": "markdown",
   "id": "15810a98-b422-44ff-8046-b376498483f0",
   "metadata": {},
   "source": [
    "We can see a large amount of warning messages which may or may not be problematic. We will try to address this, however, from our cross-validation, we can see that setting the regularisation parameter to its highest possible value improved our model accuracy to 82%. This suggests that regularsation can be used to improve the model."
   ]
  },
  {
   "cell_type": "markdown",
   "id": "739cb199-77d3-41be-a2c2-92f9f293c342",
   "metadata": {},
   "source": [
    "## Addressing Collinearity in QDA\n",
    "When we implement our QDA model we encounter warning messages stating 'Variables are collinear'. We will finish this part of the project by investigating ways to remedy this."
   ]
  },
  {
   "cell_type": "markdown",
   "id": "4f798e6b-e89f-4511-953e-24bb1b02597d",
   "metadata": {},
   "source": [
    "## Removing Highly-Correlated Variables\n",
    "We look for highly-correlated variables which are affecting the QDA and will remove any found to hopefully improve our model."
   ]
  },
  {
   "cell_type": "code",
   "execution_count": 13,
   "id": "963d25e4-38b1-42d0-9b1d-aea1b5c22653",
   "metadata": {},
   "outputs": [
    {
     "name": "stdout",
     "output_type": "stream",
     "text": [
      "Highly-correlated pairs: [('occupation_nan', 'workclass_nan')]\n"
     ]
    }
   ],
   "source": [
    "# Calculate correlation matrix\n",
    "corr_matrix = X_train_encoded.corr()\n",
    "\n",
    "# Identify columns with high correlation (> 0.9)\n",
    "high_corr_pairs = []\n",
    "\n",
    "# Iterate through the correlation matrix to find highly correlated pairs\n",
    "for i in range(len(corr_matrix.columns)):\n",
    "    for j in range(i):\n",
    "        if abs(corr_matrix.iloc[i, j]) > 0.9:\n",
    "            high_corr_pairs.append((corr_matrix.columns[i], corr_matrix.columns[j]))\n",
    "\n",
    "print(f\"Highly-correlated pairs: {high_corr_pairs}\")"
   ]
  },
  {
   "cell_type": "markdown",
   "id": "fb76b9ba-f6db-4fbc-87ab-5e1f0987e933",
   "metadata": {},
   "source": [
    "We have found that 'occupation' and 'workclass' are highly correlated. From our EDA we know that these variables have large amounts of missingness which is likely contributing to why they are correlated so highly. Also, missingess is an issue when we are modelling our data, so here we will remove these variables when we pre-process our data and re-run our QDA model."
   ]
  },
  {
   "cell_type": "code",
   "execution_count": 15,
   "id": "59e629b7-287b-46f0-a4bb-c34b2cb7b230",
   "metadata": {},
   "outputs": [],
   "source": [
    "# Drop the highly correlated variables from the dataset\n",
    "new_X_train_reduced = X_train_encoded.drop(columns=(['workclass_nan', 'occupation_nan']))\n",
    "new_X_test_reduced = X_test_encoded.drop(columns=(['workclass_nan', 'occupation_nan']))\n",
    "\n",
    "# Concatenate the numeric columns back with the one-hot encoded categorical columns\n",
    "new_X_train_full = pd.concat([X_train[numeric_columns].reset_index(drop=True), new_X_train_reduced.reset_index(drop=True)], axis=1)\n",
    "new_X_test_full = pd.concat([X_test[numeric_columns].reset_index(drop=True), new_X_test_reduced.reset_index(drop=True)], axis=1)\n",
    "\n",
    "# Standardize the numerical features\n",
    "scaler = StandardScaler()\n",
    "new_X_train_scaled = scaler.fit_transform(new_X_train_full)\n",
    "new_X_test_scaled = scaler.transform(new_X_test_full)\n",
    "\n",
    "# Ensure the target variables are flattened arrays\n",
    "new_y_train_array = y_train['income'].values.ravel()\n",
    "new_y_test_array = y_test['income'].values.ravel()"
   ]
  },
  {
   "cell_type": "code",
   "execution_count": 16,
   "id": "dec23e8d-c937-43cf-b4f3-e1bb43994187",
   "metadata": {},
   "outputs": [
    {
     "name": "stderr",
     "output_type": "stream",
     "text": [
      "C:\\Users\\milse\\AppData\\Local\\Programs\\Python\\Python311\\Lib\\site-packages\\sklearn\\discriminant_analysis.py:947: UserWarning: Variables are collinear\n",
      "  warnings.warn(\"Variables are collinear\")\n"
     ]
    },
    {
     "name": "stdout",
     "output_type": "stream",
     "text": [
      "Accuracy: 0.82\n",
      "Confusion Matrix:\n",
      "[[5948  914]\n",
      " [ 680 1526]]\n",
      "              precision    recall  f1-score   support\n",
      "\n",
      "       <=50K       0.90      0.87      0.88      6862\n",
      "        >50K       0.63      0.69      0.66      2206\n",
      "\n",
      "    accuracy                           0.82      9068\n",
      "   macro avg       0.76      0.78      0.77      9068\n",
      "weighted avg       0.83      0.82      0.83      9068\n",
      "\n"
     ]
    }
   ],
   "source": [
    "# Fit the Quadratic Discriminant Analysis (QDA) model\n",
    "qda = QuadraticDiscriminantAnalysis(reg_param=1)\n",
    "qda.fit(new_X_train_scaled, new_y_train_array)\n",
    "\n",
    "# Predict on the test set\n",
    "new_y_pred_qda = qda.predict(new_X_test_scaled)\n",
    "\n",
    "# Evaluate the model's performance\n",
    "qda_accuracy = accuracy_score(new_y_test_array, new_y_pred_qda)\n",
    "qda_conf_matrix = confusion_matrix(new_y_test_array, new_y_pred_qda)\n",
    "\n",
    "# Print the evaluation results\n",
    "print(f'Accuracy: {qda_accuracy:.2f}')\n",
    "print('Confusion Matrix:')\n",
    "print(qda_conf_matrix)\n",
    "\n",
    "# Generate the classification report as a dictionary for later use\n",
    "qda_report = classification_report(new_y_test_array, new_y_pred_qda, target_names=['<=50K', '>50K'], output_dict=True)\n",
    "\n",
    "# Print classification report in a readable table\n",
    "qda_report_table = classification_report(new_y_test_array, new_y_pred_qda, target_names=['<=50K', '>50K'], output_dict=False)\n",
    "print(qda_report_table)"
   ]
  },
  {
   "cell_type": "markdown",
   "id": "2654e478-56eb-4530-a1d2-7ee85a25a58b",
   "metadata": {},
   "source": [
    "We still have the warning message, so it seems there is a more complex problem here. This is perhaps to do with the underlying structure of the dataset, which is highly imbalanced and has missing values."
   ]
  },
  {
   "cell_type": "markdown",
   "id": "2a4795d4-80af-418e-a72a-9550ac71b4ac",
   "metadata": {},
   "source": [
    "## Receiver Operator Curves"
   ]
  },
  {
   "cell_type": "markdown",
   "id": "63d428f4-0e65-472e-a83f-df265ff2dd74",
   "metadata": {},
   "source": [
    "We will now compare the receiever-operator curves of the LDA and QDA models with regularisation using their optimal hyperparameters."
   ]
  },
  {
   "cell_type": "code",
   "execution_count": 18,
   "id": "894583ae-1d60-4132-b4df-50a051809109",
   "metadata": {},
   "outputs": [
    {
     "data": {
      "image/png": "[encoded data removed]",
      "text/plain": [
       "<Figure size 800x800 with 1 Axes>"
      ]
     },
     "metadata": {},
     "output_type": "display_data"
    }
   ],
   "source": [
    "# Get predicted probabilities for (regularised) LDA\n",
    "y_pred_prob_lda = best_lda.predict_proba(X_train_scaled)[:,1]\n",
    "fpr_lda, tpr_lda, _ = roc_curve(y_train_array, y_pred_prob_lda, pos_label='>50K')\n",
    "roc_auc_lda = auc(fpr_lda, tpr_lda)\n",
    "\n",
    "# Get predicted probabilities for (regularised) QDA\n",
    "y_pred_prob_qda = best_qda.predict_proba(X_train_scaled)[:,1]\n",
    "fpr_qda, tpr_qda, _ = roc_curve(y_train_array, y_pred_prob_qda, pos_label='>50K')\n",
    "roc_auc_qda = auc(fpr_qda, tpr_qda)\n",
    "\n",
    "# Plot ROC curves for both (regularised) LDA and (regularised) QDA\n",
    "plt.figure(figsize=(8, 8))\n",
    "plt.plot(fpr_lda, tpr_lda, color='blue', label=f'LDA (AUC = {roc_auc_lda:.2f})')\n",
    "plt.plot(fpr_qda, tpr_qda, color='green', label=f'QDA (AUC = {roc_auc_qda:.2f})')\n",
    "plt.plot([0, 1], [0, 1], color='red', linestyle='--')  # Diagonal line for random guessing\n",
    "plt.xlim([0.0, 1.0])\n",
    "plt.ylim([0.0, 1.05])\n",
    "plt.xlabel('False Positive Rate')\n",
    "plt.ylabel('True Positive Rate')\n",
    "plt.title('Receiver Operating Curve for LDA and QDA')\n",
    "plt.legend(loc='lower right')\n",
    "plt.grid()\n",
    "plt.show()"
   ]
  },
  {
   "cell_type": "markdown",
   "id": "c5047fc9-b6d7-4b1c-b909-bd8393efd2e9",
   "metadata": {},
   "source": [
    "We can see that the LDA curve no longer entirely dominates the QDA curve and now the Area Under Curve (AUC) values are much closer at 0.90 and 0.89. This clearly shows that regularisation significantly improved our QDA model. However, the LDA curve still has a higher value, so we will say that LDA is much more suitable and performs better for our data than QDA even with regularisation."
   ]
  },
  {
   "cell_type": "markdown",
   "id": "3bd869ff-2713-4006-8896-f2fdc1364815",
   "metadata": {
    "jp-MarkdownHeadingCollapsed": true
   },
   "source": [
    "## Conclusion\n",
    "We have investigated three types of discriminant analysis models. The linear discriminant analysis model and the regularised dsicriminant analysis model significantly outperformed the quadratic discriminant analysis model. This led us to investigate different regularisation techniques to try and improve our models. We used cross-validation to tune the regularisation hyperparameters and this improved our QDA model significantly but had little effect on our LDA model. Also, we attempted to remove the warning messages our QDA model was giving us but we were unsuccessful. This suggested that we need to further investigate the nderlying structure of the dataset, which is highly imbalanced and has missing values.\n",
    "We end this section with some confidence in discriminant analysis models to classify income data, taking care to improve our models to prevent bias towards the lower income class. This was expected due to the imbalance in our dataset but still needs to be remedied. We note that due to the large number of categorical covariates, discriminant analysis may be unsuitable for our problem but we still gained some intuition from this discriminant analysis."
   ]
  },
  {
   "cell_type": "markdown",
   "id": "016666a8-a57c-4d78-8d36-ef0e72ebe840",
   "metadata": {},
   "source": [
    "## References\n",
    "[1] Hastie, Trevor, et al. The elements of statistical learning: data mining, inference, and prediction. Vol. 2. New York: springer, 2009.\n",
    "\n",
    "[2] Research Method Article: https://researchmethod.net/discriminant-analysis/\n",
    "\n",
    "[3] scikit-learn Documentation - 1.2 Linear and Quadratic Discriminant Analysis: https://scikit-learn.org/stable/modules/lda_qda.html\n",
    "\n",
    "[4] scikit-learn Documenation - 6.3 Preprocessing data: https://scikit-learn.org/stable/modules/preprocessing.html\n",
    "\n",
    "[5] sckit-learn Documentation - 3.4 Metrics and scoring: https://scikit-learn.org/stable/modules/model_evaluation.html#\n",
    "\n",
    "[5] Sebastian Raschka’s PCA vs LDA article with Python Examples: https://sebastianraschka.com/Articles/2014_python_lda.html#lda-via-scikit-learn\n",
    "\n",
    "[6] Data Science Toolbox Lecture Notes on ROC Curves: https://dsbristol.github.io/dst/assets/slides/05.1-Classification.pdf\n",
    "\n",
    "[7] scikit-learn GitHub RDA Implementation: https://github.com/scikit-learn/scikit-learn/blob/main/sklearn/discriminant_analysis.py\n",
    "\n",
    "[8] scikit-learn GridSearchCV Documentation: https://scikit-learn.org/stable/modules/generated/sklearn.model_selection.GridSearchCV.html"
   ]
  }
 ],
 "metadata": {
  "kernelspec": {
   "display_name": "Python 3 (ipykernel)",
   "language": "python",
   "name": "python3"
  },
  "language_info": {
   "codemirror_mode": {
    "name": "ipython",
    "version": 3
   },
   "file_extension": ".py",
   "mimetype": "text/x-python",
   "name": "python",
   "nbconvert_exporter": "python",
   "pygments_lexer": "ipython3",
   "version": "3.11.4"
  }
 },
 "nbformat": 4,
 "nbformat_minor": 5
}
