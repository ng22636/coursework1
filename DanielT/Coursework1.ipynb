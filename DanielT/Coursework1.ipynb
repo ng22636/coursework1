{
 "cells": [
  {
   "cell_type": "markdown",
   "id": "76099f15-0351-4c57-9591-d18fb62492f1",
   "metadata": {},
   "source": [
    "## Set Up"
   ]
  },
  {
   "cell_type": "markdown",
   "id": "d14e491f-ff90-4144-a706-a66fb53ecbe1",
   "metadata": {},
   "source": [
    "We start by importing all required packages. (For some reason running this cell on my laptop often gives an error at first then runs fine the second time.)"
   ]
  },
  {
   "cell_type": "code",
   "execution_count": 1,
   "id": "f1bfd589-78ca-40e7-81b7-24738d1e2103",
   "metadata": {},
   "outputs": [
    {
     "name": "stdout",
     "output_type": "stream",
     "text": [
      "Requirement already satisfied: pandas in /opt/venv/lib/python3.10/site-packages (2.2.3)\n",
      "Requirement already satisfied: numpy>=1.22.4 in /opt/venv/lib/python3.10/site-packages (from pandas) (2.1.2)\n",
      "Requirement already satisfied: python-dateutil>=2.8.2 in /opt/venv/lib/python3.10/site-packages (from pandas) (2.9.0.post0)\n",
      "Requirement already satisfied: pytz>=2020.1 in /opt/venv/lib/python3.10/site-packages (from pandas) (2024.2)\n",
      "Requirement already satisfied: tzdata>=2022.7 in /opt/venv/lib/python3.10/site-packages (from pandas) (2024.2)\n",
      "Requirement already satisfied: six>=1.5 in /opt/venv/lib/python3.10/site-packages (from python-dateutil>=2.8.2->pandas) (1.16.0)\n",
      "Requirement already satisfied: scikit-learn in /opt/venv/lib/python3.10/site-packages (1.5.2)\n",
      "Requirement already satisfied: numpy>=1.19.5 in /opt/venv/lib/python3.10/site-packages (from scikit-learn) (2.1.2)\n",
      "Requirement already satisfied: scipy>=1.6.0 in /opt/venv/lib/python3.10/site-packages (from scikit-learn) (1.14.1)\n",
      "Requirement already satisfied: joblib>=1.2.0 in /opt/venv/lib/python3.10/site-packages (from scikit-learn) (1.4.2)\n",
      "Requirement already satisfied: threadpoolctl>=3.1.0 in /opt/venv/lib/python3.10/site-packages (from scikit-learn) (3.5.0)\n",
      "Requirement already satisfied: ucimlrepo in /opt/venv/lib/python3.10/site-packages (0.0.7)\n",
      "Requirement already satisfied: pandas>=1.0.0 in /opt/venv/lib/python3.10/site-packages (from ucimlrepo) (2.2.3)\n",
      "Requirement already satisfied: certifi>=2020.12.5 in /opt/venv/lib/python3.10/site-packages (from ucimlrepo) (2024.8.30)\n",
      "Requirement already satisfied: numpy>=1.22.4 in /opt/venv/lib/python3.10/site-packages (from pandas>=1.0.0->ucimlrepo) (2.1.2)\n",
      "Requirement already satisfied: python-dateutil>=2.8.2 in /opt/venv/lib/python3.10/site-packages (from pandas>=1.0.0->ucimlrepo) (2.9.0.post0)\n",
      "Requirement already satisfied: pytz>=2020.1 in /opt/venv/lib/python3.10/site-packages (from pandas>=1.0.0->ucimlrepo) (2024.2)\n",
      "Requirement already satisfied: tzdata>=2022.7 in /opt/venv/lib/python3.10/site-packages (from pandas>=1.0.0->ucimlrepo) (2024.2)\n",
      "Requirement already satisfied: six>=1.5 in /opt/venv/lib/python3.10/site-packages (from python-dateutil>=2.8.2->pandas>=1.0.0->ucimlrepo) (1.16.0)\n",
      "Requirement already satisfied: matplotlib in /opt/venv/lib/python3.10/site-packages (3.9.2)\n",
      "Requirement already satisfied: contourpy>=1.0.1 in /opt/venv/lib/python3.10/site-packages (from matplotlib) (1.3.0)\n",
      "Requirement already satisfied: cycler>=0.10 in /opt/venv/lib/python3.10/site-packages (from matplotlib) (0.12.1)\n",
      "Requirement already satisfied: fonttools>=4.22.0 in /opt/venv/lib/python3.10/site-packages (from matplotlib) (4.54.1)\n",
      "Requirement already satisfied: kiwisolver>=1.3.1 in /opt/venv/lib/python3.10/site-packages (from matplotlib) (1.4.7)\n",
      "Requirement already satisfied: numpy>=1.23 in /opt/venv/lib/python3.10/site-packages (from matplotlib) (2.1.2)\n",
      "Requirement already satisfied: packaging>=20.0 in /opt/venv/lib/python3.10/site-packages (from matplotlib) (24.1)\n",
      "Requirement already satisfied: pillow>=8 in /opt/venv/lib/python3.10/site-packages (from matplotlib) (11.0.0)\n",
      "Requirement already satisfied: pyparsing>=2.3.1 in /opt/venv/lib/python3.10/site-packages (from matplotlib) (3.2.0)\n",
      "Requirement already satisfied: python-dateutil>=2.7 in /opt/venv/lib/python3.10/site-packages (from matplotlib) (2.9.0.post0)\n",
      "Requirement already satisfied: six>=1.5 in /opt/venv/lib/python3.10/site-packages (from python-dateutil>=2.7->matplotlib) (1.16.0)\n",
      "{'uci_id': 2, 'name': 'Adult', 'repository_url': 'https://archive.ics.uci.edu/dataset/2/adult', 'data_url': 'https://archive.ics.uci.edu/static/public/2/data.csv', 'abstract': 'Predict whether annual income of an individual exceeds $50K/yr based on census data. Also known as \"Census Income\" dataset. ', 'area': 'Social Science', 'tasks': ['Classification'], 'characteristics': ['Multivariate'], 'num_instances': 48842, 'num_features': 14, 'feature_types': ['Categorical', 'Integer'], 'demographics': ['Age', 'Income', 'Education Level', 'Other', 'Race', 'Sex'], 'target_col': ['income'], 'index_col': None, 'has_missing_values': 'yes', 'missing_values_symbol': 'NaN', 'year_of_dataset_creation': 1996, 'last_updated': 'Tue Sep 24 2024', 'dataset_doi': '10.24432/C5XW20', 'creators': ['Barry Becker', 'Ronny Kohavi'], 'intro_paper': None, 'additional_info': {'summary': \"Extraction was done by Barry Becker from the 1994 Census database.  A set of reasonably clean records was extracted using the following conditions: ((AAGE>16) && (AGI>100) && (AFNLWGT>1)&& (HRSWK>0))\\n\\nPrediction task is to determine whether a person's income is over $50,000 a year.\\n\", 'purpose': None, 'funded_by': None, 'instances_represent': None, 'recommended_data_splits': None, 'sensitive_data': None, 'preprocessing_description': None, 'variable_info': 'Listing of attributes:\\r\\n\\r\\n>50K, <=50K.\\r\\n\\r\\nage: continuous.\\r\\nworkclass: Private, Self-emp-not-inc, Self-emp-inc, Federal-gov, Local-gov, State-gov, Without-pay, Never-worked.\\r\\nfnlwgt: continuous.\\r\\neducation: Bachelors, Some-college, 11th, HS-grad, Prof-school, Assoc-acdm, Assoc-voc, 9th, 7th-8th, 12th, Masters, 1st-4th, 10th, Doctorate, 5th-6th, Preschool.\\r\\neducation-num: continuous.\\r\\nmarital-status: Married-civ-spouse, Divorced, Never-married, Separated, Widowed, Married-spouse-absent, Married-AF-spouse.\\r\\noccupation: Tech-support, Craft-repair, Other-service, Sales, Exec-managerial, Prof-specialty, Handlers-cleaners, Machine-op-inspct, Adm-clerical, Farming-fishing, Transport-moving, Priv-house-serv, Protective-serv, Armed-Forces.\\r\\nrelationship: Wife, Own-child, Husband, Not-in-family, Other-relative, Unmarried.\\r\\nrace: White, Asian-Pac-Islander, Amer-Indian-Eskimo, Other, Black.\\r\\nsex: Female, Male.\\r\\ncapital-gain: continuous.\\r\\ncapital-loss: continuous.\\r\\nhours-per-week: continuous.\\r\\nnative-country: United-States, Cambodia, England, Puerto-Rico, Canada, Germany, Outlying-US(Guam-USVI-etc), India, Japan, Greece, South, China, Cuba, Iran, Honduras, Philippines, Italy, Poland, Jamaica, Vietnam, Mexico, Portugal, Ireland, France, Dominican-Republic, Laos, Ecuador, Taiwan, Haiti, Columbia, Hungary, Guatemala, Nicaragua, Scotland, Thailand, Yugoslavia, El-Salvador, Trinadad&Tobago, Peru, Hong, Holand-Netherlands.', 'citation': None}}\n",
      "              name     role         type      demographic  \\\n",
      "0              age  Feature      Integer              Age   \n",
      "1        workclass  Feature  Categorical           Income   \n",
      "2           fnlwgt  Feature      Integer             None   \n",
      "3        education  Feature  Categorical  Education Level   \n",
      "4    education-num  Feature      Integer  Education Level   \n",
      "5   marital-status  Feature  Categorical            Other   \n",
      "6       occupation  Feature  Categorical            Other   \n",
      "7     relationship  Feature  Categorical            Other   \n",
      "8             race  Feature  Categorical             Race   \n",
      "9              sex  Feature       Binary              Sex   \n",
      "10    capital-gain  Feature      Integer             None   \n",
      "11    capital-loss  Feature      Integer             None   \n",
      "12  hours-per-week  Feature      Integer             None   \n",
      "13  native-country  Feature  Categorical            Other   \n",
      "14          income   Target       Binary           Income   \n",
      "\n",
      "                                          description units missing_values  \n",
      "0                                                 N/A  None             no  \n",
      "1   Private, Self-emp-not-inc, Self-emp-inc, Feder...  None            yes  \n",
      "2                                                None  None             no  \n",
      "3    Bachelors, Some-college, 11th, HS-grad, Prof-...  None             no  \n",
      "4                                                None  None             no  \n",
      "5   Married-civ-spouse, Divorced, Never-married, S...  None             no  \n",
      "6   Tech-support, Craft-repair, Other-service, Sal...  None            yes  \n",
      "7   Wife, Own-child, Husband, Not-in-family, Other...  None             no  \n",
      "8   White, Asian-Pac-Islander, Amer-Indian-Eskimo,...  None             no  \n",
      "9                                       Female, Male.  None             no  \n",
      "10                                               None  None             no  \n",
      "11                                               None  None             no  \n",
      "12                                               None  None             no  \n",
      "13  United-States, Cambodia, England, Puerto-Rico,...  None            yes  \n",
      "14                                       >50K, <=50K.  None             no  \n"
     ]
    }
   ],
   "source": [
    "import sys\n",
    "!{sys.executable} -m pip install pandas\n",
    "!{sys.executable} -m pip install scikit-learn\n",
    "!{sys.executable} -m pip install ucimlrepo\n",
    "!{sys.executable} -m pip install matplotlib\n",
    "import numpy as np\n",
    "import matplotlib.pyplot as plt\n",
    "import pandas as pd\n",
    "from sklearn.model_selection import *\n",
    "from sklearn import svm\n",
    "from sklearn import metrics\n",
    "from sklearn.preprocessing import OneHotEncoder\n",
    "from sklearn.inspection import permutation_importance\n",
    "from ucimlrepo import fetch_ucirepo \n",
    "  \n",
    "# fetch dataset \n",
    "adult = fetch_ucirepo(id=2) \n",
    "  \n",
    "# data (as pandas dataframes) \n",
    "X = adult.data.features \n",
    "y = adult.data.targets \n",
    "  \n",
    "# metadata \n",
    "print(adult.metadata) \n",
    "  \n",
    "# variable information \n",
    "print(adult.variables) \n"
   ]
  },
  {
   "cell_type": "code",
   "execution_count": 2,
   "id": "50556447-6af2-4ce4-867d-27a559ab836a",
   "metadata": {},
   "outputs": [
    {
     "data": {
      "text/html": [
       "<div>\n",
       "<style scoped>\n",
       "    .dataframe tbody tr th:only-of-type {\n",
       "        vertical-align: middle;\n",
       "    }\n",
       "\n",
       "    .dataframe tbody tr th {\n",
       "        vertical-align: top;\n",
       "    }\n",
       "\n",
       "    .dataframe thead th {\n",
       "        text-align: right;\n",
       "    }\n",
       "</style>\n",
       "<table border=\"1\" class=\"dataframe\">\n",
       "  <thead>\n",
       "    <tr style=\"text-align: right;\">\n",
       "      <th></th>\n",
       "      <th>age</th>\n",
       "      <th>workclass</th>\n",
       "      <th>fnlwgt</th>\n",
       "      <th>education</th>\n",
       "      <th>education-num</th>\n",
       "      <th>marital-status</th>\n",
       "      <th>occupation</th>\n",
       "      <th>relationship</th>\n",
       "      <th>race</th>\n",
       "      <th>sex</th>\n",
       "      <th>capital-gain</th>\n",
       "      <th>capital-loss</th>\n",
       "      <th>hours-per-week</th>\n",
       "      <th>native-country</th>\n",
       "    </tr>\n",
       "  </thead>\n",
       "  <tbody>\n",
       "    <tr>\n",
       "      <th>0</th>\n",
       "      <td>39</td>\n",
       "      <td>State-gov</td>\n",
       "      <td>77516</td>\n",
       "      <td>Bachelors</td>\n",
       "      <td>13</td>\n",
       "      <td>Never-married</td>\n",
       "      <td>Adm-clerical</td>\n",
       "      <td>Not-in-family</td>\n",
       "      <td>White</td>\n",
       "      <td>Male</td>\n",
       "      <td>2174</td>\n",
       "      <td>0</td>\n",
       "      <td>40</td>\n",
       "      <td>United-States</td>\n",
       "    </tr>\n",
       "    <tr>\n",
       "      <th>1</th>\n",
       "      <td>50</td>\n",
       "      <td>Self-emp-not-inc</td>\n",
       "      <td>83311</td>\n",
       "      <td>Bachelors</td>\n",
       "      <td>13</td>\n",
       "      <td>Married-civ-spouse</td>\n",
       "      <td>Exec-managerial</td>\n",
       "      <td>Husband</td>\n",
       "      <td>White</td>\n",
       "      <td>Male</td>\n",
       "      <td>0</td>\n",
       "      <td>0</td>\n",
       "      <td>13</td>\n",
       "      <td>United-States</td>\n",
       "    </tr>\n",
       "    <tr>\n",
       "      <th>2</th>\n",
       "      <td>38</td>\n",
       "      <td>Private</td>\n",
       "      <td>215646</td>\n",
       "      <td>HS-grad</td>\n",
       "      <td>9</td>\n",
       "      <td>Divorced</td>\n",
       "      <td>Handlers-cleaners</td>\n",
       "      <td>Not-in-family</td>\n",
       "      <td>White</td>\n",
       "      <td>Male</td>\n",
       "      <td>0</td>\n",
       "      <td>0</td>\n",
       "      <td>40</td>\n",
       "      <td>United-States</td>\n",
       "    </tr>\n",
       "    <tr>\n",
       "      <th>3</th>\n",
       "      <td>53</td>\n",
       "      <td>Private</td>\n",
       "      <td>234721</td>\n",
       "      <td>11th</td>\n",
       "      <td>7</td>\n",
       "      <td>Married-civ-spouse</td>\n",
       "      <td>Handlers-cleaners</td>\n",
       "      <td>Husband</td>\n",
       "      <td>Black</td>\n",
       "      <td>Male</td>\n",
       "      <td>0</td>\n",
       "      <td>0</td>\n",
       "      <td>40</td>\n",
       "      <td>United-States</td>\n",
       "    </tr>\n",
       "    <tr>\n",
       "      <th>4</th>\n",
       "      <td>28</td>\n",
       "      <td>Private</td>\n",
       "      <td>338409</td>\n",
       "      <td>Bachelors</td>\n",
       "      <td>13</td>\n",
       "      <td>Married-civ-spouse</td>\n",
       "      <td>Prof-specialty</td>\n",
       "      <td>Wife</td>\n",
       "      <td>Black</td>\n",
       "      <td>Female</td>\n",
       "      <td>0</td>\n",
       "      <td>0</td>\n",
       "      <td>40</td>\n",
       "      <td>Cuba</td>\n",
       "    </tr>\n",
       "  </tbody>\n",
       "</table>\n",
       "</div>"
      ],
      "text/plain": [
       "   age         workclass  fnlwgt  education  education-num  \\\n",
       "0   39         State-gov   77516  Bachelors             13   \n",
       "1   50  Self-emp-not-inc   83311  Bachelors             13   \n",
       "2   38           Private  215646    HS-grad              9   \n",
       "3   53           Private  234721       11th              7   \n",
       "4   28           Private  338409  Bachelors             13   \n",
       "\n",
       "       marital-status         occupation   relationship   race     sex  \\\n",
       "0       Never-married       Adm-clerical  Not-in-family  White    Male   \n",
       "1  Married-civ-spouse    Exec-managerial        Husband  White    Male   \n",
       "2            Divorced  Handlers-cleaners  Not-in-family  White    Male   \n",
       "3  Married-civ-spouse  Handlers-cleaners        Husband  Black    Male   \n",
       "4  Married-civ-spouse     Prof-specialty           Wife  Black  Female   \n",
       "\n",
       "   capital-gain  capital-loss  hours-per-week native-country  \n",
       "0          2174             0              40  United-States  \n",
       "1             0             0              13  United-States  \n",
       "2             0             0              40  United-States  \n",
       "3             0             0              40  United-States  \n",
       "4             0             0              40           Cuba  "
      ]
     },
     "execution_count": 2,
     "metadata": {},
     "output_type": "execute_result"
    }
   ],
   "source": [
    "X.head()"
   ]
  },
  {
   "cell_type": "markdown",
   "id": "abcc29f5-c86e-43df-ba6e-efbde6ef4bc6",
   "metadata": {},
   "source": [
    "Next we split our data into a training and test set. "
   ]
  },
  {
   "cell_type": "code",
   "execution_count": 3,
   "id": "6da72e28-9c38-4262-b62d-f393a8cbaa23",
   "metadata": {},
   "outputs": [],
   "source": [
    "# split into 80% training and 20% testing sets\n",
    "X_train, X_test, y_train, y_test = train_test_split(X, y, test_size=0.2, random_state=3)"
   ]
  },
  {
   "cell_type": "code",
   "execution_count": 4,
   "id": "0ab1d311-f414-453f-9667-50b464f57602",
   "metadata": {},
   "outputs": [
    {
     "data": {
      "text/html": [
       "<div>\n",
       "<style scoped>\n",
       "    .dataframe tbody tr th:only-of-type {\n",
       "        vertical-align: middle;\n",
       "    }\n",
       "\n",
       "    .dataframe tbody tr th {\n",
       "        vertical-align: top;\n",
       "    }\n",
       "\n",
       "    .dataframe thead th {\n",
       "        text-align: right;\n",
       "    }\n",
       "</style>\n",
       "<table border=\"1\" class=\"dataframe\">\n",
       "  <thead>\n",
       "    <tr style=\"text-align: right;\">\n",
       "      <th></th>\n",
       "      <th>income</th>\n",
       "    </tr>\n",
       "  </thead>\n",
       "  <tbody>\n",
       "    <tr>\n",
       "      <th>45492</th>\n",
       "      <td>&lt;=50K.</td>\n",
       "    </tr>\n",
       "    <tr>\n",
       "      <th>40885</th>\n",
       "      <td>&lt;=50K.</td>\n",
       "    </tr>\n",
       "    <tr>\n",
       "      <th>35713</th>\n",
       "      <td>&lt;=50K.</td>\n",
       "    </tr>\n",
       "    <tr>\n",
       "      <th>26124</th>\n",
       "      <td>&gt;50K</td>\n",
       "    </tr>\n",
       "    <tr>\n",
       "      <th>15819</th>\n",
       "      <td>&lt;=50K</td>\n",
       "    </tr>\n",
       "    <tr>\n",
       "      <th>...</th>\n",
       "      <td>...</td>\n",
       "    </tr>\n",
       "    <tr>\n",
       "      <th>25544</th>\n",
       "      <td>&lt;=50K</td>\n",
       "    </tr>\n",
       "    <tr>\n",
       "      <th>48056</th>\n",
       "      <td>&gt;50K.</td>\n",
       "    </tr>\n",
       "    <tr>\n",
       "      <th>11513</th>\n",
       "      <td>&gt;50K</td>\n",
       "    </tr>\n",
       "    <tr>\n",
       "      <th>1688</th>\n",
       "      <td>&lt;=50K</td>\n",
       "    </tr>\n",
       "    <tr>\n",
       "      <th>5994</th>\n",
       "      <td>&lt;=50K</td>\n",
       "    </tr>\n",
       "  </tbody>\n",
       "</table>\n",
       "<p>39073 rows × 1 columns</p>\n",
       "</div>"
      ],
      "text/plain": [
       "       income\n",
       "45492  <=50K.\n",
       "40885  <=50K.\n",
       "35713  <=50K.\n",
       "26124    >50K\n",
       "15819   <=50K\n",
       "...       ...\n",
       "25544   <=50K\n",
       "48056   >50K.\n",
       "11513    >50K\n",
       "1688    <=50K\n",
       "5994    <=50K\n",
       "\n",
       "[39073 rows x 1 columns]"
      ]
     },
     "execution_count": 4,
     "metadata": {},
     "output_type": "execute_result"
    }
   ],
   "source": [
    "y_train"
   ]
  },
  {
   "cell_type": "markdown",
   "id": "bbc7409b-eccd-466c-b40f-8606e19ad953",
   "metadata": {},
   "source": [
    "Unfortunately we see an inconsistency in the dataset, where the same income is either labelled as <=50K or <=50K. We can see below that this splits the same group into subgroups which is not helpful."
   ]
  },
  {
   "cell_type": "code",
   "execution_count": 5,
   "id": "7677f9c3-5bc3-450b-ad82-d3899506d2f7",
   "metadata": {},
   "outputs": [
    {
     "data": {
      "text/plain": [
       "income\n",
       "<=50K     19773\n",
       "<=50K.     9982\n",
       ">50K       6288\n",
       ">50K.      3030\n",
       "Name: count, dtype: int64"
      ]
     },
     "execution_count": 5,
     "metadata": {},
     "output_type": "execute_result"
    }
   ],
   "source": [
    "y_train['income'].value_counts()"
   ]
  },
  {
   "cell_type": "markdown",
   "id": "54dc5cb7-5da8-42db-9a91-a0a4de279e09",
   "metadata": {},
   "source": [
    "To fix this we first locate the rows which have a full stop at the end. "
   ]
  },
  {
   "cell_type": "code",
   "execution_count": 6,
   "id": "4832954b-cf2d-49d6-ac0c-d9e8cb7fa5c6",
   "metadata": {},
   "outputs": [
    {
     "data": {
      "text/html": [
       "<div>\n",
       "<style scoped>\n",
       "    .dataframe tbody tr th:only-of-type {\n",
       "        vertical-align: middle;\n",
       "    }\n",
       "\n",
       "    .dataframe tbody tr th {\n",
       "        vertical-align: top;\n",
       "    }\n",
       "\n",
       "    .dataframe thead th {\n",
       "        text-align: right;\n",
       "    }\n",
       "</style>\n",
       "<table border=\"1\" class=\"dataframe\">\n",
       "  <thead>\n",
       "    <tr style=\"text-align: right;\">\n",
       "      <th></th>\n",
       "      <th>income</th>\n",
       "    </tr>\n",
       "  </thead>\n",
       "  <tbody>\n",
       "    <tr>\n",
       "      <th>45492</th>\n",
       "      <td>&lt;=50K.</td>\n",
       "    </tr>\n",
       "    <tr>\n",
       "      <th>40885</th>\n",
       "      <td>&lt;=50K.</td>\n",
       "    </tr>\n",
       "    <tr>\n",
       "      <th>35713</th>\n",
       "      <td>&lt;=50K.</td>\n",
       "    </tr>\n",
       "    <tr>\n",
       "      <th>34142</th>\n",
       "      <td>&lt;=50K.</td>\n",
       "    </tr>\n",
       "    <tr>\n",
       "      <th>35555</th>\n",
       "      <td>&lt;=50K.</td>\n",
       "    </tr>\n",
       "  </tbody>\n",
       "</table>\n",
       "</div>"
      ],
      "text/plain": [
       "       income\n",
       "45492  <=50K.\n",
       "40885  <=50K.\n",
       "35713  <=50K.\n",
       "34142  <=50K.\n",
       "35555  <=50K."
      ]
     },
     "execution_count": 6,
     "metadata": {},
     "output_type": "execute_result"
    }
   ],
   "source": [
    "r1 = y_train.loc[y_train[\"income\"] == \"<=50K.\"]\n",
    "r2 = y_train.loc[y_train[\"income\"] == \">50K.\"]\n",
    "r1.head()"
   ]
  },
  {
   "cell_type": "markdown",
   "id": "28a3c734-f78d-4143-9a3e-95d86fa99ff9",
   "metadata": {},
   "source": [
    "Then we edit those rows to fix their values. "
   ]
  },
  {
   "cell_type": "code",
   "execution_count": 7,
   "id": "493a4bdc-e89e-4c68-af8c-b20b838fe634",
   "metadata": {},
   "outputs": [
    {
     "data": {
      "text/plain": [
       "array([45492, 40885, 35713, ..., 39829, 43883, 39168])"
      ]
     },
     "execution_count": 7,
     "metadata": {},
     "output_type": "execute_result"
    }
   ],
   "source": [
    "r1 = r1.index.values\n",
    "r2 = r2.index.values\n",
    "r1"
   ]
  },
  {
   "cell_type": "code",
   "execution_count": 8,
   "id": "ca0cddc5-bcea-4d3d-9814-0114496f4ef1",
   "metadata": {},
   "outputs": [
    {
     "data": {
      "text/plain": [
       "income\n",
       "<=50K    29755\n",
       ">50K      9318\n",
       "Name: count, dtype: int64"
      ]
     },
     "execution_count": 8,
     "metadata": {},
     "output_type": "execute_result"
    }
   ],
   "source": [
    "y_train.loc[r1] = \"<=50K\"\n",
    "y_train.loc[r2] = \">50K\"\n",
    "y_train['income'].value_counts()"
   ]
  },
  {
   "cell_type": "markdown",
   "id": "4aa613be-2d19-4a8c-bbbe-ffc24f070892",
   "metadata": {},
   "source": [
    "We can now see the y values have been fixed."
   ]
  },
  {
   "cell_type": "markdown",
   "id": "dd61d396-1ba3-470b-9c43-debdd3c46dfd",
   "metadata": {},
   "source": [
    "## Exploratory Data Analysis"
   ]
  },
  {
   "cell_type": "code",
   "execution_count": 9,
   "id": "60d4674b-420c-4514-b487-cc0c0f0ea34c",
   "metadata": {},
   "outputs": [
    {
     "data": {
      "text/html": [
       "<div>\n",
       "<style scoped>\n",
       "    .dataframe tbody tr th:only-of-type {\n",
       "        vertical-align: middle;\n",
       "    }\n",
       "\n",
       "    .dataframe tbody tr th {\n",
       "        vertical-align: top;\n",
       "    }\n",
       "\n",
       "    .dataframe thead th {\n",
       "        text-align: right;\n",
       "    }\n",
       "</style>\n",
       "<table border=\"1\" class=\"dataframe\">\n",
       "  <thead>\n",
       "    <tr style=\"text-align: right;\">\n",
       "      <th></th>\n",
       "      <th>age</th>\n",
       "      <th>workclass</th>\n",
       "      <th>fnlwgt</th>\n",
       "      <th>education</th>\n",
       "      <th>education-num</th>\n",
       "      <th>marital-status</th>\n",
       "      <th>occupation</th>\n",
       "      <th>relationship</th>\n",
       "      <th>race</th>\n",
       "      <th>sex</th>\n",
       "      <th>capital-gain</th>\n",
       "      <th>capital-loss</th>\n",
       "      <th>hours-per-week</th>\n",
       "      <th>native-country</th>\n",
       "    </tr>\n",
       "  </thead>\n",
       "  <tbody>\n",
       "    <tr>\n",
       "      <th>count</th>\n",
       "      <td>39073.000000</td>\n",
       "      <td>38310</td>\n",
       "      <td>3.907300e+04</td>\n",
       "      <td>39073</td>\n",
       "      <td>39073.000000</td>\n",
       "      <td>39073</td>\n",
       "      <td>38308</td>\n",
       "      <td>39073</td>\n",
       "      <td>39073</td>\n",
       "      <td>39073</td>\n",
       "      <td>39073.000000</td>\n",
       "      <td>39073.000000</td>\n",
       "      <td>39073.000000</td>\n",
       "      <td>38857</td>\n",
       "    </tr>\n",
       "    <tr>\n",
       "      <th>unique</th>\n",
       "      <td>NaN</td>\n",
       "      <td>9</td>\n",
       "      <td>NaN</td>\n",
       "      <td>16</td>\n",
       "      <td>NaN</td>\n",
       "      <td>7</td>\n",
       "      <td>15</td>\n",
       "      <td>6</td>\n",
       "      <td>5</td>\n",
       "      <td>2</td>\n",
       "      <td>NaN</td>\n",
       "      <td>NaN</td>\n",
       "      <td>NaN</td>\n",
       "      <td>41</td>\n",
       "    </tr>\n",
       "    <tr>\n",
       "      <th>top</th>\n",
       "      <td>NaN</td>\n",
       "      <td>Private</td>\n",
       "      <td>NaN</td>\n",
       "      <td>HS-grad</td>\n",
       "      <td>NaN</td>\n",
       "      <td>Married-civ-spouse</td>\n",
       "      <td>Prof-specialty</td>\n",
       "      <td>Husband</td>\n",
       "      <td>White</td>\n",
       "      <td>Male</td>\n",
       "      <td>NaN</td>\n",
       "      <td>NaN</td>\n",
       "      <td>NaN</td>\n",
       "      <td>United-States</td>\n",
       "    </tr>\n",
       "    <tr>\n",
       "      <th>freq</th>\n",
       "      <td>NaN</td>\n",
       "      <td>27218</td>\n",
       "      <td>NaN</td>\n",
       "      <td>12638</td>\n",
       "      <td>NaN</td>\n",
       "      <td>17893</td>\n",
       "      <td>4922</td>\n",
       "      <td>15761</td>\n",
       "      <td>33413</td>\n",
       "      <td>26125</td>\n",
       "      <td>NaN</td>\n",
       "      <td>NaN</td>\n",
       "      <td>NaN</td>\n",
       "      <td>35068</td>\n",
       "    </tr>\n",
       "    <tr>\n",
       "      <th>mean</th>\n",
       "      <td>38.616308</td>\n",
       "      <td>NaN</td>\n",
       "      <td>1.896620e+05</td>\n",
       "      <td>NaN</td>\n",
       "      <td>10.068666</td>\n",
       "      <td>NaN</td>\n",
       "      <td>NaN</td>\n",
       "      <td>NaN</td>\n",
       "      <td>NaN</td>\n",
       "      <td>NaN</td>\n",
       "      <td>1082.365188</td>\n",
       "      <td>85.822230</td>\n",
       "      <td>40.413022</td>\n",
       "      <td>NaN</td>\n",
       "    </tr>\n",
       "    <tr>\n",
       "      <th>std</th>\n",
       "      <td>13.723487</td>\n",
       "      <td>NaN</td>\n",
       "      <td>1.058390e+05</td>\n",
       "      <td>NaN</td>\n",
       "      <td>2.570668</td>\n",
       "      <td>NaN</td>\n",
       "      <td>NaN</td>\n",
       "      <td>NaN</td>\n",
       "      <td>NaN</td>\n",
       "      <td>NaN</td>\n",
       "      <td>7496.694296</td>\n",
       "      <td>398.728746</td>\n",
       "      <td>12.303083</td>\n",
       "      <td>NaN</td>\n",
       "    </tr>\n",
       "    <tr>\n",
       "      <th>min</th>\n",
       "      <td>17.000000</td>\n",
       "      <td>NaN</td>\n",
       "      <td>1.228500e+04</td>\n",
       "      <td>NaN</td>\n",
       "      <td>1.000000</td>\n",
       "      <td>NaN</td>\n",
       "      <td>NaN</td>\n",
       "      <td>NaN</td>\n",
       "      <td>NaN</td>\n",
       "      <td>NaN</td>\n",
       "      <td>0.000000</td>\n",
       "      <td>0.000000</td>\n",
       "      <td>1.000000</td>\n",
       "      <td>NaN</td>\n",
       "    </tr>\n",
       "    <tr>\n",
       "      <th>25%</th>\n",
       "      <td>28.000000</td>\n",
       "      <td>NaN</td>\n",
       "      <td>1.175260e+05</td>\n",
       "      <td>NaN</td>\n",
       "      <td>9.000000</td>\n",
       "      <td>NaN</td>\n",
       "      <td>NaN</td>\n",
       "      <td>NaN</td>\n",
       "      <td>NaN</td>\n",
       "      <td>NaN</td>\n",
       "      <td>0.000000</td>\n",
       "      <td>0.000000</td>\n",
       "      <td>40.000000</td>\n",
       "      <td>NaN</td>\n",
       "    </tr>\n",
       "    <tr>\n",
       "      <th>50%</th>\n",
       "      <td>37.000000</td>\n",
       "      <td>NaN</td>\n",
       "      <td>1.780250e+05</td>\n",
       "      <td>NaN</td>\n",
       "      <td>10.000000</td>\n",
       "      <td>NaN</td>\n",
       "      <td>NaN</td>\n",
       "      <td>NaN</td>\n",
       "      <td>NaN</td>\n",
       "      <td>NaN</td>\n",
       "      <td>0.000000</td>\n",
       "      <td>0.000000</td>\n",
       "      <td>40.000000</td>\n",
       "      <td>NaN</td>\n",
       "    </tr>\n",
       "    <tr>\n",
       "      <th>75%</th>\n",
       "      <td>48.000000</td>\n",
       "      <td>NaN</td>\n",
       "      <td>2.373990e+05</td>\n",
       "      <td>NaN</td>\n",
       "      <td>12.000000</td>\n",
       "      <td>NaN</td>\n",
       "      <td>NaN</td>\n",
       "      <td>NaN</td>\n",
       "      <td>NaN</td>\n",
       "      <td>NaN</td>\n",
       "      <td>0.000000</td>\n",
       "      <td>0.000000</td>\n",
       "      <td>45.000000</td>\n",
       "      <td>NaN</td>\n",
       "    </tr>\n",
       "    <tr>\n",
       "      <th>max</th>\n",
       "      <td>90.000000</td>\n",
       "      <td>NaN</td>\n",
       "      <td>1.490400e+06</td>\n",
       "      <td>NaN</td>\n",
       "      <td>16.000000</td>\n",
       "      <td>NaN</td>\n",
       "      <td>NaN</td>\n",
       "      <td>NaN</td>\n",
       "      <td>NaN</td>\n",
       "      <td>NaN</td>\n",
       "      <td>99999.000000</td>\n",
       "      <td>4356.000000</td>\n",
       "      <td>99.000000</td>\n",
       "      <td>NaN</td>\n",
       "    </tr>\n",
       "  </tbody>\n",
       "</table>\n",
       "</div>"
      ],
      "text/plain": [
       "                 age workclass        fnlwgt education  education-num  \\\n",
       "count   39073.000000     38310  3.907300e+04     39073   39073.000000   \n",
       "unique           NaN         9           NaN        16            NaN   \n",
       "top              NaN   Private           NaN   HS-grad            NaN   \n",
       "freq             NaN     27218           NaN     12638            NaN   \n",
       "mean       38.616308       NaN  1.896620e+05       NaN      10.068666   \n",
       "std        13.723487       NaN  1.058390e+05       NaN       2.570668   \n",
       "min        17.000000       NaN  1.228500e+04       NaN       1.000000   \n",
       "25%        28.000000       NaN  1.175260e+05       NaN       9.000000   \n",
       "50%        37.000000       NaN  1.780250e+05       NaN      10.000000   \n",
       "75%        48.000000       NaN  2.373990e+05       NaN      12.000000   \n",
       "max        90.000000       NaN  1.490400e+06       NaN      16.000000   \n",
       "\n",
       "            marital-status      occupation relationship   race    sex  \\\n",
       "count                39073           38308        39073  39073  39073   \n",
       "unique                   7              15            6      5      2   \n",
       "top     Married-civ-spouse  Prof-specialty      Husband  White   Male   \n",
       "freq                 17893            4922        15761  33413  26125   \n",
       "mean                   NaN             NaN          NaN    NaN    NaN   \n",
       "std                    NaN             NaN          NaN    NaN    NaN   \n",
       "min                    NaN             NaN          NaN    NaN    NaN   \n",
       "25%                    NaN             NaN          NaN    NaN    NaN   \n",
       "50%                    NaN             NaN          NaN    NaN    NaN   \n",
       "75%                    NaN             NaN          NaN    NaN    NaN   \n",
       "max                    NaN             NaN          NaN    NaN    NaN   \n",
       "\n",
       "        capital-gain  capital-loss  hours-per-week native-country  \n",
       "count   39073.000000  39073.000000    39073.000000          38857  \n",
       "unique           NaN           NaN             NaN             41  \n",
       "top              NaN           NaN             NaN  United-States  \n",
       "freq             NaN           NaN             NaN          35068  \n",
       "mean     1082.365188     85.822230       40.413022            NaN  \n",
       "std      7496.694296    398.728746       12.303083            NaN  \n",
       "min         0.000000      0.000000        1.000000            NaN  \n",
       "25%         0.000000      0.000000       40.000000            NaN  \n",
       "50%         0.000000      0.000000       40.000000            NaN  \n",
       "75%         0.000000      0.000000       45.000000            NaN  \n",
       "max     99999.000000   4356.000000       99.000000            NaN  "
      ]
     },
     "execution_count": 9,
     "metadata": {},
     "output_type": "execute_result"
    }
   ],
   "source": [
    "X_train.describe(include = 'all') "
   ]
  },
  {
   "cell_type": "markdown",
   "id": "d72855c6-8978-4a99-a24f-ca1556f37169",
   "metadata": {},
   "source": [
    "From here we can see a summary of all variables. We check to see if there are missing values."
   ]
  },
  {
   "cell_type": "code",
   "execution_count": 10,
   "id": "c76727fc-c33a-438e-9b97-dc9f24e89758",
   "metadata": {},
   "outputs": [
    {
     "data": {
      "text/plain": [
       "age                 0\n",
       "workclass         763\n",
       "fnlwgt              0\n",
       "education           0\n",
       "education-num       0\n",
       "marital-status      0\n",
       "occupation        765\n",
       "relationship        0\n",
       "race                0\n",
       "sex                 0\n",
       "capital-gain        0\n",
       "capital-loss        0\n",
       "hours-per-week      0\n",
       "native-country    216\n",
       "dtype: int64"
      ]
     },
     "execution_count": 10,
     "metadata": {},
     "output_type": "execute_result"
    }
   ],
   "source": [
    "X_train.isnull().sum()"
   ]
  },
  {
   "cell_type": "markdown",
   "id": "f4b65f0b-1dba-478b-a0ae-2a764deeb802",
   "metadata": {},
   "source": [
    "The missing values seem to be concentrated on three variables and not significantly large. Next we check the rows with missing values and see how many they add up to."
   ]
  },
  {
   "cell_type": "code",
   "execution_count": 11,
   "id": "3ca7f2c4-952e-4a56-9ff3-f4edc90a184a",
   "metadata": {},
   "outputs": [
    {
     "name": "stdout",
     "output_type": "stream",
     "text": [
      "966\n"
     ]
    }
   ],
   "source": [
    "x_null = X_train[X_train.isnull().any(axis=1)]\n",
    "print(len(x_null.index.values))"
   ]
  },
  {
   "cell_type": "markdown",
   "id": "0bcbe559-1b2e-469d-b633-e4f31827c8d6",
   "metadata": {},
   "source": [
    "We repeat for the y values."
   ]
  },
  {
   "cell_type": "code",
   "execution_count": 12,
   "id": "46148f03-3a5d-4b16-afef-7bfa267db89d",
   "metadata": {},
   "outputs": [
    {
     "name": "stdout",
     "output_type": "stream",
     "text": [
      "0\n"
     ]
    }
   ],
   "source": [
    "y_null = y_train[y_train.isnull().any(axis=1)]\n",
    "print(len(y_null.index.values))"
   ]
  },
  {
   "cell_type": "markdown",
   "id": "3ca30109-0316-4eea-b374-7e31af894664",
   "metadata": {},
   "source": [
    "Thankfully no y values are missing. Since there are only 966 missing values in total, we can remove them without much loss of information."
   ]
  },
  {
   "cell_type": "code",
   "execution_count": 13,
   "id": "34e69308-09c0-44f1-9ded-4b0960bd8628",
   "metadata": {},
   "outputs": [
    {
     "data": {
      "text/plain": [
       "age               0\n",
       "workclass         0\n",
       "fnlwgt            0\n",
       "education         0\n",
       "education-num     0\n",
       "marital-status    0\n",
       "occupation        0\n",
       "relationship      0\n",
       "race              0\n",
       "sex               0\n",
       "capital-gain      0\n",
       "capital-loss      0\n",
       "hours-per-week    0\n",
       "native-country    0\n",
       "dtype: int64"
      ]
     },
     "execution_count": 13,
     "metadata": {},
     "output_type": "execute_result"
    }
   ],
   "source": [
    "X_train2 = X_train.drop(x_null.index.values)\n",
    "y_train2 = y_train.drop(x_null.index.values)\n",
    "X_train2.isnull().sum()"
   ]
  },
  {
   "cell_type": "markdown",
   "id": "21b81f8b-4c4b-41f9-ad25-35cdc05c557e",
   "metadata": {},
   "source": [
    "We can now plot some of the variables to see how much they vary."
   ]
  },
  {
   "cell_type": "code",
   "execution_count": 14,
   "id": "dd62b94d-98ca-49da-8946-24dc5d641048",
   "metadata": {},
   "outputs": [
    {
     "data": {
      "text/plain": [
       "Text(0.5, 1.0, 'Income')"
      ]
     },
     "execution_count": 14,
     "metadata": {},
     "output_type": "execute_result"
    },
    {
     "data": {
      "image/png": "[encoded data removed]",
      "text/plain": [
       "<Figure size 1000x1000 with 6 Axes>"
      ]
     },
     "metadata": {},
     "output_type": "display_data"
    }
   ],
   "source": [
    "figure, axis = plt.subplots(2, 3,figsize=(10,10))\n",
    "\n",
    "age_counts = X_train2['age'].value_counts()\n",
    "axis[0,0].bar(age_counts.index, age_counts, color='b')\n",
    "axis[0,0].set_title('Age')\n",
    "\n",
    "\n",
    "hours_counts = X_train2['hours-per-week'].value_counts()\n",
    "axis[0,1].bar(hours_counts.index, hours_counts, color='r')\n",
    "axis[0,1].set_title('Hours')\n",
    "\n",
    "ed_counts = X_train2['education-num'].value_counts()\n",
    "axis[1,0].bar(ed_counts.index, ed_counts, color='g')\n",
    "axis[1,0].set_title('Education')\n",
    "\n",
    "sex_counts = X_train2['sex'].value_counts()\n",
    "axis[1,1].bar(sex_counts.index, sex_counts, color='k')\n",
    "axis[1,1].set_title('Sex')\n",
    "\n",
    "oc_counts = X_train2['occupation'].value_counts()\n",
    "axis[0,2].bar(oc_counts.index, oc_counts, color='y')\n",
    "axis[0,2].set_title('Occupation')\n",
    "\n",
    "y_counts = y_train2['income'].value_counts()\n",
    "axis[1,2].bar(y_counts.index, y_counts, color='c')\n",
    "axis[1,2].set_title('Income')"
   ]
  },
  {
   "cell_type": "markdown",
   "id": "67812bd1-f16b-41bc-81e2-b800937b2fea",
   "metadata": {},
   "source": [
    "We see from the plots the data is fairly representative with age and hours per week, but a bit uneven for education, sex and income."
   ]
  },
  {
   "cell_type": "markdown",
   "id": "d3205e36-438e-4f8c-ace1-c451dc9fa60a",
   "metadata": {},
   "source": [
    "## Categories"
   ]
  },
  {
   "cell_type": "markdown",
   "id": "1f9dfdb1-0d58-4420-bb29-71322d3c1f41",
   "metadata": {},
   "source": [
    "Now we try to implement the Support Vector Machine. To proceed we first one hot encode the categorical variables. They have been extracted from the data below. "
   ]
  },
  {
   "cell_type": "code",
   "execution_count": 15,
   "id": "0c90d726-89db-4386-8aaf-01d04891cf8e",
   "metadata": {},
   "outputs": [
    {
     "data": {
      "text/plain": [
       "Index(['workclass', 'education', 'marital-status', 'occupation',\n",
       "       'relationship', 'race', 'sex', 'native-country'],\n",
       "      dtype='object')"
      ]
     },
     "execution_count": 15,
     "metadata": {},
     "output_type": "execute_result"
    }
   ],
   "source": [
    "categories = (X_train2.dtypes=='object')[(X_train2.dtypes=='object')==True].index\n",
    "categories"
   ]
  },
  {
   "cell_type": "markdown",
   "id": "6de6c012-a342-42aa-aee8-adf2d7c89541",
   "metadata": {},
   "source": [
    "As there is a numerical variable in the data representing education already, we can drop its categorical form from our analysis. We also drop the native country variable, as it contains many categories that would inflate the dimension of our data, and one can argue its information overlaps with the race variable. "
   ]
  },
  {
   "cell_type": "code",
   "execution_count": 16,
   "id": "b23dc078-75a9-47ff-8602-e48685d822f1",
   "metadata": {},
   "outputs": [
    {
     "data": {
      "text/plain": [
       "['workclass', 'marital-status', 'occupation', 'relationship', 'race', 'sex']"
      ]
     },
     "execution_count": 16,
     "metadata": {},
     "output_type": "execute_result"
    }
   ],
   "source": [
    "cat = list(categories)\n",
    "cat.remove('education')\n",
    "cat.remove('native-country')\n",
    "cat"
   ]
  },
  {
   "cell_type": "code",
   "execution_count": 17,
   "id": "b389eaca-35dc-45b0-bbac-bf0a51f9dd0d",
   "metadata": {},
   "outputs": [
    {
     "data": {
      "text/html": [
       "<div>\n",
       "<style scoped>\n",
       "    .dataframe tbody tr th:only-of-type {\n",
       "        vertical-align: middle;\n",
       "    }\n",
       "\n",
       "    .dataframe tbody tr th {\n",
       "        vertical-align: top;\n",
       "    }\n",
       "\n",
       "    .dataframe thead th {\n",
       "        text-align: right;\n",
       "    }\n",
       "</style>\n",
       "<table border=\"1\" class=\"dataframe\">\n",
       "  <thead>\n",
       "    <tr style=\"text-align: right;\">\n",
       "      <th></th>\n",
       "      <th>workclass</th>\n",
       "      <th>marital-status</th>\n",
       "      <th>occupation</th>\n",
       "      <th>relationship</th>\n",
       "      <th>race</th>\n",
       "      <th>sex</th>\n",
       "    </tr>\n",
       "  </thead>\n",
       "  <tbody>\n",
       "    <tr>\n",
       "      <th>45492</th>\n",
       "      <td>Private</td>\n",
       "      <td>Divorced</td>\n",
       "      <td>Exec-managerial</td>\n",
       "      <td>Unmarried</td>\n",
       "      <td>White</td>\n",
       "      <td>Female</td>\n",
       "    </tr>\n",
       "    <tr>\n",
       "      <th>40885</th>\n",
       "      <td>Self-emp-not-inc</td>\n",
       "      <td>Married-civ-spouse</td>\n",
       "      <td>Farming-fishing</td>\n",
       "      <td>Husband</td>\n",
       "      <td>White</td>\n",
       "      <td>Male</td>\n",
       "    </tr>\n",
       "    <tr>\n",
       "      <th>35713</th>\n",
       "      <td>Private</td>\n",
       "      <td>Never-married</td>\n",
       "      <td>Other-service</td>\n",
       "      <td>Not-in-family</td>\n",
       "      <td>White</td>\n",
       "      <td>Male</td>\n",
       "    </tr>\n",
       "    <tr>\n",
       "      <th>26124</th>\n",
       "      <td>State-gov</td>\n",
       "      <td>Married-civ-spouse</td>\n",
       "      <td>Craft-repair</td>\n",
       "      <td>Husband</td>\n",
       "      <td>White</td>\n",
       "      <td>Male</td>\n",
       "    </tr>\n",
       "    <tr>\n",
       "      <th>15819</th>\n",
       "      <td>Private</td>\n",
       "      <td>Never-married</td>\n",
       "      <td>Farming-fishing</td>\n",
       "      <td>Own-child</td>\n",
       "      <td>White</td>\n",
       "      <td>Male</td>\n",
       "    </tr>\n",
       "    <tr>\n",
       "      <th>...</th>\n",
       "      <td>...</td>\n",
       "      <td>...</td>\n",
       "      <td>...</td>\n",
       "      <td>...</td>\n",
       "      <td>...</td>\n",
       "      <td>...</td>\n",
       "    </tr>\n",
       "    <tr>\n",
       "      <th>25544</th>\n",
       "      <td>Private</td>\n",
       "      <td>Married-civ-spouse</td>\n",
       "      <td>Machine-op-inspct</td>\n",
       "      <td>Husband</td>\n",
       "      <td>White</td>\n",
       "      <td>Male</td>\n",
       "    </tr>\n",
       "    <tr>\n",
       "      <th>48056</th>\n",
       "      <td>Local-gov</td>\n",
       "      <td>Married-civ-spouse</td>\n",
       "      <td>Prof-specialty</td>\n",
       "      <td>Husband</td>\n",
       "      <td>White</td>\n",
       "      <td>Male</td>\n",
       "    </tr>\n",
       "    <tr>\n",
       "      <th>11513</th>\n",
       "      <td>Private</td>\n",
       "      <td>Married-civ-spouse</td>\n",
       "      <td>Prof-specialty</td>\n",
       "      <td>Husband</td>\n",
       "      <td>White</td>\n",
       "      <td>Male</td>\n",
       "    </tr>\n",
       "    <tr>\n",
       "      <th>1688</th>\n",
       "      <td>Private</td>\n",
       "      <td>Divorced</td>\n",
       "      <td>Other-service</td>\n",
       "      <td>Not-in-family</td>\n",
       "      <td>White</td>\n",
       "      <td>Female</td>\n",
       "    </tr>\n",
       "    <tr>\n",
       "      <th>5994</th>\n",
       "      <td>Private</td>\n",
       "      <td>Married-civ-spouse</td>\n",
       "      <td>Machine-op-inspct</td>\n",
       "      <td>Husband</td>\n",
       "      <td>White</td>\n",
       "      <td>Male</td>\n",
       "    </tr>\n",
       "  </tbody>\n",
       "</table>\n",
       "<p>38107 rows × 6 columns</p>\n",
       "</div>"
      ],
      "text/plain": [
       "              workclass      marital-status         occupation   relationship  \\\n",
       "45492           Private            Divorced    Exec-managerial      Unmarried   \n",
       "40885  Self-emp-not-inc  Married-civ-spouse    Farming-fishing        Husband   \n",
       "35713           Private       Never-married      Other-service  Not-in-family   \n",
       "26124         State-gov  Married-civ-spouse       Craft-repair        Husband   \n",
       "15819           Private       Never-married    Farming-fishing      Own-child   \n",
       "...                 ...                 ...                ...            ...   \n",
       "25544           Private  Married-civ-spouse  Machine-op-inspct        Husband   \n",
       "48056         Local-gov  Married-civ-spouse     Prof-specialty        Husband   \n",
       "11513           Private  Married-civ-spouse     Prof-specialty        Husband   \n",
       "1688            Private            Divorced      Other-service  Not-in-family   \n",
       "5994            Private  Married-civ-spouse  Machine-op-inspct        Husband   \n",
       "\n",
       "        race     sex  \n",
       "45492  White  Female  \n",
       "40885  White    Male  \n",
       "35713  White    Male  \n",
       "26124  White    Male  \n",
       "15819  White    Male  \n",
       "...      ...     ...  \n",
       "25544  White    Male  \n",
       "48056  White    Male  \n",
       "11513  White    Male  \n",
       "1688   White  Female  \n",
       "5994   White    Male  \n",
       "\n",
       "[38107 rows x 6 columns]"
      ]
     },
     "execution_count": 17,
     "metadata": {},
     "output_type": "execute_result"
    }
   ],
   "source": [
    "X_train2.loc[:,cat]"
   ]
  },
  {
   "cell_type": "markdown",
   "id": "685f0084-9d42-4758-b59b-835e36562fcf",
   "metadata": {},
   "source": [
    "Next we have a look at the labels within each category."
   ]
  },
  {
   "cell_type": "code",
   "execution_count": 18,
   "id": "c4438daa-2ef8-46c7-8382-7c4bb2347154",
   "metadata": {},
   "outputs": [
    {
     "name": "stdout",
     "output_type": "stream",
     "text": [
      "['Private' 'Self-emp-not-inc' 'State-gov' '?' 'Self-emp-inc' 'Federal-gov'\n",
      " 'Local-gov' nan 'Never-worked' 'Without-pay']\n",
      "['Divorced' 'Married-civ-spouse' 'Never-married' 'Married-spouse-absent'\n",
      " 'Widowed' 'Separated' 'Married-AF-spouse']\n",
      "['Exec-managerial' 'Farming-fishing' 'Other-service' 'Craft-repair'\n",
      " 'Prof-specialty' '?' 'Handlers-cleaners' 'Adm-clerical' 'Sales'\n",
      " 'Transport-moving' 'Machine-op-inspct' 'Tech-support' 'Protective-serv'\n",
      " nan 'Priv-house-serv' 'Armed-Forces']\n",
      "['Unmarried' 'Husband' 'Not-in-family' 'Own-child' 'Wife' 'Other-relative']\n",
      "['White' 'Black' 'Asian-Pac-Islander' 'Amer-Indian-Eskimo' 'Other']\n",
      "['Female' 'Male']\n"
     ]
    }
   ],
   "source": [
    "for z in cat:\n",
    "    print(X_train[z].unique())"
   ]
  },
  {
   "cell_type": "markdown",
   "id": "ea45f329-b21a-4895-8c9b-7e9e70e9c1a9",
   "metadata": {},
   "source": [
    "Irritatingly we see some ?s have creeped into workclass and occupation. Checking the labels from the data source (https://archive.ics.uci.edu/dataset/2/adult), we see no extra labels than the ones we have here, so we are unable to identify what the ?s represent. It is impossible to interpolate their values, and factors like occupation are arguably important so we cannot drop the variable as a whole. Therefore here it is decided to drop those rows as well."
   ]
  },
  {
   "cell_type": "code",
   "execution_count": 19,
   "id": "d6175524-8f6d-47b3-be70-fbd6d2cb9568",
   "metadata": {},
   "outputs": [
    {
     "name": "stdout",
     "output_type": "stream",
     "text": [
      "Index([26373, 13949, 16004, 32093,   106,  3042,  2476,  2427,   792, 17811,\n",
      "       ...\n",
      "       31753, 14548, 25266,  4884,  1019, 18232, 20656, 24133,  6542, 11261],\n",
      "      dtype='int64', length=1443)\n",
      "Index([26373, 13949, 16004, 32093,   106,  3042,  2476,  2427,   792,  5361,\n",
      "       ...\n",
      "       31753, 14548, 25266,  4884,  1019, 18232, 20656, 24133,  6542, 11261],\n",
      "      dtype='int64', length=1450)\n"
     ]
    }
   ],
   "source": [
    "a1 = X_train2[X_train2['workclass']=='?'].index\n",
    "a2 = X_train2[X_train2['occupation']=='?'].index\n",
    "print(a1)\n",
    "print(a2)"
   ]
  },
  {
   "cell_type": "code",
   "execution_count": 20,
   "id": "37ac35b4-d05f-4212-8c2d-3fefa10fe7e0",
   "metadata": {},
   "outputs": [
    {
     "data": {
      "text/plain": [
       "1450"
      ]
     },
     "execution_count": 20,
     "metadata": {},
     "output_type": "execute_result"
    }
   ],
   "source": [
    "qs = np.union1d(a1,a2)\n",
    "len(qs)"
   ]
  },
  {
   "cell_type": "markdown",
   "id": "40fccf76-0359-418f-8302-c8848c481d20",
   "metadata": {},
   "source": [
    "Again losing 1450 data points is not ideal but is possible given the size of the dataset. "
   ]
  },
  {
   "cell_type": "code",
   "execution_count": 21,
   "id": "1e12dd87-fe0a-4ec4-8f86-3c0f3b7a2bd4",
   "metadata": {},
   "outputs": [],
   "source": [
    "X_train2 = X_train2.drop(qs)\n",
    "y_train2 = y_train2.drop(qs)"
   ]
  },
  {
   "cell_type": "markdown",
   "id": "07b8d51c-4a92-459a-b11b-9e18b9687caf",
   "metadata": {},
   "source": [
    "We now continue with the one hot encoding."
   ]
  },
  {
   "cell_type": "code",
   "execution_count": 22,
   "id": "0b598952-14d5-4012-bc4b-c032e2cbcbcf",
   "metadata": {},
   "outputs": [],
   "source": [
    "one_hot = pd.get_dummies(X_train2['workclass'])\n",
    "for i in cat[1:]:\n",
    "    d = pd.get_dummies(X_train2[i])\n",
    "    one_hot = one_hot.join(d)"
   ]
  },
  {
   "cell_type": "markdown",
   "id": "5108416b-0097-4af5-b157-f24bc2bbb380",
   "metadata": {},
   "source": [
    "Next we remove the original categorical variables in the training set and replace them with the one hot vectors. We also note that the variable 'fnlwgt', according to sources online, gives the number of people each data point is thought to represent. This has no conceivable relevance to our classification problem but having the model fit around those numbers is likely to disrupt our analysis so we drop that as well."
   ]
  },
  {
   "cell_type": "code",
   "execution_count": 23,
   "id": "18f2d3f9-3738-407f-a6db-563322b92df9",
   "metadata": {},
   "outputs": [
    {
     "data": {
      "text/html": [
       "<div>\n",
       "<style scoped>\n",
       "    .dataframe tbody tr th:only-of-type {\n",
       "        vertical-align: middle;\n",
       "    }\n",
       "\n",
       "    .dataframe tbody tr th {\n",
       "        vertical-align: top;\n",
       "    }\n",
       "\n",
       "    .dataframe thead th {\n",
       "        text-align: right;\n",
       "    }\n",
       "</style>\n",
       "<table border=\"1\" class=\"dataframe\">\n",
       "  <thead>\n",
       "    <tr style=\"text-align: right;\">\n",
       "      <th></th>\n",
       "      <th>age</th>\n",
       "      <th>education-num</th>\n",
       "      <th>capital-gain</th>\n",
       "      <th>capital-loss</th>\n",
       "      <th>hours-per-week</th>\n",
       "      <th>Federal-gov</th>\n",
       "      <th>Local-gov</th>\n",
       "      <th>Private</th>\n",
       "      <th>Self-emp-inc</th>\n",
       "      <th>Self-emp-not-inc</th>\n",
       "      <th>...</th>\n",
       "      <th>Own-child</th>\n",
       "      <th>Unmarried</th>\n",
       "      <th>Wife</th>\n",
       "      <th>Amer-Indian-Eskimo</th>\n",
       "      <th>Asian-Pac-Islander</th>\n",
       "      <th>Black</th>\n",
       "      <th>Other</th>\n",
       "      <th>White</th>\n",
       "      <th>Female</th>\n",
       "      <th>Male</th>\n",
       "    </tr>\n",
       "  </thead>\n",
       "  <tbody>\n",
       "    <tr>\n",
       "      <th>45492</th>\n",
       "      <td>45</td>\n",
       "      <td>10</td>\n",
       "      <td>0</td>\n",
       "      <td>0</td>\n",
       "      <td>64</td>\n",
       "      <td>False</td>\n",
       "      <td>False</td>\n",
       "      <td>True</td>\n",
       "      <td>False</td>\n",
       "      <td>False</td>\n",
       "      <td>...</td>\n",
       "      <td>False</td>\n",
       "      <td>True</td>\n",
       "      <td>False</td>\n",
       "      <td>False</td>\n",
       "      <td>False</td>\n",
       "      <td>False</td>\n",
       "      <td>False</td>\n",
       "      <td>True</td>\n",
       "      <td>True</td>\n",
       "      <td>False</td>\n",
       "    </tr>\n",
       "    <tr>\n",
       "      <th>40885</th>\n",
       "      <td>32</td>\n",
       "      <td>7</td>\n",
       "      <td>0</td>\n",
       "      <td>0</td>\n",
       "      <td>80</td>\n",
       "      <td>False</td>\n",
       "      <td>False</td>\n",
       "      <td>False</td>\n",
       "      <td>False</td>\n",
       "      <td>True</td>\n",
       "      <td>...</td>\n",
       "      <td>False</td>\n",
       "      <td>False</td>\n",
       "      <td>False</td>\n",
       "      <td>False</td>\n",
       "      <td>False</td>\n",
       "      <td>False</td>\n",
       "      <td>False</td>\n",
       "      <td>True</td>\n",
       "      <td>False</td>\n",
       "      <td>True</td>\n",
       "    </tr>\n",
       "    <tr>\n",
       "      <th>35713</th>\n",
       "      <td>50</td>\n",
       "      <td>9</td>\n",
       "      <td>0</td>\n",
       "      <td>0</td>\n",
       "      <td>40</td>\n",
       "      <td>False</td>\n",
       "      <td>False</td>\n",
       "      <td>True</td>\n",
       "      <td>False</td>\n",
       "      <td>False</td>\n",
       "      <td>...</td>\n",
       "      <td>False</td>\n",
       "      <td>False</td>\n",
       "      <td>False</td>\n",
       "      <td>False</td>\n",
       "      <td>False</td>\n",
       "      <td>False</td>\n",
       "      <td>False</td>\n",
       "      <td>True</td>\n",
       "      <td>False</td>\n",
       "      <td>True</td>\n",
       "    </tr>\n",
       "    <tr>\n",
       "      <th>26124</th>\n",
       "      <td>43</td>\n",
       "      <td>9</td>\n",
       "      <td>0</td>\n",
       "      <td>0</td>\n",
       "      <td>40</td>\n",
       "      <td>False</td>\n",
       "      <td>False</td>\n",
       "      <td>False</td>\n",
       "      <td>False</td>\n",
       "      <td>False</td>\n",
       "      <td>...</td>\n",
       "      <td>False</td>\n",
       "      <td>False</td>\n",
       "      <td>False</td>\n",
       "      <td>False</td>\n",
       "      <td>False</td>\n",
       "      <td>False</td>\n",
       "      <td>False</td>\n",
       "      <td>True</td>\n",
       "      <td>False</td>\n",
       "      <td>True</td>\n",
       "    </tr>\n",
       "    <tr>\n",
       "      <th>15819</th>\n",
       "      <td>23</td>\n",
       "      <td>9</td>\n",
       "      <td>0</td>\n",
       "      <td>0</td>\n",
       "      <td>40</td>\n",
       "      <td>False</td>\n",
       "      <td>False</td>\n",
       "      <td>True</td>\n",
       "      <td>False</td>\n",
       "      <td>False</td>\n",
       "      <td>...</td>\n",
       "      <td>True</td>\n",
       "      <td>False</td>\n",
       "      <td>False</td>\n",
       "      <td>False</td>\n",
       "      <td>False</td>\n",
       "      <td>False</td>\n",
       "      <td>False</td>\n",
       "      <td>True</td>\n",
       "      <td>False</td>\n",
       "      <td>True</td>\n",
       "    </tr>\n",
       "    <tr>\n",
       "      <th>...</th>\n",
       "      <td>...</td>\n",
       "      <td>...</td>\n",
       "      <td>...</td>\n",
       "      <td>...</td>\n",
       "      <td>...</td>\n",
       "      <td>...</td>\n",
       "      <td>...</td>\n",
       "      <td>...</td>\n",
       "      <td>...</td>\n",
       "      <td>...</td>\n",
       "      <td>...</td>\n",
       "      <td>...</td>\n",
       "      <td>...</td>\n",
       "      <td>...</td>\n",
       "      <td>...</td>\n",
       "      <td>...</td>\n",
       "      <td>...</td>\n",
       "      <td>...</td>\n",
       "      <td>...</td>\n",
       "      <td>...</td>\n",
       "      <td>...</td>\n",
       "    </tr>\n",
       "    <tr>\n",
       "      <th>25544</th>\n",
       "      <td>55</td>\n",
       "      <td>3</td>\n",
       "      <td>0</td>\n",
       "      <td>0</td>\n",
       "      <td>40</td>\n",
       "      <td>False</td>\n",
       "      <td>False</td>\n",
       "      <td>True</td>\n",
       "      <td>False</td>\n",
       "      <td>False</td>\n",
       "      <td>...</td>\n",
       "      <td>False</td>\n",
       "      <td>False</td>\n",
       "      <td>False</td>\n",
       "      <td>False</td>\n",
       "      <td>False</td>\n",
       "      <td>False</td>\n",
       "      <td>False</td>\n",
       "      <td>True</td>\n",
       "      <td>False</td>\n",
       "      <td>True</td>\n",
       "    </tr>\n",
       "    <tr>\n",
       "      <th>48056</th>\n",
       "      <td>55</td>\n",
       "      <td>13</td>\n",
       "      <td>0</td>\n",
       "      <td>0</td>\n",
       "      <td>40</td>\n",
       "      <td>False</td>\n",
       "      <td>True</td>\n",
       "      <td>False</td>\n",
       "      <td>False</td>\n",
       "      <td>False</td>\n",
       "      <td>...</td>\n",
       "      <td>False</td>\n",
       "      <td>False</td>\n",
       "      <td>False</td>\n",
       "      <td>False</td>\n",
       "      <td>False</td>\n",
       "      <td>False</td>\n",
       "      <td>False</td>\n",
       "      <td>True</td>\n",
       "      <td>False</td>\n",
       "      <td>True</td>\n",
       "    </tr>\n",
       "    <tr>\n",
       "      <th>11513</th>\n",
       "      <td>47</td>\n",
       "      <td>13</td>\n",
       "      <td>0</td>\n",
       "      <td>0</td>\n",
       "      <td>60</td>\n",
       "      <td>False</td>\n",
       "      <td>False</td>\n",
       "      <td>True</td>\n",
       "      <td>False</td>\n",
       "      <td>False</td>\n",
       "      <td>...</td>\n",
       "      <td>False</td>\n",
       "      <td>False</td>\n",
       "      <td>False</td>\n",
       "      <td>False</td>\n",
       "      <td>False</td>\n",
       "      <td>False</td>\n",
       "      <td>False</td>\n",
       "      <td>True</td>\n",
       "      <td>False</td>\n",
       "      <td>True</td>\n",
       "    </tr>\n",
       "    <tr>\n",
       "      <th>1688</th>\n",
       "      <td>53</td>\n",
       "      <td>5</td>\n",
       "      <td>0</td>\n",
       "      <td>0</td>\n",
       "      <td>36</td>\n",
       "      <td>False</td>\n",
       "      <td>False</td>\n",
       "      <td>True</td>\n",
       "      <td>False</td>\n",
       "      <td>False</td>\n",
       "      <td>...</td>\n",
       "      <td>False</td>\n",
       "      <td>False</td>\n",
       "      <td>False</td>\n",
       "      <td>False</td>\n",
       "      <td>False</td>\n",
       "      <td>False</td>\n",
       "      <td>False</td>\n",
       "      <td>True</td>\n",
       "      <td>True</td>\n",
       "      <td>False</td>\n",
       "    </tr>\n",
       "    <tr>\n",
       "      <th>5994</th>\n",
       "      <td>38</td>\n",
       "      <td>9</td>\n",
       "      <td>0</td>\n",
       "      <td>0</td>\n",
       "      <td>40</td>\n",
       "      <td>False</td>\n",
       "      <td>False</td>\n",
       "      <td>True</td>\n",
       "      <td>False</td>\n",
       "      <td>False</td>\n",
       "      <td>...</td>\n",
       "      <td>False</td>\n",
       "      <td>False</td>\n",
       "      <td>False</td>\n",
       "      <td>False</td>\n",
       "      <td>False</td>\n",
       "      <td>False</td>\n",
       "      <td>False</td>\n",
       "      <td>True</td>\n",
       "      <td>False</td>\n",
       "      <td>True</td>\n",
       "    </tr>\n",
       "  </tbody>\n",
       "</table>\n",
       "<p>36657 rows × 46 columns</p>\n",
       "</div>"
      ],
      "text/plain": [
       "       age  education-num  capital-gain  capital-loss  hours-per-week  \\\n",
       "45492   45             10             0             0              64   \n",
       "40885   32              7             0             0              80   \n",
       "35713   50              9             0             0              40   \n",
       "26124   43              9             0             0              40   \n",
       "15819   23              9             0             0              40   \n",
       "...    ...            ...           ...           ...             ...   \n",
       "25544   55              3             0             0              40   \n",
       "48056   55             13             0             0              40   \n",
       "11513   47             13             0             0              60   \n",
       "1688    53              5             0             0              36   \n",
       "5994    38              9             0             0              40   \n",
       "\n",
       "       Federal-gov  Local-gov  Private  Self-emp-inc  Self-emp-not-inc  ...  \\\n",
       "45492        False      False     True         False             False  ...   \n",
       "40885        False      False    False         False              True  ...   \n",
       "35713        False      False     True         False             False  ...   \n",
       "26124        False      False    False         False             False  ...   \n",
       "15819        False      False     True         False             False  ...   \n",
       "...            ...        ...      ...           ...               ...  ...   \n",
       "25544        False      False     True         False             False  ...   \n",
       "48056        False       True    False         False             False  ...   \n",
       "11513        False      False     True         False             False  ...   \n",
       "1688         False      False     True         False             False  ...   \n",
       "5994         False      False     True         False             False  ...   \n",
       "\n",
       "       Own-child  Unmarried   Wife  Amer-Indian-Eskimo  Asian-Pac-Islander  \\\n",
       "45492      False       True  False               False               False   \n",
       "40885      False      False  False               False               False   \n",
       "35713      False      False  False               False               False   \n",
       "26124      False      False  False               False               False   \n",
       "15819       True      False  False               False               False   \n",
       "...          ...        ...    ...                 ...                 ...   \n",
       "25544      False      False  False               False               False   \n",
       "48056      False      False  False               False               False   \n",
       "11513      False      False  False               False               False   \n",
       "1688       False      False  False               False               False   \n",
       "5994       False      False  False               False               False   \n",
       "\n",
       "       Black  Other  White  Female   Male  \n",
       "45492  False  False   True    True  False  \n",
       "40885  False  False   True   False   True  \n",
       "35713  False  False   True   False   True  \n",
       "26124  False  False   True   False   True  \n",
       "15819  False  False   True   False   True  \n",
       "...      ...    ...    ...     ...    ...  \n",
       "25544  False  False   True   False   True  \n",
       "48056  False  False   True   False   True  \n",
       "11513  False  False   True   False   True  \n",
       "1688   False  False   True    True  False  \n",
       "5994   False  False   True   False   True  \n",
       "\n",
       "[36657 rows x 46 columns]"
      ]
     },
     "execution_count": 23,
     "metadata": {},
     "output_type": "execute_result"
    }
   ],
   "source": [
    "X_train2 = X_train2.drop(categories,axis=1).join(one_hot)\n",
    "X_train2 = X_train2.drop('fnlwgt',axis=1)\n",
    "X_train2"
   ]
  },
  {
   "cell_type": "markdown",
   "id": "74bda2d2-a21a-4b29-8a53-61d2e496724c",
   "metadata": {},
   "source": [
    "## Support Vector Machine"
   ]
  },
  {
   "cell_type": "markdown",
   "id": "aa0e1c3a-ee3b-409c-8924-24c735c24fbe",
   "metadata": {},
   "source": [
    "With all the categories encoded we can now fit the SVM. This takes a bit of time to run."
   ]
  },
  {
   "cell_type": "code",
   "execution_count": 24,
   "id": "8f47c1a6-aa74-4a36-a20a-59963daeb615",
   "metadata": {},
   "outputs": [],
   "source": [
    "fit = svm.SVC().fit(X_train2,y_train2.values.ravel())"
   ]
  },
  {
   "cell_type": "markdown",
   "id": "ece3d702-246e-4580-95f6-e5b1af5bab23",
   "metadata": {},
   "source": [
    "Before we can apply this to our test data, we have to go through similar steps as above to remove inconsistencies. We change the discrepancy in income values:"
   ]
  },
  {
   "cell_type": "code",
   "execution_count": 25,
   "id": "7d2ad654-7f62-4ea1-aad5-ba64aec84a40",
   "metadata": {},
   "outputs": [
    {
     "data": {
      "text/plain": [
       "income\n",
       "<=50K    7400\n",
       ">50K     2369\n",
       "Name: count, dtype: int64"
      ]
     },
     "execution_count": 25,
     "metadata": {},
     "output_type": "execute_result"
    }
   ],
   "source": [
    "r3 = y_test.loc[y_test[\"income\"] == \"<=50K.\"]\n",
    "r4 = y_test.loc[y_test[\"income\"] == \">50K.\"]\n",
    "r3 = r3.index.values\n",
    "r4 = r4.index.values\n",
    "y_test.loc[r3] = \"<=50K\"\n",
    "y_test.loc[r4] = \">50K\"\n",
    "y_test['income'].value_counts()"
   ]
  },
  {
   "cell_type": "markdown",
   "id": "d0e6e68b-8d2f-4993-a4c1-01876e1a061b",
   "metadata": {},
   "source": [
    "Remove the ?s in the test data:"
   ]
  },
  {
   "cell_type": "code",
   "execution_count": 26,
   "id": "61be0a72-97bd-4606-abe1-126089618aac",
   "metadata": {},
   "outputs": [],
   "source": [
    "a3 = X_test[X_test['workclass']=='?'].index\n",
    "a4 = X_test[X_test['occupation']=='?'].index\n",
    "qs2 = np.union1d(a3,a4)\n",
    "X_test2 = X_test.drop(qs2)\n",
    "y_test2 = y_test.drop(qs2)"
   ]
  },
  {
   "cell_type": "markdown",
   "id": "7ef59c43-8d49-489b-9388-11fc8ec05e75",
   "metadata": {},
   "source": [
    "One hot encode the factors, attach it to the dataframe and drop the unneeded columns:"
   ]
  },
  {
   "cell_type": "code",
   "execution_count": 27,
   "id": "1de14a5c-ef5c-4e30-987a-68f05d37c602",
   "metadata": {},
   "outputs": [],
   "source": [
    "one_hot_test = pd.get_dummies(X_test2['workclass'])\n",
    "for i in cat[1:]:\n",
    "    d = pd.get_dummies(X_test2[i])\n",
    "    one_hot_test = one_hot_test.join(d)"
   ]
  },
  {
   "cell_type": "code",
   "execution_count": 28,
   "id": "0ae34768-f815-4fe8-a068-4ada9d468a85",
   "metadata": {},
   "outputs": [
    {
     "data": {
      "text/html": [
       "<div>\n",
       "<style scoped>\n",
       "    .dataframe tbody tr th:only-of-type {\n",
       "        vertical-align: middle;\n",
       "    }\n",
       "\n",
       "    .dataframe tbody tr th {\n",
       "        vertical-align: top;\n",
       "    }\n",
       "\n",
       "    .dataframe thead th {\n",
       "        text-align: right;\n",
       "    }\n",
       "</style>\n",
       "<table border=\"1\" class=\"dataframe\">\n",
       "  <thead>\n",
       "    <tr style=\"text-align: right;\">\n",
       "      <th></th>\n",
       "      <th>age</th>\n",
       "      <th>education-num</th>\n",
       "      <th>capital-gain</th>\n",
       "      <th>capital-loss</th>\n",
       "      <th>hours-per-week</th>\n",
       "      <th>Federal-gov</th>\n",
       "      <th>Local-gov</th>\n",
       "      <th>Never-worked</th>\n",
       "      <th>Private</th>\n",
       "      <th>Self-emp-inc</th>\n",
       "      <th>...</th>\n",
       "      <th>Own-child</th>\n",
       "      <th>Unmarried</th>\n",
       "      <th>Wife</th>\n",
       "      <th>Amer-Indian-Eskimo</th>\n",
       "      <th>Asian-Pac-Islander</th>\n",
       "      <th>Black</th>\n",
       "      <th>Other</th>\n",
       "      <th>White</th>\n",
       "      <th>Female</th>\n",
       "      <th>Male</th>\n",
       "    </tr>\n",
       "  </thead>\n",
       "  <tbody>\n",
       "    <tr>\n",
       "      <th>15241</th>\n",
       "      <td>40</td>\n",
       "      <td>8</td>\n",
       "      <td>0</td>\n",
       "      <td>0</td>\n",
       "      <td>40</td>\n",
       "      <td>False</td>\n",
       "      <td>False</td>\n",
       "      <td>False</td>\n",
       "      <td>True</td>\n",
       "      <td>False</td>\n",
       "      <td>...</td>\n",
       "      <td>False</td>\n",
       "      <td>False</td>\n",
       "      <td>False</td>\n",
       "      <td>False</td>\n",
       "      <td>False</td>\n",
       "      <td>False</td>\n",
       "      <td>False</td>\n",
       "      <td>True</td>\n",
       "      <td>False</td>\n",
       "      <td>True</td>\n",
       "    </tr>\n",
       "    <tr>\n",
       "      <th>21252</th>\n",
       "      <td>32</td>\n",
       "      <td>13</td>\n",
       "      <td>0</td>\n",
       "      <td>0</td>\n",
       "      <td>35</td>\n",
       "      <td>False</td>\n",
       "      <td>False</td>\n",
       "      <td>False</td>\n",
       "      <td>False</td>\n",
       "      <td>False</td>\n",
       "      <td>...</td>\n",
       "      <td>False</td>\n",
       "      <td>False</td>\n",
       "      <td>False</td>\n",
       "      <td>False</td>\n",
       "      <td>False</td>\n",
       "      <td>False</td>\n",
       "      <td>False</td>\n",
       "      <td>True</td>\n",
       "      <td>False</td>\n",
       "      <td>True</td>\n",
       "    </tr>\n",
       "    <tr>\n",
       "      <th>41097</th>\n",
       "      <td>37</td>\n",
       "      <td>9</td>\n",
       "      <td>0</td>\n",
       "      <td>1980</td>\n",
       "      <td>35</td>\n",
       "      <td>False</td>\n",
       "      <td>True</td>\n",
       "      <td>False</td>\n",
       "      <td>False</td>\n",
       "      <td>False</td>\n",
       "      <td>...</td>\n",
       "      <td>False</td>\n",
       "      <td>False</td>\n",
       "      <td>False</td>\n",
       "      <td>False</td>\n",
       "      <td>False</td>\n",
       "      <td>False</td>\n",
       "      <td>False</td>\n",
       "      <td>True</td>\n",
       "      <td>False</td>\n",
       "      <td>True</td>\n",
       "    </tr>\n",
       "    <tr>\n",
       "      <th>46926</th>\n",
       "      <td>27</td>\n",
       "      <td>13</td>\n",
       "      <td>0</td>\n",
       "      <td>0</td>\n",
       "      <td>50</td>\n",
       "      <td>False</td>\n",
       "      <td>False</td>\n",
       "      <td>False</td>\n",
       "      <td>True</td>\n",
       "      <td>False</td>\n",
       "      <td>...</td>\n",
       "      <td>False</td>\n",
       "      <td>False</td>\n",
       "      <td>False</td>\n",
       "      <td>False</td>\n",
       "      <td>False</td>\n",
       "      <td>False</td>\n",
       "      <td>False</td>\n",
       "      <td>True</td>\n",
       "      <td>False</td>\n",
       "      <td>True</td>\n",
       "    </tr>\n",
       "    <tr>\n",
       "      <th>29211</th>\n",
       "      <td>53</td>\n",
       "      <td>13</td>\n",
       "      <td>0</td>\n",
       "      <td>0</td>\n",
       "      <td>38</td>\n",
       "      <td>False</td>\n",
       "      <td>True</td>\n",
       "      <td>False</td>\n",
       "      <td>False</td>\n",
       "      <td>False</td>\n",
       "      <td>...</td>\n",
       "      <td>False</td>\n",
       "      <td>True</td>\n",
       "      <td>False</td>\n",
       "      <td>False</td>\n",
       "      <td>False</td>\n",
       "      <td>False</td>\n",
       "      <td>False</td>\n",
       "      <td>True</td>\n",
       "      <td>True</td>\n",
       "      <td>False</td>\n",
       "    </tr>\n",
       "    <tr>\n",
       "      <th>...</th>\n",
       "      <td>...</td>\n",
       "      <td>...</td>\n",
       "      <td>...</td>\n",
       "      <td>...</td>\n",
       "      <td>...</td>\n",
       "      <td>...</td>\n",
       "      <td>...</td>\n",
       "      <td>...</td>\n",
       "      <td>...</td>\n",
       "      <td>...</td>\n",
       "      <td>...</td>\n",
       "      <td>...</td>\n",
       "      <td>...</td>\n",
       "      <td>...</td>\n",
       "      <td>...</td>\n",
       "      <td>...</td>\n",
       "      <td>...</td>\n",
       "      <td>...</td>\n",
       "      <td>...</td>\n",
       "      <td>...</td>\n",
       "      <td>...</td>\n",
       "    </tr>\n",
       "    <tr>\n",
       "      <th>14042</th>\n",
       "      <td>40</td>\n",
       "      <td>14</td>\n",
       "      <td>0</td>\n",
       "      <td>0</td>\n",
       "      <td>50</td>\n",
       "      <td>False</td>\n",
       "      <td>False</td>\n",
       "      <td>False</td>\n",
       "      <td>True</td>\n",
       "      <td>False</td>\n",
       "      <td>...</td>\n",
       "      <td>False</td>\n",
       "      <td>False</td>\n",
       "      <td>False</td>\n",
       "      <td>False</td>\n",
       "      <td>False</td>\n",
       "      <td>False</td>\n",
       "      <td>False</td>\n",
       "      <td>True</td>\n",
       "      <td>False</td>\n",
       "      <td>True</td>\n",
       "    </tr>\n",
       "    <tr>\n",
       "      <th>4578</th>\n",
       "      <td>48</td>\n",
       "      <td>11</td>\n",
       "      <td>0</td>\n",
       "      <td>0</td>\n",
       "      <td>40</td>\n",
       "      <td>False</td>\n",
       "      <td>False</td>\n",
       "      <td>False</td>\n",
       "      <td>True</td>\n",
       "      <td>False</td>\n",
       "      <td>...</td>\n",
       "      <td>False</td>\n",
       "      <td>False</td>\n",
       "      <td>False</td>\n",
       "      <td>False</td>\n",
       "      <td>False</td>\n",
       "      <td>False</td>\n",
       "      <td>False</td>\n",
       "      <td>True</td>\n",
       "      <td>True</td>\n",
       "      <td>False</td>\n",
       "    </tr>\n",
       "    <tr>\n",
       "      <th>2448</th>\n",
       "      <td>29</td>\n",
       "      <td>9</td>\n",
       "      <td>0</td>\n",
       "      <td>0</td>\n",
       "      <td>40</td>\n",
       "      <td>False</td>\n",
       "      <td>True</td>\n",
       "      <td>False</td>\n",
       "      <td>False</td>\n",
       "      <td>False</td>\n",
       "      <td>...</td>\n",
       "      <td>False</td>\n",
       "      <td>False</td>\n",
       "      <td>False</td>\n",
       "      <td>False</td>\n",
       "      <td>False</td>\n",
       "      <td>True</td>\n",
       "      <td>False</td>\n",
       "      <td>False</td>\n",
       "      <td>True</td>\n",
       "      <td>False</td>\n",
       "    </tr>\n",
       "    <tr>\n",
       "      <th>48258</th>\n",
       "      <td>17</td>\n",
       "      <td>6</td>\n",
       "      <td>0</td>\n",
       "      <td>0</td>\n",
       "      <td>25</td>\n",
       "      <td>False</td>\n",
       "      <td>False</td>\n",
       "      <td>False</td>\n",
       "      <td>True</td>\n",
       "      <td>False</td>\n",
       "      <td>...</td>\n",
       "      <td>False</td>\n",
       "      <td>False</td>\n",
       "      <td>False</td>\n",
       "      <td>False</td>\n",
       "      <td>False</td>\n",
       "      <td>False</td>\n",
       "      <td>False</td>\n",
       "      <td>True</td>\n",
       "      <td>False</td>\n",
       "      <td>True</td>\n",
       "    </tr>\n",
       "    <tr>\n",
       "      <th>19358</th>\n",
       "      <td>39</td>\n",
       "      <td>9</td>\n",
       "      <td>0</td>\n",
       "      <td>0</td>\n",
       "      <td>50</td>\n",
       "      <td>False</td>\n",
       "      <td>False</td>\n",
       "      <td>False</td>\n",
       "      <td>True</td>\n",
       "      <td>False</td>\n",
       "      <td>...</td>\n",
       "      <td>False</td>\n",
       "      <td>True</td>\n",
       "      <td>False</td>\n",
       "      <td>False</td>\n",
       "      <td>False</td>\n",
       "      <td>False</td>\n",
       "      <td>False</td>\n",
       "      <td>True</td>\n",
       "      <td>True</td>\n",
       "      <td>False</td>\n",
       "    </tr>\n",
       "  </tbody>\n",
       "</table>\n",
       "<p>9376 rows × 47 columns</p>\n",
       "</div>"
      ],
      "text/plain": [
       "       age  education-num  capital-gain  capital-loss  hours-per-week  \\\n",
       "15241   40              8             0             0              40   \n",
       "21252   32             13             0             0              35   \n",
       "41097   37              9             0          1980              35   \n",
       "46926   27             13             0             0              50   \n",
       "29211   53             13             0             0              38   \n",
       "...    ...            ...           ...           ...             ...   \n",
       "14042   40             14             0             0              50   \n",
       "4578    48             11             0             0              40   \n",
       "2448    29              9             0             0              40   \n",
       "48258   17              6             0             0              25   \n",
       "19358   39              9             0             0              50   \n",
       "\n",
       "       Federal-gov  Local-gov  Never-worked  Private  Self-emp-inc  ...  \\\n",
       "15241        False      False         False     True         False  ...   \n",
       "21252        False      False         False    False         False  ...   \n",
       "41097        False       True         False    False         False  ...   \n",
       "46926        False      False         False     True         False  ...   \n",
       "29211        False       True         False    False         False  ...   \n",
       "...            ...        ...           ...      ...           ...  ...   \n",
       "14042        False      False         False     True         False  ...   \n",
       "4578         False      False         False     True         False  ...   \n",
       "2448         False       True         False    False         False  ...   \n",
       "48258        False      False         False     True         False  ...   \n",
       "19358        False      False         False     True         False  ...   \n",
       "\n",
       "       Own-child  Unmarried   Wife  Amer-Indian-Eskimo  Asian-Pac-Islander  \\\n",
       "15241      False      False  False               False               False   \n",
       "21252      False      False  False               False               False   \n",
       "41097      False      False  False               False               False   \n",
       "46926      False      False  False               False               False   \n",
       "29211      False       True  False               False               False   \n",
       "...          ...        ...    ...                 ...                 ...   \n",
       "14042      False      False  False               False               False   \n",
       "4578       False      False  False               False               False   \n",
       "2448       False      False  False               False               False   \n",
       "48258      False      False  False               False               False   \n",
       "19358      False       True  False               False               False   \n",
       "\n",
       "       Black  Other  White  Female   Male  \n",
       "15241  False  False   True   False   True  \n",
       "21252  False  False   True   False   True  \n",
       "41097  False  False   True   False   True  \n",
       "46926  False  False   True   False   True  \n",
       "29211  False  False   True    True  False  \n",
       "...      ...    ...    ...     ...    ...  \n",
       "14042  False  False   True   False   True  \n",
       "4578   False  False   True    True  False  \n",
       "2448    True  False  False    True  False  \n",
       "48258  False  False   True   False   True  \n",
       "19358  False  False   True    True  False  \n",
       "\n",
       "[9376 rows x 47 columns]"
      ]
     },
     "execution_count": 28,
     "metadata": {},
     "output_type": "execute_result"
    }
   ],
   "source": [
    "X_test2 = X_test2.drop(categories,axis=1).join(one_hot_test)\n",
    "X_test2 = X_test2.drop('fnlwgt',axis=1)\n",
    "X_test2"
   ]
  },
  {
   "cell_type": "markdown",
   "id": "3eebbb67-0e99-4919-b557-ee50f21551cf",
   "metadata": {},
   "source": [
    "However it appears the test data has an extra category within workclass not present in the training data. As shown below there is only one such point, so removing it would not have an impact on our evaluation."
   ]
  },
  {
   "cell_type": "code",
   "execution_count": 29,
   "id": "e566b531-5c57-485e-9f6c-fcf56280b9b7",
   "metadata": {},
   "outputs": [
    {
     "data": {
      "text/plain": [
       "Index([44168], dtype='int64')"
      ]
     },
     "execution_count": 29,
     "metadata": {},
     "output_type": "execute_result"
    }
   ],
   "source": [
    "X_test2[X_test2['Never-worked']==True].index"
   ]
  },
  {
   "cell_type": "code",
   "execution_count": 30,
   "id": "a7e57ba1-3b9a-4e80-93c5-2a7ef6824f83",
   "metadata": {},
   "outputs": [],
   "source": [
    "X_test2 = X_test2.drop(44168)\n",
    "y_test2 = y_test2.drop(44168)\n",
    "X_test2 = X_test2.drop('Never-worked',axis=1)"
   ]
  },
  {
   "cell_type": "code",
   "execution_count": 31,
   "id": "0648c809-bc38-4b05-b135-9b791390139c",
   "metadata": {},
   "outputs": [],
   "source": [
    "test = fit.predict(X_test2)"
   ]
  },
  {
   "cell_type": "code",
   "execution_count": 32,
   "id": "f1bee0fb-7c82-4b96-8dde-3c64d8cdbb60",
   "metadata": {},
   "outputs": [
    {
     "data": {
      "text/plain": [
       "0.7941333333333334"
      ]
     },
     "execution_count": 32,
     "metadata": {},
     "output_type": "execute_result"
    }
   ],
   "source": [
    "metrics.accuracy_score(y_test2,test)"
   ]
  },
  {
   "cell_type": "markdown",
   "id": "ef509190-050d-4c47-a579-0acf434050af",
   "metadata": {},
   "source": [
    "We get an accuracy of 79.4%, which is not ideal but acceptable."
   ]
  },
  {
   "cell_type": "code",
   "execution_count": 33,
   "id": "2caae1b7-512e-44e5-b867-18381d1858d7",
   "metadata": {},
   "outputs": [
    {
     "data": {
      "text/plain": [
       "<sklearn.metrics._plot.roc_curve.RocCurveDisplay at 0x7f683c84f550>"
      ]
     },
     "execution_count": 33,
     "metadata": {},
     "output_type": "execute_result"
    },
    {
     "data": {
      "image/png": "[encoded data removed]",
      "text/plain": [
       "<Figure size 640x480 with 1 Axes>"
      ]
     },
     "metadata": {},
     "output_type": "display_data"
    }
   ],
   "source": [
    "metrics.RocCurveDisplay.from_estimator(fit,X_test2,y_test2)"
   ]
  },
  {
   "cell_type": "markdown",
   "id": "b6b739bd-597b-453c-9378-d6adad97bbe6",
   "metadata": {},
   "source": [
    "The ROC curve shows a similar result that we get a relatively large amount of false positives."
   ]
  },
  {
   "cell_type": "markdown",
   "id": "1b4c192a-0610-49c0-8b9f-85923ec733a5",
   "metadata": {},
   "source": [
    "## Reduced Model"
   ]
  },
  {
   "cell_type": "markdown",
   "id": "0356b3eb-b8ac-414a-806d-f50a2832a2c4",
   "metadata": {},
   "source": [
    "So far we have dropped a few variables that were clearly unnecessary. Looking at the columns, we see that it is not obvious what 'capital-gain' and 'capital-loss' represent. Even looking it up from the data source or related pages little elaboration is offered. As extra variables would make interpretation more difficult, we try to refit the model without them and see if the model suffers."
   ]
  },
  {
   "cell_type": "code",
   "execution_count": 34,
   "id": "72e397e1-3c17-4a41-b810-27997e7854e7",
   "metadata": {},
   "outputs": [],
   "source": [
    "X_train3 = X_train2.drop('capital-gain',axis=1)\n",
    "X_train3 = X_train3.drop('capital-loss',axis=1)\n",
    "fit2 = svm.SVC().fit(X_train3,y_train2.values.ravel())"
   ]
  },
  {
   "cell_type": "code",
   "execution_count": 35,
   "id": "67ce3cb0-c973-4baf-93e8-ffef58a2a758",
   "metadata": {},
   "outputs": [
    {
     "data": {
      "text/plain": [
       "0.8213333333333334"
      ]
     },
     "execution_count": 35,
     "metadata": {},
     "output_type": "execute_result"
    }
   ],
   "source": [
    "X_test3 = X_test2.drop('capital-gain',axis=1)\n",
    "X_test3 = X_test3.drop('capital-loss',axis=1)\n",
    "test2 = fit2.predict(X_test3)\n",
    "metrics.accuracy_score(y_test2,test2)"
   ]
  },
  {
   "cell_type": "code",
   "execution_count": 36,
   "id": "c4b0ff06-0706-4904-8c99-dc5aab91b5b9",
   "metadata": {},
   "outputs": [
    {
     "data": {
      "text/plain": [
       "<sklearn.metrics._plot.roc_curve.RocCurveDisplay at 0x7f683c84d780>"
      ]
     },
     "execution_count": 36,
     "metadata": {},
     "output_type": "execute_result"
    },
    {
     "data": {
      "image/png": "[encoded data removed]",
      "text/plain": [
       "<Figure size 640x480 with 1 Axes>"
      ]
     },
     "metadata": {},
     "output_type": "display_data"
    }
   ],
   "source": [
    "metrics.RocCurveDisplay.from_estimator(fit2,X_test3,y_test2)"
   ]
  },
  {
   "cell_type": "markdown",
   "id": "cc42165c-4461-4fbc-8747-23dbd1aad4a8",
   "metadata": {},
   "source": [
    "Encouragingly we see it is more accurate than the previous model, and marginally outperforms it in the ROC curve. So this seems to be the better model to adopt. "
   ]
  },
  {
   "cell_type": "markdown",
   "id": "4dd7728a-36c6-4e30-878f-0629f3a33315",
   "metadata": {},
   "source": [
    "## Conclusion"
   ]
  },
  {
   "cell_type": "markdown",
   "id": "f8b4b5ac-31ab-49b8-8672-c8db83d89bbc",
   "metadata": {},
   "source": [
    "In this report we looked at income data and tried to classify them into two groups. The SVM model used achieved a satisfactory accuracy as well as a decent ROC curve. We selected variables by intuitively considering whether they would be useful, and settled on a final model that includes all core factors that seemed useful, without excessive ones with little interpretive insight. From here one could carry out predictions the classes of new data, or perhaps analyse the fitted model to investigate the most influential factors that determine income. "
   ]
  },
  {
   "cell_type": "markdown",
   "id": "d8284d7c-28f1-45b4-adbb-777b22f965c3",
   "metadata": {},
   "source": [
    "## References"
   ]
  },
  {
   "cell_type": "markdown",
   "id": "1d31592f-76be-4660-8339-fac3d5486621",
   "metadata": {},
   "source": [
    "https://scikit-learn.org/1.5/modules/svm.html\n",
    "\n",
    "https://stackoverflow.com/questions/44931834/pandas-drop-function-error-label-not-contained-in-axis\n",
    "\n",
    "https://stackoverflow.com/questions/34165731/a-column-vector-y-was-passed-when-a-1d-array-was-expected  \n",
    "\n",
    "https://scikit-learn.org/1.5/auto_examples/miscellaneous/plot_roc_curve_visualization_api.html\n",
    "\n",
    "https://www.geeksforgeeks.org/determining-feature-importance-in-svm-classifiers-with-scikit-learn/"
   ]
  }
 ],
 "metadata": {
  "kernelspec": {
   "display_name": "Python 3 (ipykernel)",
   "language": "python",
   "name": "python3"
  },
  "language_info": {
   "codemirror_mode": {
    "name": "ipython",
    "version": 3
   },
   "file_extension": ".py",
   "mimetype": "text/x-python",
   "name": "python",
   "nbconvert_exporter": "python",
   "pygments_lexer": "ipython3",
   "version": "3.10.12"
  }
 },
 "nbformat": 4,
 "nbformat_minor": 5
}
