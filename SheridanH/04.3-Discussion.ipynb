{
 "cells": [
  {
   "cell_type": "markdown",
   "id": "ff5f5924-6ad0-4129-8456-82ca38fc64f2",
   "metadata": {},
   "source": [
    "# Discussion\n",
    "\n",
    "### Table of Contents:\n",
    "1. [Overview](#Overview)\n",
    "2. [Limitations](#Limitations)\n",
    "3. [Conclusion](#Conclusion)"
   ]
  },
  {
   "cell_type": "markdown",
   "id": "41e86943-ca0d-4315-a68a-71ccda61b083",
   "metadata": {},
   "source": [
    "# Overview\n",
    "\n",
    "In document `04.1-LogisticRegression.ipynb` we have applied a Logistic Regression model to our dataset, with the goal of predicting whether or not an individual earns more or less than 50k a year. We managed to attain a success rate of around 82%, which was unfortunately not easily improved, as investigated in `04.2-AttemptsAtImprovement.ipynb`. We attempted multiple methods of improvement, such as managing the missing data in the dataset vai removing rows or imputing the data, or through tuning the hyperparameters of the model using a cross-validation grid search method, however both were largely unsuccessful. This tells us that this dataset was not one that was easily predictable by this model, suggesting that there were limitations on our model."
   ]
  },
  {
   "cell_type": "markdown",
   "id": "1908fa38-d8f4-480d-b4c4-62039ef5bd46",
   "metadata": {},
   "source": [
    "# Limitations\n",
    "\n",
    "One big limitation of Logistic Regression is that the model assumes that there is a linear relationship between the independent variables and the log odds. This assumption may not strongly apply to our datset which is what causes the lower performance. In our dataset, rather than there being a linear relation between each feature and the target, it is likely that all features influence each other in some manner and this all comes together to influence the target variable, rather than each feature influencing it independtly. This is tied to how another big assumption is that the model assumes that there is little or no multicollinearity among the independent variables. This is unlikely for our model as several of the features will be influenced by other features. For example, `occupation` will be influenced by `education` and `workplace` and may also be influenced by other factors such as `native country`, `race`, and `sex`.\n",
    "\n",
    "On the other hand, the dataset itself is limited for this model. One big limitation was the large imbalance in data, especially for some of the features such as `native-country`, `race`, and `sex`, all features which would be likely to have a large impact on the target. This will lead to both underfitting and overfitting of the model, with it overinflating the importance of data that appears more frequently, and it being unable to learn the importance of the data that doesn't appear as often."
   ]
  },
  {
   "cell_type": "markdown",
   "id": "89486ba2-bb21-4ed8-a4d3-bddc29deebd9",
   "metadata": {},
   "source": [
    "# Conclusion\n",
    "\n",
    "We conclude that Logistic Regression is not an entirely appropriate model for our goal of predicting income. Whilst it was able to perform at around 82% accuracy, in reality this is an 18% failure rate which would not be acceptable for real world applications. The lack of flexibility in improving the model also suggests that the dataset did not adhere to the assumptions that are required for this model to perform well, and that other models would best be considered for this problem. \n",
    "\n",
    "When it comes to the question that we set out to answer:\n",
    "\n",
    "* How does the proportion of high income individuals vary by sex?\n",
    "\n",
    "This model suggests that females are less likely than males to earn more than 50k a year, at a rate of around 32%. This conclusion seems realistic but may be influenced by the imbalance of the data, with there being many more male individuals in the dataset than females. We tried to account for this by retaining the proportion of male to female individuals in both the training and testing datasets but it is unclear whether this was entirely effective so we can not be completely confident in this."
   ]
  }
 ],
 "metadata": {
  "kernelspec": {
   "display_name": "Python 3 (ipykernel)",
   "language": "python",
   "name": "python3"
  },
  "language_info": {
   "codemirror_mode": {
    "name": "ipython",
    "version": 3
   },
   "file_extension": ".py",
   "mimetype": "text/x-python",
   "name": "python",
   "nbconvert_exporter": "python",
   "pygments_lexer": "ipython3",
   "version": "3.11.1"
  }
 },
 "nbformat": 4,
 "nbformat_minor": 5
}
