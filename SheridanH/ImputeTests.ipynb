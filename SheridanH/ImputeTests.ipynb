{
 "cells": [
  {
   "cell_type": "code",
   "execution_count": 34,
   "id": "3a9ecf54-a751-4c60-bc10-e5a522b1de2c",
   "metadata": {},
   "outputs": [],
   "source": [
    "import numpy as np\n",
    "import pandas as pd\n",
    "import matplotlib.pyplot as plt\n",
    "from sklearn import datasets, linear_model\n",
    "from sklearn.metrics import classification_report,confusion_matrix,roc_curve,auc\n",
    "from sklearn.preprocessing import StandardScaler\n",
    "from sklearn.pipeline import make_pipeline"
   ]
  },
  {
   "cell_type": "code",
   "execution_count": 35,
   "id": "0831169f-27ab-4c1c-9aca-45cf80b137c4",
   "metadata": {},
   "outputs": [
    {
     "name": "stdout",
     "output_type": "stream",
     "text": [
      "age                  0\n",
      "workclass         2799\n",
      "fnlwgt               0\n",
      "education            0\n",
      "education-num        0\n",
      "marital-status       0\n",
      "occupation        2809\n",
      "relationship         0\n",
      "race                 0\n",
      "sex                  0\n",
      "capital-gain         0\n",
      "capital-loss         0\n",
      "hours-per-week       0\n",
      "native-country     857\n",
      "dtype: int64\n",
      "['State-gov' 'Self-emp-not-inc' 'Private' 'Federal-gov' 'Local-gov' nan\n",
      " 'Self-emp-inc' 'Without-pay' 'Never-worked']\n"
     ]
    }
   ],
   "source": [
    "X_train = pd.read_csv(\"../data/X_train.csv\", index_col=0)  # Use the first column as index\n",
    "y_train = pd.read_csv(\"../data/y_train.csv\", index_col=0)  # Use the first column as index\n",
    "X_test = pd.read_csv(\"../data/X_test.csv\", index_col=0)    # Use the first column as index\n",
    "y_test = pd.read_csv(\"../data/y_test.csv\", index_col=0)    # Use the first column as index\n",
    "\n",
    "print(X_train.isnull().sum())\n",
    "print(X_train['workclass'].unique())"
   ]
  },
  {
   "cell_type": "code",
   "execution_count": 36,
   "id": "42fe438c-6408-4862-9497-5c9d43768218",
   "metadata": {},
   "outputs": [
    {
     "data": {
      "text/plain": [
       "array([ 0,  1,  2,  3,  4, -1,  5,  6,  7], dtype=int64)"
      ]
     },
     "execution_count": 36,
     "metadata": {},
     "output_type": "execute_result"
    }
   ],
   "source": [
    "# We thus want to factorize the object variables. To do this to both the test and the train data whilst ensuring the same key is used\n",
    "# for both, we briefly concatinate the dataframes before splitting them back up\n",
    "X_all = pd.concat({'X_train':X_train, 'X_test':X_test})\n",
    "\n",
    "# Then we factorize\n",
    "objects = ['workclass','education','marital-status','occupation','relationship','race','sex','native-country']\n",
    "keys = [0]*len(objects)\n",
    "\n",
    "for i in range(len(objects)):\n",
    "    X_all[objects[i]], keys[i] = pd.factorize(X_all[objects[i]])\n",
    "\n",
    "# Then we return the original test train split\n",
    "X_train = X_all.loc['X_train']\n",
    "X_test = X_all.loc['X_test']\n",
    "\n",
    "X_train['workclass'].unique()"
   ]
  },
  {
   "cell_type": "code",
   "execution_count": 37,
   "id": "064e16af-f34b-456c-9dee-114f84095e55",
   "metadata": {},
   "outputs": [
    {
     "data": {
      "text/plain": [
       "dtype('int64')"
      ]
     },
     "execution_count": 37,
     "metadata": {},
     "output_type": "execute_result"
    }
   ],
   "source": [
    "X_train['workclass'].dtypes"
   ]
  },
  {
   "cell_type": "code",
   "execution_count": 46,
   "id": "3c414075-3784-4147-aa11-c9e1b96d75bd",
   "metadata": {},
   "outputs": [
    {
     "data": {
      "text/plain": [
       "array([ 0.,  1.,  2.,  3.,  4., nan,  5.,  6.,  7.])"
      ]
     },
     "execution_count": 46,
     "metadata": {},
     "output_type": "execute_result"
    }
   ],
   "source": [
    "missingcols = ['workclass','occupation','native-country']\n",
    "\n",
    "X_train_nan=X_train.copy()\n",
    "\n",
    "for col in missingcols:\n",
    "    X_train_nan.loc[X_train[col] == -1,col] = np.nan\n",
    "\n",
    "X_train_nan['workclass'].unique()"
   ]
  },
  {
   "cell_type": "code",
   "execution_count": 39,
   "id": "22a0c127-61ce-4f72-be13-5b8f94fed6bb",
   "metadata": {},
   "outputs": [
    {
     "data": {
      "text/plain": [
       "dtype('int64')"
      ]
     },
     "execution_count": 39,
     "metadata": {},
     "output_type": "execute_result"
    }
   ],
   "source": [
    "X_train['workclass'].dtypes"
   ]
  },
  {
   "cell_type": "code",
   "execution_count": 40,
   "id": "b632b491-d3f4-4028-92ae-6296ea669c39",
   "metadata": {},
   "outputs": [
    {
     "data": {
      "text/plain": [
       "array([0., 1., 2., 3., 4., 5., 6., 7.])"
      ]
     },
     "execution_count": 40,
     "metadata": {},
     "output_type": "execute_result"
    }
   ],
   "source": [
    "X_train_med = X_train_nan.copy()\n",
    "\n",
    "for col in missingcols:\n",
    "    col_median=X_train_nan[col].median()\n",
    "    X_train_med.fillna({col: col_median}, inplace=True)    \n",
    "\n",
    "X_train_med['workclass'].unique()"
   ]
  },
  {
   "cell_type": "code",
   "execution_count": 41,
   "id": "c460fa43-b6f9-4e9e-bee3-e23556f90178",
   "metadata": {},
   "outputs": [
    {
     "data": {
      "text/plain": [
       "array([0., 1., 2., 3., 4., 5., 6., 7.])"
      ]
     },
     "execution_count": 41,
     "metadata": {},
     "output_type": "execute_result"
    }
   ],
   "source": [
    "X_train_mean = X_train_nan.copy()\n",
    "\n",
    "for col in missingcols:\n",
    "    col_mean=int(X_train_nan[col].mean())\n",
    "    X_train_mean.fillna({col: col_mean}, inplace=True)    \n",
    "\n",
    "X_train_mean['workclass'].unique()"
   ]
  },
  {
   "cell_type": "code",
   "execution_count": 42,
   "id": "5ebf5948-848b-4ba9-adcb-7456391a6852",
   "metadata": {},
   "outputs": [
    {
     "name": "stdout",
     "output_type": "stream",
     "text": [
      "0.8258912857645698\n",
      "0.8201367445963829\n"
     ]
    }
   ],
   "source": [
    "pipe = make_pipeline(StandardScaler(), linear_model.LogisticRegression())\n",
    "\n",
    "pipe.fit(X_train, y_train.values.ravel())  # apply scaling on training data\n",
    "\n",
    "print(pipe.score(X_train, y_train))\n",
    "print(pipe.score(X_test, y_test))"
   ]
  },
  {
   "cell_type": "code",
   "execution_count": 43,
   "id": "2ac0b42b-7016-496d-8240-84c3034eed52",
   "metadata": {},
   "outputs": [
    {
     "name": "stdout",
     "output_type": "stream",
     "text": [
      "0.8261929903957359\n",
      "0.8194750771945302\n"
     ]
    }
   ],
   "source": [
    "pipe = make_pipeline(StandardScaler(), linear_model.LogisticRegression())\n",
    "\n",
    "pipe.fit(X_train_med, y_train.values.ravel())  # apply scaling on training data\n",
    "\n",
    "print(pipe.score(X_train_med, y_train))\n",
    "print(pipe.score(X_test, y_test))"
   ]
  },
  {
   "cell_type": "code",
   "execution_count": 44,
   "id": "16eb798a-0866-4bc7-a492-e5c9f63d4fac",
   "metadata": {},
   "outputs": [
    {
     "name": "stdout",
     "output_type": "stream",
     "text": [
      "0.8261175642379444\n",
      "0.819585355094839\n"
     ]
    }
   ],
   "source": [
    "pipe = make_pipeline(StandardScaler(), linear_model.LogisticRegression())\n",
    "\n",
    "pipe.fit(X_train_mean, y_train.values.ravel())  # apply scaling on training data\n",
    "\n",
    "print(pipe.score(X_train_mean, y_train))\n",
    "print(pipe.score(X_test, y_test))"
   ]
  },
  {
   "cell_type": "code",
   "execution_count": 47,
   "id": "e64ae065-24fe-4c6f-bf26-b398ebcc4918",
   "metadata": {},
   "outputs": [
    {
     "data": {
      "text/plain": [
       "age               1.000000\n",
       "workclass         0.929627\n",
       "fnlwgt            1.000000\n",
       "education         1.000000\n",
       "education-num     1.000000\n",
       "marital-status    1.000000\n",
       "occupation        0.929376\n",
       "relationship      1.000000\n",
       "race              1.000000\n",
       "sex               1.000000\n",
       "capital-gain      1.000000\n",
       "capital-loss      1.000000\n",
       "hours-per-week    1.000000\n",
       "native-country    0.978453\n",
       "dtype: float64"
      ]
     },
     "execution_count": 47,
     "metadata": {},
     "output_type": "execute_result"
    }
   ],
   "source": [
    "X_train_nan.notnull().mean()"
   ]
  },
  {
   "cell_type": "code",
   "execution_count": null,
   "id": "4b4dddd5-2cb3-4b4e-8529-7630d1d0cff4",
   "metadata": {},
   "outputs": [],
   "source": []
  }
 ],
 "metadata": {
  "kernelspec": {
   "display_name": "Python 3 (ipykernel)",
   "language": "python",
   "name": "python3"
  },
  "language_info": {
   "codemirror_mode": {
    "name": "ipython",
    "version": 3
   },
   "file_extension": ".py",
   "mimetype": "text/x-python",
   "name": "python",
   "nbconvert_exporter": "python",
   "pygments_lexer": "ipython3",
   "version": "3.11.1"
  }
 },
 "nbformat": 4,
 "nbformat_minor": 5
}
