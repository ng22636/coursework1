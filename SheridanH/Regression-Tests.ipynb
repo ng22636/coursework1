{
 "cells": [
  {
   "cell_type": "code",
   "execution_count": 1,
   "id": "67d05c8f-23a8-4016-8cda-b53a5511f375",
   "metadata": {},
   "outputs": [],
   "source": [
    "# pip install -r requirements.txt"
   ]
  },
  {
   "cell_type": "code",
   "execution_count": 2,
   "id": "c2ac4e0a-3c57-49fc-a354-622c1470c14f",
   "metadata": {},
   "outputs": [],
   "source": [
    "import numpy as np\n",
    "import pandas as pd\n",
    "import matplotlib.pyplot as plt\n",
    "import seaborn as sns\n",
    "from sklearn import datasets, linear_model\n",
    "from sklearn.metrics import classification_report,confusion_matrix,roc_curve,auc\n",
    "from sklearn.preprocessing import StandardScaler, MinMaxScaler\n",
    "from sklearn.pipeline import make_pipeline"
   ]
  },
  {
   "cell_type": "code",
   "execution_count": 3,
   "id": "37cfdba0-e7f1-4a05-8967-01066cf40d4b",
   "metadata": {},
   "outputs": [
    {
     "data": {
      "text/plain": [
       "(   age         workclass  fnlwgt  education  education-num  \\\n",
       " 0   39         State-gov   77516  Bachelors             13   \n",
       " 1   50  Self-emp-not-inc   83311  Bachelors             13   \n",
       " 2   38           Private  215646    HS-grad              9   \n",
       " 3   53           Private  234721       11th              7   \n",
       " 4   28           Private  338409  Bachelors             13   \n",
       " \n",
       "        marital-status         occupation   relationship   race     sex  \\\n",
       " 0       Never-married       Adm-clerical  Not-in-family  White    Male   \n",
       " 1  Married-civ-spouse    Exec-managerial        Husband  White    Male   \n",
       " 2            Divorced  Handlers-cleaners  Not-in-family  White    Male   \n",
       " 3  Married-civ-spouse  Handlers-cleaners        Husband  Black    Male   \n",
       " 4  Married-civ-spouse     Prof-specialty           Wife  Black  Female   \n",
       " \n",
       "    capital-gain  capital-loss  hours-per-week native-country  \n",
       " 0          2174             0              40  United-States  \n",
       " 1             0             0              13  United-States  \n",
       " 2             0             0              40  United-States  \n",
       " 3             0             0              40  United-States  \n",
       " 4             0             0              40           Cuba  ,\n",
       "   income\n",
       " 0  <=50K\n",
       " 1  <=50K\n",
       " 2  <=50K\n",
       " 3  <=50K\n",
       " 4  <=50K,\n",
       "        age workclass  fnlwgt     education  education-num      marital-status  \\\n",
       " 20156   18   Private  271935       HS-grad              9       Never-married   \n",
       " 28772   67   Private  160456          11th              7             Widowed   \n",
       " 1732    26   Private  314177       HS-grad              9       Never-married   \n",
       " 38871   31   Private  176711       HS-grad              9       Never-married   \n",
       " 27566   56   Private  134286  Some-college             10  Married-civ-spouse   \n",
       " \n",
       "               occupation   relationship   race     sex  capital-gain  \\\n",
       " 20156  Machine-op-inspct      Own-child  White  Female             0   \n",
       " 28772      Other-service  Not-in-family  White  Female             0   \n",
       " 1732               Sales  Not-in-family  Black    Male             0   \n",
       " 38871       Craft-repair  Not-in-family  White    Male             0   \n",
       " 27566    Exec-managerial        Husband  White    Male             0   \n",
       " \n",
       "        capital-loss  hours-per-week native-country  \n",
       " 20156             0              40  United-States  \n",
       " 28772             0              40  United-States  \n",
       " 1732              0              40  United-States  \n",
       " 38871             0              40  United-States  \n",
       " 27566             0              45  United-States  ,\n",
       "       income\n",
       " 20156  <=50K\n",
       " 28772  <=50K\n",
       " 1732   <=50K\n",
       " 38871  <=50K\n",
       " 27566  <=50K)"
      ]
     },
     "execution_count": 3,
     "metadata": {},
     "output_type": "execute_result"
    }
   ],
   "source": [
    "# Load the saved datasets from the CSV files\n",
    "X_train = pd.read_csv(\"../data/X_train.csv\", index_col=0)  # Use the first column as index\n",
    "y_train = pd.read_csv(\"../data/y_train.csv\", index_col=0)  # Use the first column as index\n",
    "X_test = pd.read_csv(\"../data/X_test.csv\", index_col=0)    # Use the first column as index\n",
    "y_test = pd.read_csv(\"../data/y_test.csv\", index_col=0)    # Use the first column as index\n",
    "\n",
    "# Display the first few rows of the loaded datasets\n",
    "(X_train.head(), y_train.head(), X_test.head(), y_test.head())"
   ]
  },
  {
   "cell_type": "code",
   "execution_count": 4,
   "id": "40b02291-b356-4d3d-a660-9441c90eec0b",
   "metadata": {},
   "outputs": [
    {
     "data": {
      "text/plain": [
       "(age                int64\n",
       " workclass         object\n",
       " fnlwgt             int64\n",
       " education         object\n",
       " education-num      int64\n",
       " marital-status    object\n",
       " occupation        object\n",
       " relationship      object\n",
       " race              object\n",
       " sex               object\n",
       " capital-gain       int64\n",
       " capital-loss       int64\n",
       " hours-per-week     int64\n",
       " native-country    object\n",
       " dtype: object,\n",
       " age                int64\n",
       " workclass         object\n",
       " fnlwgt             int64\n",
       " education         object\n",
       " education-num      int64\n",
       " marital-status    object\n",
       " occupation        object\n",
       " relationship      object\n",
       " race              object\n",
       " sex               object\n",
       " capital-gain       int64\n",
       " capital-loss       int64\n",
       " hours-per-week     int64\n",
       " native-country    object\n",
       " dtype: object)"
      ]
     },
     "execution_count": 4,
     "metadata": {},
     "output_type": "execute_result"
    }
   ],
   "source": [
    "# For running regression we need all of the features to be numbers, but currently we have:\n",
    "(X_train.dtypes,X_test.dtypes)"
   ]
  },
  {
   "cell_type": "code",
   "execution_count": 5,
   "id": "c526a070-6982-4398-b3a4-e650388b1947",
   "metadata": {},
   "outputs": [
    {
     "data": {
      "text/plain": [
       "(age               int64\n",
       " workclass         int64\n",
       " fnlwgt            int64\n",
       " education         int64\n",
       " education-num     int64\n",
       " marital-status    int64\n",
       " occupation        int64\n",
       " relationship      int64\n",
       " race              int64\n",
       " sex               int64\n",
       " capital-gain      int64\n",
       " capital-loss      int64\n",
       " hours-per-week    int64\n",
       " native-country    int64\n",
       " dtype: object,\n",
       " age               int64\n",
       " workclass         int64\n",
       " fnlwgt            int64\n",
       " education         int64\n",
       " education-num     int64\n",
       " marital-status    int64\n",
       " occupation        int64\n",
       " relationship      int64\n",
       " race              int64\n",
       " sex               int64\n",
       " capital-gain      int64\n",
       " capital-loss      int64\n",
       " hours-per-week    int64\n",
       " native-country    int64\n",
       " dtype: object)"
      ]
     },
     "execution_count": 5,
     "metadata": {},
     "output_type": "execute_result"
    }
   ],
   "source": [
    "# We thus want to factorize the object variables. To do this to both the test and the train data whilst ensuring the same key is used\n",
    "# for both, we briefly concatinate the dataframes before splitting them back up\n",
    "X_all = pd.concat({'X_train':X_train, 'X_test':X_test})\n",
    "\n",
    "# Then we factorize\n",
    "objects = ['workclass','education','marital-status','occupation','relationship','race','sex','native-country']\n",
    "keys = [0]*len(objects)\n",
    "\n",
    "for i in range(len(objects)):\n",
    "    X_all[objects[i]], keys[i] = pd.factorize(X_all[objects[i]])\n",
    "\n",
    "# Then we return the original test train split\n",
    "X_train = X_all.loc['X_train']\n",
    "X_test = X_all.loc['X_test']\n",
    "\n",
    "(X_train.dtypes,X_test.dtypes)"
   ]
  },
  {
   "cell_type": "code",
   "execution_count": 6,
   "id": "7195a99c-748d-4538-a5dc-3f29c6768ab7",
   "metadata": {},
   "outputs": [
    {
     "data": {
      "text/plain": [
       "(income    int64\n",
       " dtype: object,\n",
       " income    int64\n",
       " dtype: object)"
      ]
     },
     "execution_count": 6,
     "metadata": {},
     "output_type": "execute_result"
    }
   ],
   "source": [
    "# We thus want to factorize the object variables. To do this to both the test and the train data whilst ensuring the same key is used\n",
    "# for both, we briefly concatinate the dataframes before splitting them back up\n",
    "y_all = pd.concat({'y_train':y_train, 'y_test':y_test})\n",
    "\n",
    "# Then we factorize\n",
    "y_all['income'], income_key = pd.factorize(y_all['income'])\n",
    "\n",
    "# Then we return the original test train split\n",
    "y_train = y_all.loc['y_train']\n",
    "y_test = y_all.loc['y_test']\n",
    "\n",
    "(y_train.dtypes,y_test.dtypes)"
   ]
  },
  {
   "cell_type": "code",
   "execution_count": 7,
   "id": "4a173a99-3708-442f-9821-9e90d721dc99",
   "metadata": {},
   "outputs": [
    {
     "name": "stdout",
     "output_type": "stream",
     "text": [
      "0.798335596118067\n",
      "0.7900308778120865\n"
     ]
    },
    {
     "name": "stderr",
     "output_type": "stream",
     "text": [
      "C:\\Users\\Sheri\\AppData\\Local\\Programs\\Python\\Python311\\Lib\\site-packages\\sklearn\\linear_model\\_logistic.py:469: ConvergenceWarning: lbfgs failed to converge (status=1):\n",
      "STOP: TOTAL NO. of ITERATIONS REACHED LIMIT.\n",
      "\n",
      "Increase the number of iterations (max_iter) or scale the data as shown in:\n",
      "    https://scikit-learn.org/stable/modules/preprocessing.html\n",
      "Please also refer to the documentation for alternative solver options:\n",
      "    https://scikit-learn.org/stable/modules/linear_model.html#logistic-regression\n",
      "  n_iter_i = _check_optimize_result(\n"
     ]
    }
   ],
   "source": [
    "# Create logistic regression object\n",
    "lr = linear_model.LogisticRegression(max_iter=1000)\n",
    "\n",
    "# Train the model using the training sets\n",
    "lr.fit(X_train,y_train.values.ravel())\n",
    "\n",
    "# Make predictions using the testing set\n",
    "y_pred = lr.predict(X_test)\n",
    "\n",
    "print(lr.score(X_train,y_train))\n",
    "print(lr.score(X_test,y_test))"
   ]
  },
  {
   "cell_type": "code",
   "execution_count": 8,
   "id": "e1bbdacd-39a2-4cfd-8e71-1a875ce5dad0",
   "metadata": {},
   "outputs": [
    {
     "name": "stdout",
     "output_type": "stream",
     "text": [
      "0.8258912857645698\n",
      "0.8201367445963829\n"
     ]
    }
   ],
   "source": [
    "pipe = make_pipeline(StandardScaler(), linear_model.LogisticRegression())\n",
    "\n",
    "pipe.fit(X_train, y_train.values.ravel())  # apply scaling on training data\n",
    "y_pred2 = pipe.predict(X_test)\n",
    "\n",
    "print(pipe.score(X_train, y_train))\n",
    "print(pipe.score(X_test, y_test))"
   ]
  },
  {
   "cell_type": "code",
   "execution_count": 9,
   "id": "d671afa6-9f11-4e44-915f-15ce93aea546",
   "metadata": {},
   "outputs": [
    {
     "data": {
      "text/plain": [
       "income\n",
       "0         6862\n",
       "1         2206\n",
       "Name: count, dtype: int64"
      ]
     },
     "execution_count": 9,
     "metadata": {},
     "output_type": "execute_result"
    }
   ],
   "source": [
    "y_test.value_counts()"
   ]
  },
  {
   "cell_type": "code",
   "execution_count": 10,
   "id": "6f6e8e0f-20ee-4c06-a7f7-a4b295baeabe",
   "metadata": {},
   "outputs": [
    {
     "data": {
      "text/plain": [
       "0.7567269519188354"
      ]
     },
     "execution_count": 10,
     "metadata": {},
     "output_type": "execute_result"
    }
   ],
   "source": [
    "null_accuracy = (6862/(6862+2206))\n",
    "null_accuracy"
   ]
  },
  {
   "cell_type": "code",
   "execution_count": 32,
   "id": "1f5bd23b-dda3-439b-9e3d-d8a9a9ee5fa5",
   "metadata": {},
   "outputs": [
    {
     "name": "stdout",
     "output_type": "stream",
     "text": [
      "0.8258410016593755\n",
      "0.8204675782973092\n"
     ]
    }
   ],
   "source": [
    "pipe2 = make_pipeline(MinMaxScaler(), linear_model.LogisticRegression(C=100))\n",
    "\n",
    "pipe2.fit(X_train, y_train.values.ravel())  # apply scaling on training data\n",
    "y_pred3 = pipe2.predict(X_test)\n",
    "\n",
    "trainscore = pipe2.score(X_train, y_train)\n",
    "print(trainscore)\n",
    "testscore = pipe2.score(X_test, y_test)\n",
    "print(testscore)"
   ]
  },
  {
   "cell_type": "code",
   "execution_count": 12,
   "id": "7fd85c82-cc7e-4c55-8d35-eb6f92831e14",
   "metadata": {},
   "outputs": [],
   "source": [
    "import sklearn.metrics as metrics\n",
    "def regression_results(y_true, y_pred):\n",
    "\n",
    "    # Regression metrics\n",
    "    explained_variance=metrics.explained_variance_score(y_true, y_pred)\n",
    "    mean_absolute_error=metrics.mean_absolute_error(y_true, y_pred) \n",
    "    mse=metrics.mean_squared_error(y_true, y_pred) \n",
    "    mean_squared_log_error=metrics.mean_squared_log_error(y_true, y_pred)\n",
    "    median_absolute_error=metrics.median_absolute_error(y_true, y_pred)\n",
    "    r2=metrics.r2_score(y_true, y_pred)\n",
    "\n",
    "    print('explained_variance: ', round(explained_variance,4))    \n",
    "    print('mean_squared_log_error: ', round(mean_squared_log_error,4))\n",
    "    print('r2: ', round(r2,4))\n",
    "    print('MAE: ', round(mean_absolute_error,4))\n",
    "    print('MSE: ', round(mse,4))\n",
    "    print('RMSE: ', round(np.sqrt(mse),4))"
   ]
  },
  {
   "cell_type": "code",
   "execution_count": 13,
   "id": "f69f19fd-f043-4cf6-80fe-28ac4f648481",
   "metadata": {},
   "outputs": [
    {
     "name": "stdout",
     "output_type": "stream",
     "text": [
      "explained_variance:  -0.0115\n",
      "mean_squared_log_error:  0.1009\n",
      "r2:  -0.1406\n",
      "MAE:  0.21\n",
      "MSE:  0.21\n",
      "RMSE:  0.4582\n"
     ]
    }
   ],
   "source": [
    "# https://stackoverflow.com/questions/26319259/how-to-get-a-regression-summary-in-scikit-learn-like-r-does\n",
    "regression_results(y_test,y_pred)"
   ]
  },
  {
   "cell_type": "code",
   "execution_count": 14,
   "id": "39d82856-3252-4fa5-828f-b13a52acbc49",
   "metadata": {},
   "outputs": [
    {
     "data": {
      "text/plain": [
       "<matplotlib.legend.Legend at 0x28a981dbd50>"
      ]
     },
     "execution_count": 14,
     "metadata": {},
     "output_type": "execute_result"
    },
    {
     "data": {
      "image/png": "[encoded data removed]",
      "text/plain": [
       "<Figure size 640x480 with 1 Axes>"
      ]
     },
     "metadata": {},
     "output_type": "display_data"
    }
   ],
   "source": [
    "# https://www.kaggle.com/code/shubhamlipare/logistic-regression-with-auc-roc-curve\n",
    "y_predprob=lr.predict_proba(X_test)\n",
    "y_predprob2=pipe.predict_proba(X_test)\n",
    "fpr,tpr,threshold = roc_curve(y_test,y_predprob[:,1])\n",
    "fpr2,tpr2,threshold = roc_curve(y_test,y_predprob2[:,1])\n",
    "plt.plot(fpr,tpr)\n",
    "plt.plot(fpr2,tpr2)\n",
    "plt.plot([0, 1], [0, 1], '--', lw=5, color = 'grey')\n",
    "plt.xlabel('False positive rate')\n",
    "plt.ylabel('True positive rate')\n",
    "plt.title('ROC curve')\n",
    "plt.legend(['No Preprocessing','Preprocessing'])"
   ]
  },
  {
   "cell_type": "code",
   "execution_count": 15,
   "id": "1074a7d6-3d12-47d7-b47a-7f48d0defb45",
   "metadata": {},
   "outputs": [
    {
     "name": "stdout",
     "output_type": "stream",
     "text": [
      "0.7291075807930096\n",
      "0.8480098063282541\n"
     ]
    }
   ],
   "source": [
    "print(auc(fpr,tpr))\n",
    "print(auc(fpr2,tpr2))"
   ]
  },
  {
   "cell_type": "code",
   "execution_count": 16,
   "id": "9a38068d-702f-49ab-b216-2c85e3d1e96a",
   "metadata": {},
   "outputs": [
    {
     "name": "stdout",
     "output_type": "stream",
     "text": [
      "Confusion matrix\n",
      "\n",
      " [[6609  253]\n",
      " [1651  555]]\n",
      "\n",
      "True Positives(TP) =  6609\n",
      "\n",
      "True Negatives(TN) =  555\n",
      "\n",
      "False Positives(FP) =  253\n",
      "\n",
      "False Negatives(FN) =  1651\n"
     ]
    }
   ],
   "source": [
    "cm = confusion_matrix(y_test,y_pred)\n",
    "\n",
    "print('Confusion matrix\\n\\n', cm)\n",
    "\n",
    "print('\\nTrue Positives(TP) = ', cm[0,0])\n",
    "\n",
    "print('\\nTrue Negatives(TN) = ', cm[1,1])\n",
    "\n",
    "print('\\nFalse Positives(FP) = ', cm[0,1])\n",
    "\n",
    "print('\\nFalse Negatives(FN) = ', cm[1,0])"
   ]
  },
  {
   "cell_type": "code",
   "execution_count": 17,
   "id": "937fe1dd-42c7-4777-9c4d-158bc8cc2915",
   "metadata": {},
   "outputs": [
    {
     "data": {
      "text/plain": [
       "<Axes: >"
      ]
     },
     "execution_count": 17,
     "metadata": {},
     "output_type": "execute_result"
    },
    {
     "data": {
      "image/png": "[encoded data removed]",
      "text/plain": [
       "<Figure size 640x480 with 2 Axes>"
      ]
     },
     "metadata": {},
     "output_type": "display_data"
    }
   ],
   "source": [
    "cm_matrix = pd.DataFrame(data=cm, columns=['Actual Positive:1', 'Actual Negative:0'], \n",
    "                                 index=['Predict Positive:1', 'Predict Negative:0'])\n",
    "\n",
    "sns.heatmap(cm_matrix, annot=True, fmt='d', cmap='YlGnBu')"
   ]
  },
  {
   "cell_type": "code",
   "execution_count": 18,
   "id": "d01cac62-7e1d-40aa-a158-0c9ddb910882",
   "metadata": {},
   "outputs": [
    {
     "name": "stdout",
     "output_type": "stream",
     "text": [
      "Precision : 0.9631\n"
     ]
    }
   ],
   "source": [
    "TP = cm[0,0]\n",
    "TN = cm[1,1]\n",
    "FP = cm[0,1]\n",
    "FN = cm[1,0]\n",
    "\n",
    "precision = TP / float(TP + FP)\n",
    "\n",
    "print('Precision : {0:0.4f}'.format(precision))"
   ]
  },
  {
   "cell_type": "code",
   "execution_count": 19,
   "id": "6b11263b-c508-4d5d-b8be-73edac4c31c7",
   "metadata": {},
   "outputs": [
    {
     "name": "stdout",
     "output_type": "stream",
     "text": [
      "              precision    recall  f1-score   support\n",
      "\n",
      "           0       0.80      0.96      0.87      6862\n",
      "           1       0.69      0.25      0.37      2206\n",
      "\n",
      "    accuracy                           0.79      9068\n",
      "   macro avg       0.74      0.61      0.62      9068\n",
      "weighted avg       0.77      0.79      0.75      9068\n",
      "\n",
      "              precision    recall  f1-score   support\n",
      "\n",
      "           0       0.84      0.95      0.89      6862\n",
      "           1       0.72      0.43      0.54      2206\n",
      "\n",
      "    accuracy                           0.82      9068\n",
      "   macro avg       0.78      0.69      0.71      9068\n",
      "weighted avg       0.81      0.82      0.80      9068\n",
      "\n"
     ]
    }
   ],
   "source": [
    "print(classification_report(y_test,y_pred))\n",
    "print(classification_report(y_test,y_pred2))"
   ]
  },
  {
   "cell_type": "code",
   "execution_count": 20,
   "id": "06d30bb2-bcad-4ba4-aa87-74952ddca392",
   "metadata": {},
   "outputs": [
    {
     "data": {
      "text/plain": [
       "(0.0, 1.0)"
      ]
     },
     "execution_count": 20,
     "metadata": {},
     "output_type": "execute_result"
    },
    {
     "data": {
      "image/png": "[encoded data removed]",
      "text/plain": [
       "<Figure size 640x480 with 1 Axes>"
      ]
     },
     "metadata": {},
     "output_type": "display_data"
    }
   ],
   "source": [
    "y_pred1 = pipe.predict_proba(X_test)[:, 1]\n",
    "plt.hist(y_pred1,bins=10)\n",
    "plt.xlim(0,1)"
   ]
  },
  {
   "cell_type": "code",
   "execution_count": 21,
   "id": "53e74117-8e8d-45ed-8e04-7ffed0bee9ad",
   "metadata": {},
   "outputs": [
    {
     "name": "stdout",
     "output_type": "stream",
     "text": [
      "Cross validated ROC AUC : 0.8488\n"
     ]
    }
   ],
   "source": [
    "from sklearn.model_selection import cross_val_score\n",
    "\n",
    "Cross_validated_ROC_AUC = cross_val_score(pipe, X_train, y_train.values.ravel(), cv=5, scoring='roc_auc').mean()\n",
    "\n",
    "print('Cross validated ROC AUC : {:.4f}'.format(Cross_validated_ROC_AUC))"
   ]
  },
  {
   "cell_type": "code",
   "execution_count": 24,
   "id": "8bcc21c0-d524-429d-8c1b-2504a54521a2",
   "metadata": {},
   "outputs": [
    {
     "name": "stdout",
     "output_type": "stream",
     "text": [
      "Cross-validation scores:[0.82566501 0.82566501]\n",
      "Average cross-validation score: 0.8257 for cv = 2\n",
      "Cross-validation scores:[0.82225016 0.82941546 0.82878693 0.82564425 0.82323359]\n",
      "Average cross-validation score: 0.8259 for cv = 5\n",
      "Cross-validation scores:[0.82126697 0.82151835 0.82629462 0.83132227 0.82650239 0.83153131\n",
      " 0.82574805 0.82398793 0.82298215 0.82323359]\n",
      "Average cross-validation score: 0.8254 for cv = 10\n",
      "Cross-validation scores:[0.81521056 0.82840981 0.82023884 0.81395349 0.82966688 0.81332495\n",
      " 0.8372093  0.83092395 0.83155248 0.83469516 0.82149591 0.82338152\n",
      " 0.83972344 0.82526713 0.8372093  0.8265242  0.82589566 0.82401006\n",
      " 0.82338152 0.82463859 0.81143935 0.83469516 0.82715273 0.81646763\n",
      " 0.82578616]\n",
      "Average cross-validation score: 0.8257 for cv = 25\n",
      "Cross-validation scores:[0.81909548 0.80904523 0.81532663 0.84045226 0.82160804 0.82035176\n",
      " 0.80527638 0.82035176 0.82160804 0.8379397  0.80653266 0.82035176\n",
      " 0.83668342 0.8379397  0.83291457 0.82663317 0.83165829 0.82663317\n",
      " 0.83417085 0.83919598 0.82914573 0.81532663 0.81281407 0.83417085\n",
      " 0.8427673  0.83647799 0.8327044  0.82138365 0.83647799 0.8327044\n",
      " 0.84150943 0.81886792 0.83018868 0.81761006 0.82389937 0.82264151\n",
      " 0.82515723 0.82515723 0.82641509 0.82389937 0.81509434 0.80880503\n",
      " 0.83144654 0.83899371 0.82389937 0.83018868 0.80503145 0.82893082\n",
      " 0.81132075 0.83899371]\n",
      "Average cross-validation score: 0.8257 for cv = 50\n",
      "0.8258\n"
     ]
    }
   ],
   "source": [
    "from sklearn.model_selection import cross_val_score\n",
    "\n",
    "for x in [2,5,10,25,50]:\n",
    "    scores = cross_val_score(pipe, X_train, y_train.values.ravel(), cv = x, scoring='accuracy')\n",
    "    \n",
    "    print('Average cross-validation score: {:.4f} for cv = {}'.format(scores.mean(),x))\n",
    "\n",
    "print('{:.4f}'.format(trainscore))"
   ]
  },
  {
   "cell_type": "code",
   "execution_count": 23,
   "id": "7842b4a3-b238-4474-b8f5-0695b0f45076",
   "metadata": {},
   "outputs": [
    {
     "name": "stdout",
     "output_type": "stream",
     "text": [
      "Optimization terminated successfully.\n",
      "         Current function value: 0.448115\n",
      "         Iterations 8\n",
      "                           Logit Regression Results                           \n",
      "==============================================================================\n",
      "Dep. Variable:                 income   No. Observations:                39774\n",
      "Model:                          Logit   Df Residuals:                    39760\n",
      "Method:                           MLE   Df Model:                           13\n",
      "Date:                Sun, 20 Oct 2024   Pseudo R-squ.:                  0.1841\n",
      "Time:                        11:49:49   Log-Likelihood:                -17823.\n",
      "converged:                       True   LL-Null:                       -21844.\n",
      "Covariance Type:            nonrobust   LLR p-value:                     0.000\n",
      "==================================================================================\n",
      "                     coef    std err          z      P>|z|      [0.025      0.975]\n",
      "----------------------------------------------------------------------------------\n",
      "age                0.0015      0.001      1.535      0.125      -0.000       0.003\n",
      "workclass          0.1262      0.011     11.394      0.000       0.105       0.148\n",
      "fnlwgt         -2.352e-06   1.29e-07    -18.230      0.000   -2.61e-06    -2.1e-06\n",
      "education         -0.0492      0.004    -11.935      0.000      -0.057      -0.041\n",
      "education-num      0.0464      0.005     10.270      0.000       0.038       0.055\n",
      "marital-status    -0.0354      0.014     -2.585      0.010      -0.062      -0.009\n",
      "occupation        -0.1181      0.004    -27.194      0.000      -0.127      -0.110\n",
      "relationship      -0.3200      0.011    -28.510      0.000      -0.342      -0.298\n",
      "race              -0.2249      0.025     -8.857      0.000      -0.275      -0.175\n",
      "sex               -1.4647      0.036    -40.983      0.000      -1.535      -1.395\n",
      "capital-gain       0.0003   8.51e-06     39.595      0.000       0.000       0.000\n",
      "capital-loss       0.0007   2.79e-05     24.932      0.000       0.001       0.001\n",
      "hours-per-week    -0.0054      0.001     -5.298      0.000      -0.007      -0.003\n",
      "native-country    -0.0070      0.003     -2.178      0.029      -0.013      -0.001\n",
      "==================================================================================\n"
     ]
    }
   ],
   "source": [
    "import statsmodels.api as sm\n",
    "logit_model=sm.Logit(y_train,X_train)\n",
    "result=logit_model.fit()\n",
    "print(result.summary())"
   ]
  },
  {
   "cell_type": "code",
   "execution_count": 34,
   "id": "1d7479a8-033a-4df5-a652-d7ef95a8a78e",
   "metadata": {},
   "outputs": [
    {
     "name": "stdout",
     "output_type": "stream",
     "text": [
      "0.8257907175541811\n",
      "0.8258410016593755 \n",
      "\n",
      "0.8202470224966917\n",
      "0.8204675782973092\n"
     ]
    }
   ],
   "source": [
    "X_train2 = X_train.drop(axis=1,labels=['native-country'])\n",
    "X_test2 = X_test.drop(axis=1,labels=['native-country'])\n",
    "\n",
    "pipe5 = make_pipeline(StandardScaler(), linear_model.LogisticRegression())\n",
    "\n",
    "pipe5.fit(X_train2, y_train.values.ravel())  # apply scaling on training data\n",
    "y_pred2 = pipe5.predict(X_test2)\n",
    "\n",
    "print(pipe5.score(X_train2, y_train))\n",
    "print(trainscore,'\\n')\n",
    "print(pipe5.score(X_test2, y_test))\n",
    "print(testscore)"
   ]
  },
  {
   "cell_type": "code",
   "execution_count": 35,
   "id": "d285221a-d61d-4439-8040-d68707a50b25",
   "metadata": {},
   "outputs": [
    {
     "data": {
      "text/html": [
       "<div>\n",
       "<style scoped>\n",
       "    .dataframe tbody tr th:only-of-type {\n",
       "        vertical-align: middle;\n",
       "    }\n",
       "\n",
       "    .dataframe tbody tr th {\n",
       "        vertical-align: top;\n",
       "    }\n",
       "\n",
       "    .dataframe thead th {\n",
       "        text-align: right;\n",
       "    }\n",
       "</style>\n",
       "<table border=\"1\" class=\"dataframe\">\n",
       "  <thead>\n",
       "    <tr style=\"text-align: right;\">\n",
       "      <th></th>\n",
       "      <th>age</th>\n",
       "      <th>workclass</th>\n",
       "      <th>fnlwgt</th>\n",
       "      <th>education</th>\n",
       "      <th>education-num</th>\n",
       "      <th>marital-status</th>\n",
       "      <th>occupation</th>\n",
       "      <th>relationship</th>\n",
       "      <th>race</th>\n",
       "      <th>sex</th>\n",
       "      <th>capital-gain</th>\n",
       "      <th>capital-loss</th>\n",
       "      <th>hours-per-week</th>\n",
       "      <th>native-country</th>\n",
       "    </tr>\n",
       "  </thead>\n",
       "  <tbody>\n",
       "    <tr>\n",
       "      <th>0</th>\n",
       "      <td>39</td>\n",
       "      <td>0</td>\n",
       "      <td>77516</td>\n",
       "      <td>0</td>\n",
       "      <td>13</td>\n",
       "      <td>0</td>\n",
       "      <td>0</td>\n",
       "      <td>0</td>\n",
       "      <td>0</td>\n",
       "      <td>0</td>\n",
       "      <td>2174</td>\n",
       "      <td>0</td>\n",
       "      <td>40</td>\n",
       "      <td>0</td>\n",
       "    </tr>\n",
       "    <tr>\n",
       "      <th>1</th>\n",
       "      <td>50</td>\n",
       "      <td>1</td>\n",
       "      <td>83311</td>\n",
       "      <td>0</td>\n",
       "      <td>13</td>\n",
       "      <td>1</td>\n",
       "      <td>1</td>\n",
       "      <td>1</td>\n",
       "      <td>0</td>\n",
       "      <td>0</td>\n",
       "      <td>0</td>\n",
       "      <td>0</td>\n",
       "      <td>13</td>\n",
       "      <td>0</td>\n",
       "    </tr>\n",
       "    <tr>\n",
       "      <th>2</th>\n",
       "      <td>38</td>\n",
       "      <td>2</td>\n",
       "      <td>215646</td>\n",
       "      <td>1</td>\n",
       "      <td>9</td>\n",
       "      <td>2</td>\n",
       "      <td>2</td>\n",
       "      <td>0</td>\n",
       "      <td>0</td>\n",
       "      <td>0</td>\n",
       "      <td>0</td>\n",
       "      <td>0</td>\n",
       "      <td>40</td>\n",
       "      <td>0</td>\n",
       "    </tr>\n",
       "    <tr>\n",
       "      <th>3</th>\n",
       "      <td>53</td>\n",
       "      <td>2</td>\n",
       "      <td>234721</td>\n",
       "      <td>2</td>\n",
       "      <td>7</td>\n",
       "      <td>1</td>\n",
       "      <td>2</td>\n",
       "      <td>1</td>\n",
       "      <td>1</td>\n",
       "      <td>0</td>\n",
       "      <td>0</td>\n",
       "      <td>0</td>\n",
       "      <td>40</td>\n",
       "      <td>0</td>\n",
       "    </tr>\n",
       "    <tr>\n",
       "      <th>4</th>\n",
       "      <td>28</td>\n",
       "      <td>2</td>\n",
       "      <td>338409</td>\n",
       "      <td>0</td>\n",
       "      <td>13</td>\n",
       "      <td>1</td>\n",
       "      <td>3</td>\n",
       "      <td>2</td>\n",
       "      <td>1</td>\n",
       "      <td>1</td>\n",
       "      <td>0</td>\n",
       "      <td>0</td>\n",
       "      <td>40</td>\n",
       "      <td>1</td>\n",
       "    </tr>\n",
       "    <tr>\n",
       "      <th>...</th>\n",
       "      <td>...</td>\n",
       "      <td>...</td>\n",
       "      <td>...</td>\n",
       "      <td>...</td>\n",
       "      <td>...</td>\n",
       "      <td>...</td>\n",
       "      <td>...</td>\n",
       "      <td>...</td>\n",
       "      <td>...</td>\n",
       "      <td>...</td>\n",
       "      <td>...</td>\n",
       "      <td>...</td>\n",
       "      <td>...</td>\n",
       "      <td>...</td>\n",
       "    </tr>\n",
       "    <tr>\n",
       "      <th>48837</th>\n",
       "      <td>39</td>\n",
       "      <td>2</td>\n",
       "      <td>215419</td>\n",
       "      <td>0</td>\n",
       "      <td>13</td>\n",
       "      <td>2</td>\n",
       "      <td>3</td>\n",
       "      <td>0</td>\n",
       "      <td>0</td>\n",
       "      <td>1</td>\n",
       "      <td>0</td>\n",
       "      <td>0</td>\n",
       "      <td>36</td>\n",
       "      <td>0</td>\n",
       "    </tr>\n",
       "    <tr>\n",
       "      <th>48838</th>\n",
       "      <td>64</td>\n",
       "      <td>-1</td>\n",
       "      <td>321403</td>\n",
       "      <td>1</td>\n",
       "      <td>9</td>\n",
       "      <td>6</td>\n",
       "      <td>-1</td>\n",
       "      <td>5</td>\n",
       "      <td>1</td>\n",
       "      <td>0</td>\n",
       "      <td>0</td>\n",
       "      <td>0</td>\n",
       "      <td>40</td>\n",
       "      <td>0</td>\n",
       "    </tr>\n",
       "    <tr>\n",
       "      <th>48839</th>\n",
       "      <td>38</td>\n",
       "      <td>2</td>\n",
       "      <td>374983</td>\n",
       "      <td>0</td>\n",
       "      <td>13</td>\n",
       "      <td>1</td>\n",
       "      <td>3</td>\n",
       "      <td>1</td>\n",
       "      <td>0</td>\n",
       "      <td>0</td>\n",
       "      <td>0</td>\n",
       "      <td>0</td>\n",
       "      <td>50</td>\n",
       "      <td>0</td>\n",
       "    </tr>\n",
       "    <tr>\n",
       "      <th>48840</th>\n",
       "      <td>44</td>\n",
       "      <td>2</td>\n",
       "      <td>83891</td>\n",
       "      <td>0</td>\n",
       "      <td>13</td>\n",
       "      <td>2</td>\n",
       "      <td>0</td>\n",
       "      <td>3</td>\n",
       "      <td>2</td>\n",
       "      <td>0</td>\n",
       "      <td>5455</td>\n",
       "      <td>0</td>\n",
       "      <td>40</td>\n",
       "      <td>0</td>\n",
       "    </tr>\n",
       "    <tr>\n",
       "      <th>48841</th>\n",
       "      <td>35</td>\n",
       "      <td>5</td>\n",
       "      <td>182148</td>\n",
       "      <td>0</td>\n",
       "      <td>13</td>\n",
       "      <td>1</td>\n",
       "      <td>1</td>\n",
       "      <td>1</td>\n",
       "      <td>0</td>\n",
       "      <td>0</td>\n",
       "      <td>0</td>\n",
       "      <td>0</td>\n",
       "      <td>60</td>\n",
       "      <td>0</td>\n",
       "    </tr>\n",
       "  </tbody>\n",
       "</table>\n",
       "<p>39774 rows × 14 columns</p>\n",
       "</div>"
      ],
      "text/plain": [
       "       age  workclass  fnlwgt  education  education-num  marital-status  \\\n",
       "0       39          0   77516          0             13               0   \n",
       "1       50          1   83311          0             13               1   \n",
       "2       38          2  215646          1              9               2   \n",
       "3       53          2  234721          2              7               1   \n",
       "4       28          2  338409          0             13               1   \n",
       "...    ...        ...     ...        ...            ...             ...   \n",
       "48837   39          2  215419          0             13               2   \n",
       "48838   64         -1  321403          1              9               6   \n",
       "48839   38          2  374983          0             13               1   \n",
       "48840   44          2   83891          0             13               2   \n",
       "48841   35          5  182148          0             13               1   \n",
       "\n",
       "       occupation  relationship  race  sex  capital-gain  capital-loss  \\\n",
       "0               0             0     0    0          2174             0   \n",
       "1               1             1     0    0             0             0   \n",
       "2               2             0     0    0             0             0   \n",
       "3               2             1     1    0             0             0   \n",
       "4               3             2     1    1             0             0   \n",
       "...           ...           ...   ...  ...           ...           ...   \n",
       "48837           3             0     0    1             0             0   \n",
       "48838          -1             5     1    0             0             0   \n",
       "48839           3             1     0    0             0             0   \n",
       "48840           0             3     2    0          5455             0   \n",
       "48841           1             1     0    0             0             0   \n",
       "\n",
       "       hours-per-week  native-country  \n",
       "0                  40               0  \n",
       "1                  13               0  \n",
       "2                  40               0  \n",
       "3                  40               0  \n",
       "4                  40               1  \n",
       "...               ...             ...  \n",
       "48837              36               0  \n",
       "48838              40               0  \n",
       "48839              50               0  \n",
       "48840              40               0  \n",
       "48841              60               0  \n",
       "\n",
       "[39774 rows x 14 columns]"
      ]
     },
     "execution_count": 35,
     "metadata": {},
     "output_type": "execute_result"
    }
   ],
   "source": [
    "X_train"
   ]
  },
  {
   "cell_type": "code",
   "execution_count": 36,
   "id": "a276b307-31f7-40b7-9ace-7c822278fbd0",
   "metadata": {},
   "outputs": [
    {
     "data": {
      "text/plain": [
       "[Index(['State-gov', 'Self-emp-not-inc', 'Private', 'Federal-gov', 'Local-gov',\n",
       "        'Self-emp-inc', 'Without-pay', 'Never-worked'],\n",
       "       dtype='object'),\n",
       " Index(['Bachelors', 'HS-grad', '11th', '9th', 'Masters', 'Some-college',\n",
       "        'Assoc-acdm', 'Assoc-voc', '7th-8th', 'Doctorate', '10th',\n",
       "        'Prof-school', '1st-4th', '5th-6th', 'Preschool', '12th'],\n",
       "       dtype='object'),\n",
       " Index(['Never-married', 'Married-civ-spouse', 'Divorced',\n",
       "        'Married-spouse-absent', 'Separated', 'Married-AF-spouse', 'Widowed'],\n",
       "       dtype='object'),\n",
       " Index(['Adm-clerical', 'Exec-managerial', 'Handlers-cleaners',\n",
       "        'Prof-specialty', 'Other-service', 'Sales', 'Craft-repair',\n",
       "        'Transport-moving', 'Farming-fishing', 'Tech-support',\n",
       "        'Protective-serv', 'Machine-op-inspct', 'Priv-house-serv',\n",
       "        'Armed-Forces'],\n",
       "       dtype='object'),\n",
       " Index(['Not-in-family', 'Husband', 'Wife', 'Own-child', 'Unmarried',\n",
       "        'Other-relative'],\n",
       "       dtype='object'),\n",
       " Index(['White', 'Black', 'Asian-Pac-Islander', 'Amer-Indian-Eskimo', 'Other'], dtype='object'),\n",
       " Index(['Male', 'Female'], dtype='object'),\n",
       " Index(['United-States', 'Cuba', 'Jamaica', 'India', 'Mexico', 'South',\n",
       "        'Puerto-Rico', 'England', 'Canada', 'Germany', 'Iran', 'Philippines',\n",
       "        'Italy', 'Columbia', 'Cambodia', 'Thailand', 'Ecuador', 'Laos',\n",
       "        'Taiwan', 'Haiti', 'Portugal', 'El-Salvador', 'Poland', 'France',\n",
       "        'Dominican-Republic', 'Honduras', 'Guatemala', 'China', 'Japan',\n",
       "        'Yugoslavia', 'Peru', 'Outlying-US(Guam-USVI-etc)', 'Trinadad&Tobago',\n",
       "        'Nicaragua', 'Greece', 'Hong', 'Vietnam', 'Ireland', 'Scotland',\n",
       "        'Hungary', 'Holand-Netherlands'],\n",
       "       dtype='object')]"
      ]
     },
     "execution_count": 36,
     "metadata": {},
     "output_type": "execute_result"
    }
   ],
   "source": [
    "keys"
   ]
  },
  {
   "cell_type": "code",
   "execution_count": 3,
   "id": "ed9f9733-9168-4154-9869-2d5aec7e3254",
   "metadata": {},
   "outputs": [
    {
     "data": {
      "text/plain": [
       "\u001b[1;31mSignature:\u001b[0m\n",
       "\u001b[0mclassification_report\u001b[0m\u001b[1;33m(\u001b[0m\u001b[1;33m\n",
       "\u001b[0m    \u001b[0my_true\u001b[0m\u001b[1;33m,\u001b[0m\u001b[1;33m\n",
       "\u001b[0m    \u001b[0my_pred\u001b[0m\u001b[1;33m,\u001b[0m\u001b[1;33m\n",
       "\u001b[0m    \u001b[1;33m*\u001b[0m\u001b[1;33m,\u001b[0m\u001b[1;33m\n",
       "\u001b[0m    \u001b[0mlabels\u001b[0m\u001b[1;33m=\u001b[0m\u001b[1;32mNone\u001b[0m\u001b[1;33m,\u001b[0m\u001b[1;33m\n",
       "\u001b[0m    \u001b[0mtarget_names\u001b[0m\u001b[1;33m=\u001b[0m\u001b[1;32mNone\u001b[0m\u001b[1;33m,\u001b[0m\u001b[1;33m\n",
       "\u001b[0m    \u001b[0msample_weight\u001b[0m\u001b[1;33m=\u001b[0m\u001b[1;32mNone\u001b[0m\u001b[1;33m,\u001b[0m\u001b[1;33m\n",
       "\u001b[0m    \u001b[0mdigits\u001b[0m\u001b[1;33m=\u001b[0m\u001b[1;36m2\u001b[0m\u001b[1;33m,\u001b[0m\u001b[1;33m\n",
       "\u001b[0m    \u001b[0moutput_dict\u001b[0m\u001b[1;33m=\u001b[0m\u001b[1;32mFalse\u001b[0m\u001b[1;33m,\u001b[0m\u001b[1;33m\n",
       "\u001b[0m    \u001b[0mzero_division\u001b[0m\u001b[1;33m=\u001b[0m\u001b[1;34m'warn'\u001b[0m\u001b[1;33m,\u001b[0m\u001b[1;33m\n",
       "\u001b[0m\u001b[1;33m)\u001b[0m\u001b[1;33m\u001b[0m\u001b[1;33m\u001b[0m\u001b[0m\n",
       "\u001b[1;31mDocstring:\u001b[0m\n",
       "Build a text report showing the main classification metrics.\n",
       "\n",
       "Read more in the :ref:`User Guide <classification_report>`.\n",
       "\n",
       "Parameters\n",
       "----------\n",
       "y_true : 1d array-like, or label indicator array / sparse matrix\n",
       "    Ground truth (correct) target values.\n",
       "\n",
       "y_pred : 1d array-like, or label indicator array / sparse matrix\n",
       "    Estimated targets as returned by a classifier.\n",
       "\n",
       "labels : array-like of shape (n_labels,), default=None\n",
       "    Optional list of label indices to include in the report.\n",
       "\n",
       "target_names : array-like of shape (n_labels,), default=None\n",
       "    Optional display names matching the labels (same order).\n",
       "\n",
       "sample_weight : array-like of shape (n_samples,), default=None\n",
       "    Sample weights.\n",
       "\n",
       "digits : int, default=2\n",
       "    Number of digits for formatting output floating point values.\n",
       "    When ``output_dict`` is ``True``, this will be ignored and the\n",
       "    returned values will not be rounded.\n",
       "\n",
       "output_dict : bool, default=False\n",
       "    If True, return output as dict.\n",
       "\n",
       "    .. versionadded:: 0.20\n",
       "\n",
       "zero_division : {\"warn\", 0.0, 1.0, np.nan}, default=\"warn\"\n",
       "    Sets the value to return when there is a zero division. If set to\n",
       "    \"warn\", this acts as 0, but warnings are also raised.\n",
       "\n",
       "    .. versionadded:: 1.3\n",
       "       `np.nan` option was added.\n",
       "\n",
       "Returns\n",
       "-------\n",
       "report : str or dict\n",
       "    Text summary of the precision, recall, F1 score for each class.\n",
       "    Dictionary returned if output_dict is True. Dictionary has the\n",
       "    following structure::\n",
       "\n",
       "        {'label 1': {'precision':0.5,\n",
       "                     'recall':1.0,\n",
       "                     'f1-score':0.67,\n",
       "                     'support':1},\n",
       "         'label 2': { ... },\n",
       "          ...\n",
       "        }\n",
       "\n",
       "    The reported averages include macro average (averaging the unweighted\n",
       "    mean per label), weighted average (averaging the support-weighted mean\n",
       "    per label), and sample average (only for multilabel classification).\n",
       "    Micro average (averaging the total true positives, false negatives and\n",
       "    false positives) is only shown for multi-label or multi-class\n",
       "    with a subset of classes, because it corresponds to accuracy\n",
       "    otherwise and would be the same for all metrics.\n",
       "    See also :func:`precision_recall_fscore_support` for more details\n",
       "    on averages.\n",
       "\n",
       "    Note that in binary classification, recall of the positive class\n",
       "    is also known as \"sensitivity\"; recall of the negative class is\n",
       "    \"specificity\".\n",
       "\n",
       "See Also\n",
       "--------\n",
       "precision_recall_fscore_support: Compute precision, recall, F-measure and\n",
       "    support for each class.\n",
       "confusion_matrix: Compute confusion matrix to evaluate the accuracy of a\n",
       "    classification.\n",
       "multilabel_confusion_matrix: Compute a confusion matrix for each class or sample.\n",
       "\n",
       "Examples\n",
       "--------\n",
       ">>> from sklearn.metrics import classification_report\n",
       ">>> y_true = [0, 1, 2, 2, 2]\n",
       ">>> y_pred = [0, 0, 2, 2, 1]\n",
       ">>> target_names = ['class 0', 'class 1', 'class 2']\n",
       ">>> print(classification_report(y_true, y_pred, target_names=target_names))\n",
       "              precision    recall  f1-score   support\n",
       "<BLANKLINE>\n",
       "     class 0       0.50      1.00      0.67         1\n",
       "     class 1       0.00      0.00      0.00         1\n",
       "     class 2       1.00      0.67      0.80         3\n",
       "<BLANKLINE>\n",
       "    accuracy                           0.60         5\n",
       "   macro avg       0.50      0.56      0.49         5\n",
       "weighted avg       0.70      0.60      0.61         5\n",
       "<BLANKLINE>\n",
       ">>> y_pred = [1, 1, 0]\n",
       ">>> y_true = [1, 1, 1]\n",
       ">>> print(classification_report(y_true, y_pred, labels=[1, 2, 3]))\n",
       "              precision    recall  f1-score   support\n",
       "<BLANKLINE>\n",
       "           1       1.00      0.67      0.80         3\n",
       "           2       0.00      0.00      0.00         0\n",
       "           3       0.00      0.00      0.00         0\n",
       "<BLANKLINE>\n",
       "   micro avg       1.00      0.67      0.80         3\n",
       "   macro avg       0.33      0.22      0.27         3\n",
       "weighted avg       1.00      0.67      0.80         3\n",
       "<BLANKLINE>\n",
       "\u001b[1;31mFile:\u001b[0m      c:\\users\\sheri\\appdata\\local\\programs\\python\\python311\\lib\\site-packages\\sklearn\\metrics\\_classification.py\n",
       "\u001b[1;31mType:\u001b[0m      function"
      ]
     },
     "metadata": {},
     "output_type": "display_data"
    }
   ],
   "source": [
    "?classification_report"
   ]
  },
  {
   "cell_type": "code",
   "execution_count": null,
   "id": "6ce72f29-cb33-437b-96c2-4be628c79753",
   "metadata": {},
   "outputs": [],
   "source": []
  }
 ],
 "metadata": {
  "kernelspec": {
   "display_name": "Python 3 (ipykernel)",
   "language": "python",
   "name": "python3"
  },
  "language_info": {
   "codemirror_mode": {
    "name": "ipython",
    "version": 3
   },
   "file_extension": ".py",
   "mimetype": "text/x-python",
   "name": "python",
   "nbconvert_exporter": "python",
   "pygments_lexer": "ipython3",
   "version": "3.11.1"
  }
 },
 "nbformat": 4,
 "nbformat_minor": 5
}
